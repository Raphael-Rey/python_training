{
 "cells": [
  {
   "cell_type": "markdown",
   "id": "f65644b9",
   "metadata": {},
   "source": [
    "# Dictionaries in Python"
   ]
  },
  {
   "cell_type": "code",
   "execution_count": 22,
   "id": "0150a8dc",
   "metadata": {},
   "outputs": [],
   "source": [
    "import json"
   ]
  },
  {
   "cell_type": "code",
   "execution_count": 23,
   "id": "f8ef6f34",
   "metadata": {},
   "outputs": [],
   "source": [
    "base_dict = {\"key1\": \"value1\",\n",
    "             \"key2\": \"value2\",\n",
    "             \"key3\": \"value3\"}"
   ]
  },
  {
   "cell_type": "code",
   "execution_count": 24,
   "id": "59e32245",
   "metadata": {},
   "outputs": [
    {
     "data": {
      "text/plain": [
       "'value1'"
      ]
     },
     "execution_count": 24,
     "metadata": {},
     "output_type": "execute_result"
    }
   ],
   "source": [
    "base_dict['key1']"
   ]
  },
  {
   "cell_type": "code",
   "execution_count": 25,
   "id": "c97365bd",
   "metadata": {},
   "outputs": [
    {
     "data": {
      "text/plain": [
       "'value2'"
      ]
     },
     "execution_count": 25,
     "metadata": {},
     "output_type": "execute_result"
    }
   ],
   "source": [
    "base_dict['key2']"
   ]
  },
  {
   "cell_type": "code",
   "execution_count": null,
   "id": "f5be3173",
   "metadata": {},
   "outputs": [],
   "source": [
    "# Add a value\n",
    "base_dict['key4'] = 'value4'"
   ]
  },
  {
   "cell_type": "code",
   "execution_count": null,
   "id": "0a9ee947",
   "metadata": {},
   "outputs": [],
   "source": [
    "# Change a value\n",
    "base_dict['key2'] = 'value2bis'"
   ]
  },
  {
   "cell_type": "code",
   "execution_count": null,
   "id": "21e36df7",
   "metadata": {},
   "outputs": [],
   "source": [
    "# Delete a value\n",
    "del base_dict['key3']"
   ]
  },
  {
   "cell_type": "code",
   "execution_count": 21,
   "id": "543b3143",
   "metadata": {},
   "outputs": [
    {
     "name": "stdout",
     "output_type": "stream",
     "text": [
      "\"key3\" dans base_dict\n"
     ]
    }
   ],
   "source": [
    "# Check if a key exists\n",
    "if 'key3' in base_dict:\n",
    "    print('\"key3\" dans base_dict')"
   ]
  },
  {
   "cell_type": "code",
   "execution_count": 10,
   "id": "75089276",
   "metadata": {},
   "outputs": [
    {
     "name": "stdout",
     "output_type": "stream",
     "text": [
      "key1 : value1\n",
      "key2 : value2\n",
      "key3 : value3\n"
     ]
    }
   ],
   "source": [
    "# Iterate over a dictionary\n",
    "for key in base_dict:\n",
    "    print(key, ':' , base_dict[key])"
   ]
  },
  {
   "cell_type": "code",
   "execution_count": 19,
   "id": "3994789a",
   "metadata": {},
   "outputs": [
    {
     "data": {
      "text/plain": [
       "dict_items([('key1', 'value1'), ('key2', 'value2'), ('key3', 'value3')])"
      ]
     },
     "execution_count": 19,
     "metadata": {},
     "output_type": "execute_result"
    }
   ],
   "source": [
    "# Iterate over a dictionary (`items` method)\n",
    "base_dict.items()"
   ]
  },
  {
   "cell_type": "code",
   "execution_count": null,
   "id": "147db52b",
   "metadata": {},
   "outputs": [],
   "source": [
    "for key, value in base_dict.items():\n",
    "    print(key, ':', value)"
   ]
  },
  {
   "cell_type": "code",
   "execution_count": 16,
   "id": "f1538315",
   "metadata": {},
   "outputs": [
    {
     "data": {
      "text/plain": [
       "'{\"key1\": \"value1\", \"key2\": \"value2\", \"key3\": \"value3\"}'"
      ]
     },
     "execution_count": 16,
     "metadata": {},
     "output_type": "execute_result"
    }
   ],
   "source": [
    "# Json data are dictionaries\n",
    "json.dumps(base_dict)"
   ]
  },
  {
   "cell_type": "code",
   "execution_count": 26,
   "id": "7779ecd1",
   "metadata": {},
   "outputs": [],
   "source": [
    "with open('data.json', 'w') as f:\n",
    "    json.dump(base_dict, f)"
   ]
  },
  {
   "cell_type": "code",
   "execution_count": 27,
   "id": "78430e1a",
   "metadata": {},
   "outputs": [],
   "source": [
    "with open('data.json', 'r') as f:\n",
    "    new_dict = json.load(f)"
   ]
  },
  {
   "cell_type": "code",
   "execution_count": 28,
   "id": "f1def915",
   "metadata": {},
   "outputs": [
    {
     "data": {
      "text/plain": [
       "{'key1': 'value1', 'key2': 'value2', 'key3': 'value3'}"
      ]
     },
     "execution_count": 28,
     "metadata": {},
     "output_type": "execute_result"
    }
   ],
   "source": [
    "new_dict"
   ]
  },
  {
   "cell_type": "code",
   "execution_count": null,
   "id": "2cf4a561",
   "metadata": {},
   "outputs": [],
   "source": []
  }
 ],
 "metadata": {
  "kernelspec": {
   "display_name": "Python 3 (ipykernel)",
   "language": "python",
   "name": "python3"
  },
  "language_info": {
   "codemirror_mode": {
    "name": "ipython",
    "version": 3
   },
   "file_extension": ".py",
   "mimetype": "text/x-python",
   "name": "python",
   "nbconvert_exporter": "python",
   "pygments_lexer": "ipython3",
   "version": "3.9.7"
  }
 },
 "nbformat": 4,
 "nbformat_minor": 5
}
