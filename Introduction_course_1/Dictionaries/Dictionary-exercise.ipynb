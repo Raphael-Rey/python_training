{
 "cells": [
  {
   "cell_type": "markdown",
   "id": "d5bce406",
   "metadata": {},
   "source": [
    "# Exercise dictionaries in python"
   ]
  },
  {
   "cell_type": "code",
   "execution_count": 9,
   "id": "77a0210a",
   "metadata": {},
   "outputs": [],
   "source": [
    "import json"
   ]
  },
  {
   "cell_type": "code",
   "execution_count": 10,
   "id": "8b19b1f0",
   "metadata": {},
   "outputs": [],
   "source": [
    "with open('user_0000958644032657.json') as f:\n",
    "    user = json.load(f)"
   ]
  },
  {
   "cell_type": "code",
   "execution_count": 8,
   "id": "4dea6bcd",
   "metadata": {},
   "outputs": [
    {
     "data": {
      "text/plain": [
       "{'record_type': {'value': 'PUBLIC', 'desc': 'Public'},\n",
       " 'primary_id': '0000958644032657@test.eduid.ch',\n",
       " 'first_name': 'Raphaël',\n",
       " 'middle_name': '',\n",
       " 'last_name': 'Rey',\n",
       " 'full_name': 'Raphaël Rey',\n",
       " 'user_title': {'value': '', 'desc': ''},\n",
       " 'job_category': {'value': '', 'desc': ''},\n",
       " 'job_description': '',\n",
       " 'gender': {'value': '', 'desc': ''},\n",
       " 'user_group': {'value': '01', 'desc': ' Swiss Resident'},\n",
       " 'campus_code': {'value': None, 'desc': ''},\n",
       " 'web_site_url': '',\n",
       " 'cataloger_level': {'value': '00', 'desc': '[00] view only'},\n",
       " 'preferred_language': {'value': 'fr', 'desc': 'French'},\n",
       " 'birth_date': '1927-04-03Z',\n",
       " 'account_type': {'value': 'EXTERNAL', 'desc': 'External'},\n",
       " 'external_id': 'edu-ID',\n",
       " 'password': '',\n",
       " 'force_password_change': '',\n",
       " 'status': {'value': 'ACTIVE', 'desc': 'Active'},\n",
       " 'status_date': '2022-03-11Z',\n",
       " 'requests': None,\n",
       " 'loans': None,\n",
       " 'fees': None,\n",
       " 'contact_info': {'address': [{'line1': 'Boton 116',\n",
       "    'line2': None,\n",
       "    'line3': None,\n",
       "    'line4': None,\n",
       "    'line5': None,\n",
       "    'city': 'Bex',\n",
       "    'state_province': '',\n",
       "    'postal_code': '1880',\n",
       "    'country': {'value': 'CHE', 'desc': 'Switzerland'},\n",
       "    'address_note': 'Unverified',\n",
       "    'preferred': True,\n",
       "    'segment_type': 'External',\n",
       "    'address_type': [{'value': 'home', 'desc': 'Home'}]}],\n",
       "  'email': [{'email_address': 'rrraphaaa@mailinator.com',\n",
       "    'description': 'User-managed e-mail',\n",
       "    'preferred': False,\n",
       "    'segment_type': 'External',\n",
       "    'email_type': [{'value': 'personal', 'desc': 'Personal'}]},\n",
       "   {'email_address': 'rrraphaa@mailinator.com',\n",
       "    'description': 'User-managed e-mail',\n",
       "    'preferred': False,\n",
       "    'segment_type': 'External',\n",
       "    'email_type': [{'value': 'personal', 'desc': 'Personal'}]},\n",
       "   {'email_address': 'rrrapha@mailinator.com',\n",
       "    'description': 'Primary contact e-mail chosen by user',\n",
       "    'preferred': True,\n",
       "    'segment_type': 'External',\n",
       "    'email_type': [{'value': 'personal', 'desc': 'Personal'}]}],\n",
       "  'phone': [{'phone_number': '+41 32 33433443',\n",
       "    'preferred': True,\n",
       "    'preferred_sms': False,\n",
       "    'segment_type': 'External',\n",
       "    'phone_type': [{'value': 'home', 'desc': 'Home'}]}]},\n",
       " 'pref_first_name': '',\n",
       " 'pref_middle_name': '',\n",
       " 'pref_last_name': '',\n",
       " 'pref_name_suffix': '',\n",
       " 'is_researcher': False,\n",
       " 'researcher': None,\n",
       " 'link': None,\n",
       " 'user_identifier': [{'value': 'e0a24befa0fa28f248238383306384db924a57944f3985d2',\n",
       "   'id_type': {'value': '05', 'desc': 'PersistentID edu-ID'},\n",
       "   'note': 'edu-ID persistentID (hex value)',\n",
       "   'status': 'ACTIVE',\n",
       "   'segment_type': 'External'},\n",
       "  {'value': 'e121200123',\n",
       "   'id_type': {'value': '02', 'desc': 'Barcode NZ'},\n",
       "   'note': 'Added by admin from IZ bverw on 2022-03-11 13:54:00.',\n",
       "   'status': 'ACTIVE',\n",
       "   'segment_type': 'External'},\n",
       "  {'value': '87654321',\n",
       "   'id_type': {'value': '02', 'desc': 'Barcode NZ'},\n",
       "   'note': 'Added by admin from 41SLSP_HPH on 2022-05-17',\n",
       "   'status': 'ACTIVE',\n",
       "   'segment_type': 'External'},\n",
       "  {'value': '87-654-321',\n",
       "   'id_type': {'value': '02', 'desc': 'Barcode NZ'},\n",
       "   'note': 'Added by admin from 41SLSP_HPH on 2022-05-17',\n",
       "   'status': 'ACTIVE',\n",
       "   'segment_type': 'External'}],\n",
       " 'user_role': [{'status': {'value': 'ACTIVE', 'desc': 'Active'},\n",
       "   'scope': {'value': '41SLSP_NETWORK', 'desc': 'SLSP Network Zone'},\n",
       "   'role_type': {'value': '200', 'desc': 'Patron'},\n",
       "   'parameter': []}],\n",
       " 'user_block': [],\n",
       " 'user_note': [{'note_type': {'value': 'OTHER', 'desc': 'Other'},\n",
       "   'note_text': 'Registration Info: Initial registration via IZ network.',\n",
       "   'user_viewable': False,\n",
       "   'popup_note': False,\n",
       "   'created_by': 'registration-test.slsp.ch',\n",
       "   'created_date': '2022-03-11T12:25:25Z',\n",
       "   'segment_type': 'External'},\n",
       "  {'note_type': {'value': 'ADDRESS', 'desc': 'Address'},\n",
       "   'note_text': 'Test note',\n",
       "   'user_viewable': False,\n",
       "   'popup_note': False,\n",
       "   'created_by': 'admin',\n",
       "   'created_date': '2022-07-05T07:01:00.712Z',\n",
       "   'segment_type': 'Internal'}],\n",
       " 'user_statistic': [],\n",
       " 'proxy_for_user': []}"
      ]
     },
     "execution_count": 8,
     "metadata": {},
     "output_type": "execute_result"
    }
   ],
   "source": [
    "user"
   ]
  },
  {
   "cell_type": "code",
   "execution_count": 14,
   "id": "b2899f98",
   "metadata": {},
   "outputs": [],
   "source": [
    "# 1. Print the primary id"
   ]
  },
  {
   "cell_type": "code",
   "execution_count": 13,
   "id": "27f755a5",
   "metadata": {},
   "outputs": [],
   "source": [
    "# 2. Change the Birthdate "
   ]
  },
  {
   "cell_type": "code",
   "execution_count": 12,
   "id": "45b7cfa7",
   "metadata": {},
   "outputs": [],
   "source": [
    "# 3. Delete the Note with \"Test note\" as note_text"
   ]
  },
  {
   "cell_type": "code",
   "execution_count": null,
   "id": "d6a386db",
   "metadata": {},
   "outputs": [],
   "source": [
    "# 4. Print all the first level keys of a user"
   ]
  },
  {
   "cell_type": "code",
   "execution_count": 11,
   "id": "93baaed0",
   "metadata": {},
   "outputs": [],
   "source": [
    "# 5. Iterate on identifiers and print each of them (only the value of the identifier)"
   ]
  },
  {
   "cell_type": "code",
   "execution_count": null,
   "id": "4062d614",
   "metadata": {},
   "outputs": [],
   "source": [
    "# 6. Save the modified json data in a new file"
   ]
  }
 ],
 "metadata": {
  "kernelspec": {
   "display_name": "Python 3 (ipykernel)",
   "language": "python",
   "name": "python3"
  },
  "language_info": {
   "codemirror_mode": {
    "name": "ipython",
    "version": 3
   },
   "file_extension": ".py",
   "mimetype": "text/x-python",
   "name": "python",
   "nbconvert_exporter": "python",
   "pygments_lexer": "ipython3",
   "version": "3.9.13"
  }
 },
 "nbformat": 4,
 "nbformat_minor": 5
}
