{
 "cells": [
  {
   "cell_type": "markdown",
   "id": "fcad97ef",
   "metadata": {},
   "source": [
    "# Sets in python\n",
    "Two important features of sets:\n",
    "* **Sets have never duplicates**\n",
    "* **Sets have no order**\n",
    "\n",
    "Sets are very useful to compare list and to deduplicate them.\n",
    "\n",
    "```python\n",
    "set_a = {1, 2, 3, 4, 5}\n",
    "set_b = {4, 5, 6, 7, 8}\n",
    "list_a = [5, 10, 11, 11]\n",
    "```\n",
    "\n",
    "### Deduplicate a list\n",
    "```python\n",
    "deduplicaed_list = list(set(list_a))\n",
    "print(deduplicaed_list)\n",
    "```\n",
    "Result: `[5, 10, 11]`\n",
    "\n",
    "*Note: order is not always preserved.*\n",
    "\n",
    "### Add a new item\n",
    "```python\n",
    "set_a.add(15)\n",
    "print(set_a)\n",
    "```\n",
    "Result: `{1, 2, 3, 4, 5, 15}`\n",
    "\n",
    "### Add a list of new items\n",
    "```python\n",
    "set_a.update(list_a)\n",
    "print(set_a)\n",
    "```\n",
    "Result: `{1, 2, 3, 4, 5, 10, 11}`\n",
    "\n",
    "### Remove an item\n",
    "```python\n",
    "set_a.remove(2)\n",
    "print(set_a)\n",
    "```\n",
    "Result: `{1, 3, 4, 5}`\n",
    "\n",
    "### Union of two sets\n",
    "I want all the items of the two sets. \n",
    "```python\n",
    "set_c = set_a.union(set_b)\n",
    "print(set_c)\n",
    "```\n",
    "Result: `{1, 2, 3, 4, 5, 6, 7, 8}`\n",
    "\n",
    "*Note: `set_a` and `set_b` will be unchanged. Same for the two last sections.*\n",
    "\n",
    "### Intersection of two sets\n",
    "I want only the common items of `set_a` and `set_b`.\n",
    "```python\n",
    "set_c = set_a.intersection(set_b)\n",
    "print(set_c)\n",
    "```\n",
    "Result: `{4, 5}`\n",
    "\n",
    "### Difference of two sets\n",
    "I want to remove from `set_a` all the items of `set_b`.\n",
    "```python\n",
    "set_c = set_a - set_b\n",
    "print(set_c)\n",
    "```\n",
    "Result: `{1, 2, 3}`"
   ]
  },
  {
   "cell_type": "code",
   "execution_count": 1,
   "id": "478a7c39",
   "metadata": {},
   "outputs": [
    {
     "name": "stdout",
     "output_type": "stream",
     "text": [
      "[10, 11, 5]\n"
     ]
    }
   ],
   "source": [
    "# Deduplicate a list\n",
    "\n",
    "set_a = {1, 2, 3, 4, 5}\n",
    "\n",
    "deduplicaed_list = list(set(list_a))\n",
    "print(deduplicaed_list)"
   ]
  },
  {
   "cell_type": "code",
   "execution_count": 2,
   "id": "3c85f048",
   "metadata": {},
   "outputs": [
    {
     "name": "stdout",
     "output_type": "stream",
     "text": [
      "{1, 2, 3, 4, 5, 15}\n"
     ]
    }
   ],
   "source": [
    "# Add a new item\n",
    "\n",
    "set_a = {1, 2, 3, 4, 5}\n",
    "\n",
    "set_a.add(15)\n",
    "print(set_a)"
   ]
  },
  {
   "cell_type": "code",
   "execution_count": 3,
   "id": "b9f1ba4d",
   "metadata": {},
   "outputs": [
    {
     "name": "stdout",
     "output_type": "stream",
     "text": [
      "{1, 2, 3, 4, 5, 10, 11}\n"
     ]
    }
   ],
   "source": [
    "# Add a list of new items\n",
    "\n",
    "set_a = {1, 2, 3, 4, 5}\n",
    "list_a = [5, 10, 11, 11]\n",
    "\n",
    "set_a.update(list_a)\n",
    "print(set_a)"
   ]
  },
  {
   "cell_type": "code",
   "execution_count": 4,
   "id": "664a3738",
   "metadata": {},
   "outputs": [
    {
     "name": "stdout",
     "output_type": "stream",
     "text": [
      "{1, 3, 4, 5}\n"
     ]
    }
   ],
   "source": [
    "# Remove an item\n",
    "\n",
    "set_a = {1, 2, 3, 4, 5}\n",
    "\n",
    "set_a.remove(2)\n",
    "print(set_a)"
   ]
  },
  {
   "cell_type": "code",
   "execution_count": 5,
   "id": "effdffbe",
   "metadata": {},
   "outputs": [
    {
     "name": "stdout",
     "output_type": "stream",
     "text": [
      "{1, 2, 3, 4, 5, 6, 7, 8}\n"
     ]
    }
   ],
   "source": [
    "# Union of two sets\n",
    "\n",
    "set_a = {1, 2, 3, 4, 5}\n",
    "set_b = {4, 5, 6, 7, 8}\n",
    "\n",
    "set_c = set_a.union(set_b)\n",
    "print(set_c)"
   ]
  },
  {
   "cell_type": "code",
   "execution_count": 6,
   "id": "4b5cb9f1",
   "metadata": {},
   "outputs": [
    {
     "name": "stdout",
     "output_type": "stream",
     "text": [
      "{4, 5}\n"
     ]
    }
   ],
   "source": [
    "# Intersection of two sets\n",
    "\n",
    "set_a = {1, 2, 3, 4, 5}\n",
    "set_b = {4, 5, 6, 7, 8}\n",
    "\n",
    "set_c = set_a.intersection(set_b)\n",
    "print(set_c)"
   ]
  },
  {
   "cell_type": "code",
   "execution_count": 7,
   "id": "bb3d28e8",
   "metadata": {},
   "outputs": [
    {
     "name": "stdout",
     "output_type": "stream",
     "text": [
      "{1, 2, 3}\n"
     ]
    }
   ],
   "source": [
    "# Difference of two sets\n",
    "\n",
    "set_a = {1, 2, 3, 4, 5}\n",
    "set_b = {4, 5, 6, 7, 8}\n",
    "\n",
    "set_c = set_a - set_b\n",
    "print(set_c)"
   ]
  },
  {
   "cell_type": "code",
   "execution_count": null,
   "id": "f9282c1b",
   "metadata": {},
   "outputs": [],
   "source": []
  }
 ],
 "metadata": {
  "kernelspec": {
   "display_name": "Python 3 (ipykernel)",
   "language": "python",
   "name": "python3"
  },
  "language_info": {
   "codemirror_mode": {
    "name": "ipython",
    "version": 3
   },
   "file_extension": ".py",
   "mimetype": "text/x-python",
   "name": "python",
   "nbconvert_exporter": "python",
   "pygments_lexer": "ipython3",
   "version": "3.9.13"
  }
 },
 "nbformat": 4,
 "nbformat_minor": 5
}
