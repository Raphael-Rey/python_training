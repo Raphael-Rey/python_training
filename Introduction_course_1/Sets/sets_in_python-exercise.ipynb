{
 "cells": [
  {
   "cell_type": "markdown",
   "id": "ffc72340",
   "metadata": {},
   "source": [
    "# Sets in python - exercise"
   ]
  },
  {
   "cell_type": "code",
   "execution_count": null,
   "id": "d29bbb67",
   "metadata": {},
   "outputs": [],
   "source": [
    "import pandas as pd\n",
    "isbns_a = list(pd.read_csv('ISBN_A.csv')['ISBN'].values)\n",
    "isbns_b = list(pd.read_csv('ISBN_B.csv')['ISBN'].values)"
   ]
  },
  {
   "cell_type": "code",
   "execution_count": null,
   "id": "27b3d51a",
   "metadata": {},
   "outputs": [],
   "source": [
    "# To begin: transform the list to sets"
   ]
  },
  {
   "cell_type": "code",
   "execution_count": null,
   "id": "eb38c485",
   "metadata": {},
   "outputs": [],
   "source": [
    "# Exercise 1: how many duplicated isbns are in `isbns_a`?"
   ]
  },
  {
   "cell_type": "code",
   "execution_count": null,
   "id": "30fe4962",
   "metadata": {},
   "outputs": [],
   "source": [
    "# Exercise 2: how many isbns are in `isbns_a` and in `isbns_b`?"
   ]
  },
  {
   "cell_type": "code",
   "execution_count": null,
   "id": "2d1d5f6b",
   "metadata": {},
   "outputs": [],
   "source": [
    "# Exercise 3: how many isbns are only in `isbns_a`? "
   ]
  },
  {
   "cell_type": "code",
   "execution_count": null,
   "id": "27452afd",
   "metadata": {},
   "outputs": [],
   "source": [
    "# Exercise 4: how many unique isbns do we have if we combine the two lists? "
   ]
  },
  {
   "cell_type": "code",
   "execution_count": null,
   "id": "b94a8901",
   "metadata": {},
   "outputs": [],
   "source": [
    "# Exercise 5: how many unique isbns in `isbns_a` start with \"1\""
   ]
  },
  {
   "cell_type": "code",
   "execution_count": null,
   "id": "1e72836e",
   "metadata": {},
   "outputs": [],
   "source": []
  }
 ],
 "metadata": {
  "kernelspec": {
   "display_name": "Python 3 (ipykernel)",
   "language": "python",
   "name": "python3"
  },
  "language_info": {
   "codemirror_mode": {
    "name": "ipython",
    "version": 3
   },
   "file_extension": ".py",
   "mimetype": "text/x-python",
   "name": "python",
   "nbconvert_exporter": "python",
   "pygments_lexer": "ipython3",
   "version": "3.9.12"
  }
 },
 "nbformat": 4,
 "nbformat_minor": 5
}
