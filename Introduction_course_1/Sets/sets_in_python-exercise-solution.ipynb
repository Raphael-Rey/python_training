{
 "cells": [
  {
   "cell_type": "markdown",
   "id": "ffc72340",
   "metadata": {},
   "source": [
    "# Sets in python - exercise - solution"
   ]
  },
  {
   "cell_type": "code",
   "execution_count": 1,
   "id": "d29bbb67",
   "metadata": {},
   "outputs": [],
   "source": [
    "import pandas as pd\n",
    "isbns_a = list(pd.read_csv('isbns_A.csv')['ISBN'].values)\n",
    "isbns_b = list(pd.read_csv('ISBN_B.csv')['ISBN'].values)"
   ]
  },
  {
   "cell_type": "code",
   "execution_count": 2,
   "id": "27b3d51a",
   "metadata": {},
   "outputs": [],
   "source": [
    "# To begin: transform the list to sets\n",
    "isbns_a_set = set(isbns_a)\n",
    "isbns_b_set = set(isbns_b)"
   ]
  },
  {
   "cell_type": "code",
   "execution_count": 3,
   "id": "eb38c485",
   "metadata": {},
   "outputs": [
    {
     "data": {
      "text/plain": [
       "6"
      ]
     },
     "execution_count": 3,
     "metadata": {},
     "output_type": "execute_result"
    }
   ],
   "source": [
    "# Exercise 1: how many duplicated isbns are in `isbns_a`?\n",
    "len(isbns_a) - len(isbns_a_set)"
   ]
  },
  {
   "cell_type": "code",
   "execution_count": 5,
   "id": "30fe4962",
   "metadata": {},
   "outputs": [
    {
     "data": {
      "text/plain": [
       "set()"
      ]
     },
     "execution_count": 5,
     "metadata": {},
     "output_type": "execute_result"
    }
   ],
   "source": [
    "# Exercise 2: how many isbns are in `isbns_a` and in `isbns_b`?\n",
    "isbns_a_set.intersection(isbns_b_set)"
   ]
  },
  {
   "cell_type": "code",
   "execution_count": 7,
   "id": "2c1860ed",
   "metadata": {},
   "outputs": [
    {
     "name": "stdout",
     "output_type": "stream",
     "text": [
      "10\n"
     ]
    }
   ],
   "source": [
    "# We have 0 results, but what if we add some values of isbns_a to isbns_b_set...\n",
    "isbns_b_set.update(isbns_a[:10]) # We add the 10 first of the list\n",
    "print(len(isbns_a_set.intersection(isbns_b_set)))\n",
    "# =>  now we have 10 isbns in common."
   ]
  },
  {
   "cell_type": "code",
   "execution_count": 8,
   "id": "2d1d5f6b",
   "metadata": {},
   "outputs": [
    {
     "data": {
      "text/plain": [
       "223"
      ]
     },
     "execution_count": 8,
     "metadata": {},
     "output_type": "execute_result"
    }
   ],
   "source": [
    "# Exercise 3: how many isbns are only in `isbns_a`?\n",
    "len(isbns_a_set - isbns_b_set)"
   ]
  },
  {
   "cell_type": "code",
   "execution_count": 10,
   "id": "27452afd",
   "metadata": {},
   "outputs": [
    {
     "name": "stdout",
     "output_type": "stream",
     "text": [
      "1246\n",
      "1246\n"
     ]
    }
   ],
   "source": [
    "# Exercise 4: how many unique isbns do we have if we combine the two lists?\n",
    "print(len(set.union(isbns_a_set, isbns_b_set))) # Solution with `set.union(set1, set2, set3)`\n",
    "print(len(isbns_a_set.union(isbns_b_set))) # Solution with set1.union(set2)"
   ]
  },
  {
   "cell_type": "code",
   "execution_count": 11,
   "id": "b94a8901",
   "metadata": {},
   "outputs": [
    {
     "data": {
      "text/plain": [
       "130"
      ]
     },
     "execution_count": 11,
     "metadata": {},
     "output_type": "execute_result"
    }
   ],
   "source": [
    "# Exercise 5: how many unique isbns in `isbns_a` start with \"1\"\n",
    "\n",
    "# we can use a comprehension set!\n",
    "len({isbn for isbn in isbns_a_set if isbn.startswith('1')})"
   ]
  },
  {
   "cell_type": "code",
   "execution_count": null,
   "id": "1e72836e",
   "metadata": {},
   "outputs": [],
   "source": []
  }
 ],
 "metadata": {
  "kernelspec": {
   "display_name": "Python 3 (ipykernel)",
   "language": "python",
   "name": "python3"
  },
  "language_info": {
   "codemirror_mode": {
    "name": "ipython",
    "version": 3
   },
   "file_extension": ".py",
   "mimetype": "text/x-python",
   "name": "python",
   "nbconvert_exporter": "python",
   "pygments_lexer": "ipython3",
   "version": "3.9.13"
  }
 },
 "nbformat": 4,
 "nbformat_minor": 5
}
