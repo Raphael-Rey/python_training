{
 "cells": [
  {
   "cell_type": "markdown",
   "id": "eb79bd4e",
   "metadata": {},
   "source": [
    "# Classes in python: a very short introduction"
   ]
  },
  {
   "cell_type": "markdown",
   "id": "3a4650e1",
   "metadata": {},
   "source": [
    "## Procedural code"
   ]
  },
  {
   "cell_type": "code",
   "execution_count": 2,
   "id": "3e3a13e6",
   "metadata": {},
   "outputs": [
    {
     "name": "stdout",
     "output_type": "stream",
     "text": [
      "Title 1 - 2010\n",
      "['Raphaël Rey', 'Timothée Rey']\n"
     ]
    }
   ],
   "source": [
    "book = {'title': 'Title 1',\n",
    "        'year': 2010}\n",
    "print(f\"{book['title']} - {book['year']}\")\n",
    "book['authors'] = ['Raphaël Rey']\n",
    "book['authors'].append('Timothée Rey')\n",
    "print(book['authors'])"
   ]
  },
  {
   "cell_type": "markdown",
   "id": "39b10b15",
   "metadata": {},
   "source": [
    "## Oriented object code"
   ]
  },
  {
   "cell_type": "code",
   "execution_count": 3,
   "id": "1c8615ad",
   "metadata": {},
   "outputs": [],
   "source": [
    "class Book: # Name of classes are in Camel case\n",
    "    \"\"\"\n",
    "    This class represents a book\n",
    "    \"\"\"\n",
    "    def __init__(self, title, authors=[], year=None):\n",
    "        \"\"\"\n",
    "        Constructor of a book, the title at least is required\n",
    "        \"\"\"\n",
    "        self.title = title\n",
    "        self.authors = authors\n",
    "        self.year = year\n",
    "        \n",
    "    def display_title_year(self):\n",
    "        \"\"\"\n",
    "        This method displays the tilte following by the year.\n",
    "        \n",
    "        An error message is diplayed if no year exists.\n",
    "        \"\"\"\n",
    "        if self.year is not None:\n",
    "            print(f'{self.title} - {self.year}')\n",
    "        else:\n",
    "            print('No year provided')"
   ]
  },
  {
   "cell_type": "code",
   "execution_count": 30,
   "id": "5c992a47",
   "metadata": {},
   "outputs": [
    {
     "name": "stdout",
     "output_type": "stream",
     "text": [
      "Title 1 - 2010\n",
      "Title 2 - 2020\n",
      "No year provided\n"
     ]
    }
   ],
   "source": [
    "book1 = Book('Title 1', year=2010)\n",
    "book1.display_title_year()\n",
    "book2 = Book('Title 2', year=2020)\n",
    "book2.display_title_year()\n",
    "book3 = Book('Title 3')\n",
    "book3.display_title_year()"
   ]
  },
  {
   "cell_type": "markdown",
   "id": "846f8260",
   "metadata": {},
   "source": [
    "## Some comments\n",
    "* Constructor is used at each creation of a new object. The constructor is always `__init__`. Underscores indicate special method.\n",
    "* Methods are simply functions in classes\n",
    "* Attributes are variables in a object\n",
    "* `self` is used to make reference to the object itself, you must add it as first parameter in each method\n",
    "* It's a good practice to indicate all the attributes in the constructor. Please no surprise attribute.\n"
   ]
  },
  {
   "cell_type": "markdown",
   "id": "1152f664",
   "metadata": {},
   "source": [
    "# Exercise\n",
    "Create a author class and link authors to books. You can add a list of authors as attribute of a book or create a list of book for each author or both."
   ]
  },
  {
   "cell_type": "code",
   "execution_count": 6,
   "id": "29791d38",
   "metadata": {},
   "outputs": [
    {
     "data": {
      "text/plain": [
       "[]"
      ]
     },
     "execution_count": 6,
     "metadata": {},
     "output_type": "execute_result"
    }
   ],
   "source": [
    "# Create a book\n",
    "book1 = Book('Title 1', year=2010)\n",
    "\n",
    "# Default value for `authors` attribute is empty list: []\n",
    "book1.authors"
   ]
  },
  {
   "cell_type": "code",
   "execution_count": 7,
   "id": "0d12b150",
   "metadata": {},
   "outputs": [],
   "source": [
    "class Author:\n",
    "    \"\"\"\n",
    "    This class represent an Author\n",
    "    \"\"\"\n",
    "    def __init__(self, name, birthyear):\n",
    "        self.name = name\n",
    "        self.birthyear = birthyear"
   ]
  },
  {
   "cell_type": "code",
   "execution_count": 8,
   "id": "4c3db1ab",
   "metadata": {},
   "outputs": [
    {
     "data": {
      "text/plain": [
       "'Raphaël'"
      ]
     },
     "execution_count": 8,
     "metadata": {},
     "output_type": "execute_result"
    }
   ],
   "source": [
    "# Create two authors\n",
    "author1 = Author('Raphaël', 1980)\n",
    "author2 = Author('Justine', 1970)\n",
    "author1.name"
   ]
  },
  {
   "cell_type": "code",
   "execution_count": 10,
   "id": "0f6cf7c7",
   "metadata": {},
   "outputs": [],
   "source": [
    "# Assign the two authors to `book1`\n",
    "book1.authors = [author1, author2]"
   ]
  },
  {
   "cell_type": "code",
   "execution_count": 13,
   "id": "5b8f0f30",
   "metadata": {},
   "outputs": [
    {
     "name": "stdout",
     "output_type": "stream",
     "text": [
      "Raphaël\n",
      "Justine\n"
     ]
    }
   ],
   "source": [
    "for author in book1.authors:\n",
    "    print(author.name)"
   ]
  },
  {
   "cell_type": "markdown",
   "id": "791564b1",
   "metadata": {},
   "source": [
    "## Some other features of classes"
   ]
  },
  {
   "cell_type": "code",
   "execution_count": 41,
   "id": "3ab793cb",
   "metadata": {},
   "outputs": [],
   "source": [
    "class Item:\n",
    "    \n",
    "    # Class attribute\n",
    "    library1 = 'A100'\n",
    "\n",
    "    # Static method => this function cannot interact with instances of the class. \n",
    "    @staticmethod\n",
    "    def print_hello1():\n",
    "        print('hello')\n",
    "        \n",
    "    \n",
    "    def __init__(self, barcode):\n",
    "        self.barcode = barcode\n",
    "        self.library2 = 'A200'\n",
    "    \n",
    "    def print_hello2(self):\n",
    "        print('hello')"
   ]
  },
  {
   "cell_type": "code",
   "execution_count": 42,
   "id": "bef25497",
   "metadata": {},
   "outputs": [],
   "source": [
    "item = Item(barcode='AAAAA33434')"
   ]
  },
  {
   "cell_type": "markdown",
   "id": "78285bd1",
   "metadata": {},
   "source": [
    "### Static methods\n",
    "Useful to make function related to a class but that not change directly the object. Tipically a method used to make an api request can easily be a static method. You give the parameters to the the method and it returns the data. Another method will handle the data and transform the object."
   ]
  },
  {
   "cell_type": "code",
   "execution_count": 44,
   "id": "d2c11806",
   "metadata": {},
   "outputs": [
    {
     "name": "stdout",
     "output_type": "stream",
     "text": [
      "hello\n"
     ]
    }
   ],
   "source": [
    "# Static method can be called directly from the class\n",
    "Item.print_hello1()"
   ]
  },
  {
   "cell_type": "code",
   "execution_count": 45,
   "id": "21cc7603",
   "metadata": {},
   "outputs": [
    {
     "name": "stdout",
     "output_type": "stream",
     "text": [
      "hello\n"
     ]
    }
   ],
   "source": [
    "# Static method can be called from instances,\n",
    "# but it will not be able to change it (no `self` in static method)\n",
    "item.print_hello1()"
   ]
  },
  {
   "cell_type": "code",
   "execution_count": 46,
   "id": "f24b4ab1",
   "metadata": {},
   "outputs": [
    {
     "ename": "TypeError",
     "evalue": "print_hello2() missing 1 required positional argument: 'self'",
     "output_type": "error",
     "traceback": [
      "\u001b[0;31m---------------------------------------------------------------------------\u001b[0m",
      "\u001b[0;31mTypeError\u001b[0m                                 Traceback (most recent call last)",
      "Input \u001b[0;32mIn [46]\u001b[0m, in \u001b[0;36m<cell line: 1>\u001b[0;34m()\u001b[0m\n\u001b[0;32m----> 1\u001b[0m \u001b[43mItem\u001b[49m\u001b[38;5;241;43m.\u001b[39;49m\u001b[43mprint_hello2\u001b[49m\u001b[43m(\u001b[49m\u001b[43m)\u001b[49m\n",
      "\u001b[0;31mTypeError\u001b[0m: print_hello2() missing 1 required positional argument: 'self'"
     ]
    }
   ],
   "source": [
    "# Normal methods need to be called from an instance of the class\n",
    "Item.print_hello2() # => error"
   ]
  },
  {
   "cell_type": "code",
   "execution_count": 47,
   "id": "5273d1d0",
   "metadata": {},
   "outputs": [
    {
     "name": "stdout",
     "output_type": "stream",
     "text": [
      "hello\n"
     ]
    }
   ],
   "source": [
    "item.print_hello2()"
   ]
  },
  {
   "cell_type": "markdown",
   "id": "61b1517a",
   "metadata": {},
   "source": [
    "### Class attributes\n",
    "Class attributes are attributes of the class itself and not of the instance of the class. The class attributes are useful when all the instance of a class should have an attribut with the same value. For example the base url of an api can often be stored in a class attibute."
   ]
  },
  {
   "cell_type": "code",
   "execution_count": 50,
   "id": "920e1885",
   "metadata": {},
   "outputs": [
    {
     "data": {
      "text/plain": [
       "'A100'"
      ]
     },
     "execution_count": 50,
     "metadata": {},
     "output_type": "execute_result"
    }
   ],
   "source": [
    "item.library1 # class attributes are available in class instances, too"
   ]
  },
  {
   "cell_type": "code",
   "execution_count": 49,
   "id": "dbc03151",
   "metadata": {},
   "outputs": [
    {
     "data": {
      "text/plain": [
       "'A100'"
      ]
     },
     "execution_count": 49,
     "metadata": {},
     "output_type": "execute_result"
    }
   ],
   "source": [
    "Item.library1 # access to class attribute"
   ]
  },
  {
   "cell_type": "code",
   "execution_count": 51,
   "id": "8be6a7c6",
   "metadata": {},
   "outputs": [
    {
     "data": {
      "text/plain": [
       "'A200'"
      ]
     },
     "execution_count": 51,
     "metadata": {},
     "output_type": "execute_result"
    }
   ],
   "source": [
    "item.library2"
   ]
  },
  {
   "cell_type": "code",
   "execution_count": 52,
   "id": "44ab05d9",
   "metadata": {},
   "outputs": [
    {
     "ename": "AttributeError",
     "evalue": "type object 'Item' has no attribute 'library2'",
     "output_type": "error",
     "traceback": [
      "\u001b[0;31m---------------------------------------------------------------------------\u001b[0m",
      "\u001b[0;31mAttributeError\u001b[0m                            Traceback (most recent call last)",
      "Input \u001b[0;32mIn [52]\u001b[0m, in \u001b[0;36m<cell line: 1>\u001b[0;34m()\u001b[0m\n\u001b[0;32m----> 1\u001b[0m \u001b[43mItem\u001b[49m\u001b[38;5;241;43m.\u001b[39;49m\u001b[43mlibrary2\u001b[49m\n",
      "\u001b[0;31mAttributeError\u001b[0m: type object 'Item' has no attribute 'library2'"
     ]
    }
   ],
   "source": [
    "Item.library2 # Error `library2` is available only in instances of `Item`"
   ]
  },
  {
   "cell_type": "code",
   "execution_count": null,
   "id": "3c6fd707",
   "metadata": {},
   "outputs": [],
   "source": []
  }
 ],
 "metadata": {
  "kernelspec": {
   "display_name": "Python 3 (ipykernel)",
   "language": "python",
   "name": "python3"
  },
  "language_info": {
   "codemirror_mode": {
    "name": "ipython",
    "version": 3
   },
   "file_extension": ".py",
   "mimetype": "text/x-python",
   "name": "python",
   "nbconvert_exporter": "python",
   "pygments_lexer": "ipython3",
   "version": "3.9.13"
  }
 },
 "nbformat": 4,
 "nbformat_minor": 5
}
