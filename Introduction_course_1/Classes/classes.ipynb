{
 "cells": [
  {
   "cell_type": "markdown",
   "id": "eb79bd4e",
   "metadata": {},
   "source": [
    "# Classes in python: a very short introduction"
   ]
  },
  {
   "cell_type": "markdown",
   "id": "3a4650e1",
   "metadata": {},
   "source": [
    "## Procedural code"
   ]
  },
  {
   "cell_type": "code",
   "execution_count": 33,
   "id": "3e3a13e6",
   "metadata": {},
   "outputs": [
    {
     "name": "stdout",
     "output_type": "stream",
     "text": [
      "Title 1 - 2010\n",
      "['Raphaël Rey', 'Timothée Rey']\n"
     ]
    }
   ],
   "source": [
    "book = {'title': 'Title 1',\n",
    "        'year': 2010}\n",
    "print(f\"{book['title']} - {book['year']}\")\n",
    "book['authors'] = ['Raphaël Rey']\n",
    "book['authors'].append('Timothée Rey')\n",
    "print(book['authors'])"
   ]
  },
  {
   "cell_type": "markdown",
   "id": "39b10b15",
   "metadata": {},
   "source": [
    "## Oriented object code"
   ]
  },
  {
   "cell_type": "code",
   "execution_count": 29,
   "id": "1c8615ad",
   "metadata": {},
   "outputs": [],
   "source": [
    "class Book: # Name of classes are in Camel case\n",
    "    \"\"\"\n",
    "    This class represents a book\n",
    "    \"\"\"\n",
    "    def __init__(self, title, authors=[], year=None):\n",
    "        \"\"\"\n",
    "        Constructor of a book, the title at least is required\n",
    "        \"\"\"\n",
    "        self.title = title\n",
    "        self.authors = authors\n",
    "        self.year = year\n",
    "        \n",
    "    def display_title_year(self):\n",
    "        \"\"\"\n",
    "        This method displays the tilte following by the year.\n",
    "        \n",
    "        An error message is diplayed if no year exists.\n",
    "        \"\"\"\n",
    "        if self.year is not None:\n",
    "            print(f'{self.title} - {self.year}')\n",
    "        else:\n",
    "            print('No year provided')"
   ]
  },
  {
   "cell_type": "code",
   "execution_count": 30,
   "id": "5c992a47",
   "metadata": {},
   "outputs": [
    {
     "name": "stdout",
     "output_type": "stream",
     "text": [
      "Title 1 - 2010\n",
      "Title 2 - 2020\n",
      "No year provided\n"
     ]
    }
   ],
   "source": [
    "book1 = Book('Title 1', year=2010)\n",
    "book1.display_title_year()\n",
    "book2 = Book('Title 2', year=2020)\n",
    "book2.display_title_year()\n",
    "book3 = Book('Title 3')\n",
    "book3.display_title_year()"
   ]
  },
  {
   "cell_type": "markdown",
   "id": "846f8260",
   "metadata": {},
   "source": [
    "## Some comments\n",
    "* Constructor is used at each creation of a new object. The constructor is always `__init__`. Underscores indicate special method.\n",
    "* Methods are simply functions in classes\n",
    "* Attributes are variables in a object\n",
    "* `self` is used to make reference to the object itself, you must add it as first parameter in each method\n",
    "* It's a good practice to indicate all the attributes in the constructor. Please no surprise attribute.\n"
   ]
  },
  {
   "cell_type": "markdown",
   "id": "1152f664",
   "metadata": {},
   "source": [
    "# Exercise\n",
    "Create a author class and link authors to books. You can add a list of authors as attribute of a book or create a list of book for each author or both."
   ]
  },
  {
   "cell_type": "code",
   "execution_count": null,
   "id": "0d12b150",
   "metadata": {},
   "outputs": [],
   "source": [
    "class Author:\n",
    "    \"\"\"\n",
    "    This class represent an Author\n",
    "    \"\"\"\n",
    "    pass"
   ]
  }
 ],
 "metadata": {
  "kernelspec": {
   "display_name": "Python 3 (ipykernel)",
   "language": "python",
   "name": "python3"
  },
  "language_info": {
   "codemirror_mode": {
    "name": "ipython",
    "version": 3
   },
   "file_extension": ".py",
   "mimetype": "text/x-python",
   "name": "python",
   "nbconvert_exporter": "python",
   "pygments_lexer": "ipython3",
   "version": "3.9.7"
  }
 },
 "nbformat": 4,
 "nbformat_minor": 5
}
