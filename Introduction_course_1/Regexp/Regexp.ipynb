{
 "cells": [
  {
   "cell_type": "markdown",
   "id": "40493031",
   "metadata": {},
   "source": [
    "# Regular expression in python\n",
    "\n",
    "To test regular expression: https://regex101.com/\n",
    "\n",
    "\n",
    "### Special syntax in python: `r'regexp'`\n",
    "The `r` means that we want raw expression. It will for example\n",
    "as in a normal string undestand `\\n` as a new line in the string.\n",
    "It will keep `\\n` as part of the pattern.\n",
    "\n",
    "**Short story: always prefix regular expressions with `r`**\n",
    "\n",
    "\n",
    "### Use `match` to check a pattern from the beginning of a string\n",
    "```python\n",
    "# Check if a string match to a pattern\n",
    "m = re.match(r'\\d+@eduid.ch', '12345678910@eduid.ch')\n",
    "```\n",
    "\n",
    "### Use `search` to check a pattern on a part of the string\n",
    "```python\n",
    "# Check if a string contains a pattern\n",
    "m = re.search(r'@eduid.ch', '12345678910@eduid.ch')\n",
    "```\n",
    "\n",
    "### Use `findall` to get all matches\n",
    "```python\n",
    "# Check if a string contains a pattern\n",
    "m = re.search(r'@eduid.ch', '12345678910@eduid.ch')\n",
    "```\n",
    "\n",
    "### Extract groups\n",
    "```python\n",
    "# Check if a string contains a pattern\n",
    "m = re.search(r'(\\d+)@(eduid.ch)', '12345678910@eduid.ch')\n",
    "```\n",
    "* `m.group(0)`: => '12345678910@eduid.ch' entire match\n",
    "* `m.group(1)`: => '12345678910' first parenthesis\n",
    "* `m.group(2)`: => 'eduid.ch' second parenthesis\n",
    "\n",
    "### Make substitutions\n",
    "```python\n",
    "# Transform numbers to *\n",
    "re.sub(r'\\d', '*' , '12345678910@eduid.ch')\n",
    "```"
   ]
  },
  {
   "cell_type": "code",
   "execution_count": 1,
   "id": "b2293729",
   "metadata": {},
   "outputs": [],
   "source": [
    "import re"
   ]
  },
  {
   "cell_type": "code",
   "execution_count": 61,
   "id": "b893bd87",
   "metadata": {},
   "outputs": [
    {
     "name": "stdout",
     "output_type": "stream",
     "text": [
      "@\n"
     ]
    }
   ],
   "source": [
    "m = re.search(r'(@)', '12345678910@eduid.ch')\n",
    "if m is not None:\n",
    "    print(m.group(0))"
   ]
  },
  {
   "cell_type": "code",
   "execution_count": 62,
   "id": "768e75f6",
   "metadata": {},
   "outputs": [
    {
     "data": {
      "text/plain": [
       "['1', '2', '3', '4', '5', '6', '7', '8', '9', '1', '0']"
      ]
     },
     "execution_count": 62,
     "metadata": {},
     "output_type": "execute_result"
    }
   ],
   "source": [
    "re.findall(r'tag=\"\\d{3}\"', record)"
   ]
  },
  {
   "cell_type": "code",
   "execution_count": 63,
   "id": "22baa091",
   "metadata": {},
   "outputs": [
    {
     "data": {
      "text/plain": [
       "'***********@eduid.ch'"
      ]
     },
     "execution_count": 63,
     "metadata": {},
     "output_type": "execute_result"
    }
   ],
   "source": [
    "re.sub(r'\\d', '*' , '12345678910@eduid.ch')"
   ]
  },
  {
   "cell_type": "code",
   "execution_count": 64,
   "id": "0d993101",
   "metadata": {},
   "outputs": [
    {
     "data": {
      "text/plain": [
       "<re.Match object; span=(0, 20), match='12345678910@eduid.ch'>"
      ]
     },
     "execution_count": 64,
     "metadata": {},
     "output_type": "execute_result"
    }
   ],
   "source": [
    "re.match('\\d+@[a-z]+\\.[a-z]{2,3}', '12345678910@eduid.ch')"
   ]
  },
  {
   "cell_type": "code",
   "execution_count": 65,
   "id": "dad73b9e",
   "metadata": {},
   "outputs": [
    {
     "data": {
      "text/plain": [
       "'12345678910@eth.ch'"
      ]
     },
     "execution_count": 65,
     "metadata": {},
     "output_type": "execute_result"
    }
   ],
   "source": [
    "re.sub(r'(\\d+@)[a-z]+(\\.[a-z]{2,3})', r'\\1eth\\2', '12345678910@eduid.ch')"
   ]
  },
  {
   "cell_type": "code",
   "execution_count": null,
   "id": "6f8e52c1",
   "metadata": {},
   "outputs": [],
   "source": []
  }
 ],
 "metadata": {
  "kernelspec": {
   "display_name": "Python 3 (ipykernel)",
   "language": "python",
   "name": "python3"
  },
  "language_info": {
   "codemirror_mode": {
    "name": "ipython",
    "version": 3
   },
   "file_extension": ".py",
   "mimetype": "text/x-python",
   "name": "python",
   "nbconvert_exporter": "python",
   "pygments_lexer": "ipython3",
   "version": "3.9.7"
  }
 },
 "nbformat": 4,
 "nbformat_minor": 5
}
