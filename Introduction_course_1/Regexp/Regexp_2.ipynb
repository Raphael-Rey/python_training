{
 "cells": [
  {
   "cell_type": "markdown",
   "id": "951ef9c4",
   "metadata": {},
   "source": [
    "# Regular expression in python 2"
   ]
  },
  {
   "cell_type": "code",
   "execution_count": 1,
   "id": "c346c3d6",
   "metadata": {},
   "outputs": [],
   "source": [
    "import re"
   ]
  },
  {
   "cell_type": "markdown",
   "id": "661c6766",
   "metadata": {},
   "source": [
    "## Example 1: use groups"
   ]
  },
  {
   "cell_type": "code",
   "execution_count": 2,
   "id": "7d9737f3",
   "metadata": {},
   "outputs": [],
   "source": [
    "recids = ['(ABN)1224343343343', '(RERO)343423432432']\n",
    "solution = ['ABN', 'RERO']"
   ]
  },
  {
   "cell_type": "code",
   "execution_count": 3,
   "id": "33b4ce0d",
   "metadata": {},
   "outputs": [
    {
     "name": "stdout",
     "output_type": "stream",
     "text": [
      "['ABN', 'RERO'] True\n",
      "['ABN', 'RERO']\n"
     ]
    }
   ],
   "source": [
    "recids_found = []\n",
    "for recid in recids:\n",
    "    recid_match = re.match('\\((\\w+)\\)\\d+', recid)\n",
    "    if recid_match is not None:\n",
    "        recids_found.append(recid_match.group(1))\n",
    "print(recids_found, recids_found==solution)\n",
    "print(solution)"
   ]
  },
  {
   "cell_type": "markdown",
   "id": "58ed3adb",
   "metadata": {},
   "source": [
    "#### Explanations\n",
    "\n",
    "`r'\\((\\w+)\\)\\d+'`\n",
    "\n",
    "* Never forgive the `r`in front of the regular expression. It tells the system to consider `\\` as it is. If you don't use `r` you will have to escape the `\\b` writing `\\\\b` for example.\n",
    "* `\\w` match every chars equivalent of `[a-zA-Z0-9_]`\n",
    "* `\\d` match any digit\n",
    "* `+` quantifier, match 1 or more chars\n",
    "* `\\` escape char, `(`and `)` have a special meaning in regular expressions (capturing strings). To match `(` we need to escape it\n",
    "* To get the content of the entire match: `re.match('\\((\\w+)\\)\\d+', recid).group(0)`, to get only the content of the first capturing parenthesis: `re.match('\\((\\w+)\\)\\d+', recid).group(1)`\n",
    "* To avoid errors, you need always check the result of the match before accessing to the groups: `if recid_match is not None:`"
   ]
  },
  {
   "cell_type": "markdown",
   "id": "ee1d6251",
   "metadata": {},
   "source": [
    "## Example 2: use flags + quantifiers"
   ]
  },
  {
   "cell_type": "code",
   "execution_count": 4,
   "id": "d2bf22a3",
   "metadata": {},
   "outputs": [],
   "source": [
    "issns = ['0170-5970 (ISSN)',\n",
    "         '0170-597x print',\n",
    "         ' 0170397X',\n",
    "         '12-34-5678' # should be rejected\n",
    "        ] \n",
    "\n",
    "solution = ['01705970', '0170597x', '0170397X']"
   ]
  },
  {
   "cell_type": "code",
   "execution_count": 5,
   "id": "228bbac4",
   "metadata": {},
   "outputs": [
    {
     "name": "stdout",
     "output_type": "stream",
     "text": [
      "['0170-5970', '0170-597x', '0170397X'] False\n",
      "['01705970', '0170597x', '0170397X']\n"
     ]
    }
   ],
   "source": [
    "# Incomplete solution\n",
    "issns_found = []\n",
    "for issn in issns:\n",
    "    issn_match = re.search(r'\\d{4}-?\\d{3}[\\dX]', issn, re.I)\n",
    "    if issn_match is not None:\n",
    "        issns_found.append(issn_match.group(0))\n",
    "print(issns_found, issns_found==solution)\n",
    "print(solution)"
   ]
  },
  {
   "cell_type": "markdown",
   "id": "8dbc0488",
   "metadata": {},
   "source": [
    "#### Explanations\n",
    "\n",
    "`r'\\d{4}-?\\d{3}[\\dX]'`\n",
    "\n",
    "\n",
    "* `{a}` quantifier, match the number of times indicated. `{2,4}` will match between 2 and 4 times\n",
    "* `?` quantifier, match one or 0 time\n",
    "* `[\\dX]` brackets are used to match single char among several option, here `X` or a digit\n",
    "* `re.I` ignore case\n",
    "\n",
    "**Hyphen is still a problem**"
   ]
  },
  {
   "cell_type": "code",
   "execution_count": 6,
   "id": "fa6b8284",
   "metadata": {},
   "outputs": [
    {
     "name": "stdout",
     "output_type": "stream",
     "text": [
      "['01705970', '0170597x', '0170397X'] True\n",
      "['01705970', '0170597x', '0170397X']\n"
     ]
    }
   ],
   "source": [
    "issns_found = []\n",
    "for issn in issns:\n",
    "    issn_match = re.search(r'(\\d{4})-?(\\d{3}[\\dx])', issn, re.I)\n",
    "    if issn_match is not None:\n",
    "        issns_found.append(issn_match.group(1) + issn_match.group(2))\n",
    "print(issns_found, issns_found==solution)\n",
    "print(solution)"
   ]
  },
  {
   "cell_type": "markdown",
   "id": "e22b5b7a",
   "metadata": {},
   "source": [
    "#### Explanations\n",
    "Possible solutions are to replace the `-` with nothing: `re.search(r'\\d{4}-?\\d{3}[\\dX]', issn.replace('-', ''), re.I)`\n",
    "\n",
    "Other solution is to use capturing groups: `(\\d{4})-?(\\d{3}[\\dx])`. You concatenate the two groups."
   ]
  },
  {
   "cell_type": "markdown",
   "id": "37e36007",
   "metadata": {},
   "source": [
    "## Example 3: Word boundaries and findall"
   ]
  },
  {
   "cell_type": "code",
   "execution_count": 7,
   "id": "cc77e682",
   "metadata": {},
   "outputs": [],
   "source": [
    "# Get all word starting with \"p\"\n",
    "txt = \"\"\"Python was conceived in the late 1980s[43] by Guido van Rossum at Centrum Wiskunde & Informatica (CWI) in the Netherlands as a successor to the ABC programming language, which was inspired by SETL,[44] capable of exception handling and interfacing with the Amoeba operating system.[13] Its implementation began in December 1989.[45] Van Rossum shouldered sole responsibility for the project, as the lead developer, until 12 July 2018, when he announced his \"permanent vacation\" from his responsibilities as Python's \"benevolent dictator for life\", a title the Python community bestowed upon him to reflect his long-term commitment as the project's chief decision-maker.[46] In January 2019, active Python core developers elected a five-member Steering Council to lead the project.\"\"\"\n",
    "solution = ['Python',\n",
    " 'programming',\n",
    " 'project',\n",
    " 'permanent',\n",
    " 'Python',\n",
    " 'Python',\n",
    " 'project',\n",
    " 'Python',\n",
    " 'project']"
   ]
  },
  {
   "cell_type": "code",
   "execution_count": 8,
   "id": "86524f75",
   "metadata": {},
   "outputs": [
    {
     "name": "stdout",
     "output_type": "stream",
     "text": [
      "False\n"
     ]
    },
    {
     "data": {
      "text/plain": [
       "['Python',\n",
       " 'programming',\n",
       " 'pired',\n",
       " 'pable',\n",
       " 'ption',\n",
       " 'perating',\n",
       " 'plementation',\n",
       " 'ponsibility',\n",
       " 'project',\n",
       " 'per',\n",
       " 'permanent',\n",
       " 'ponsibilities',\n",
       " 'Python',\n",
       " 'Python',\n",
       " 'pon',\n",
       " 'project',\n",
       " 'Python',\n",
       " 'pers',\n",
       " 'project']"
      ]
     },
     "execution_count": 8,
     "metadata": {},
     "output_type": "execute_result"
    }
   ],
   "source": [
    "# Incomplete solution\n",
    "result = re.findall(r'P\\w*', txt, re.I)\n",
    "print(result == solution)\n",
    "result"
   ]
  },
  {
   "cell_type": "markdown",
   "id": "f1f5aa48",
   "metadata": {},
   "source": [
    "#### Explanations\n",
    "\n",
    "`r'P\\w*'`\n",
    "\n",
    "This regular expression will not match entire words only."
   ]
  },
  {
   "cell_type": "code",
   "execution_count": 9,
   "id": "d969af1a",
   "metadata": {},
   "outputs": [
    {
     "name": "stdout",
     "output_type": "stream",
     "text": [
      "False\n"
     ]
    },
    {
     "data": {
      "text/plain": [
       "['programming', 'project', 'Python', 'Python', 'project', 'Python', 'project']"
      ]
     },
     "execution_count": 9,
     "metadata": {},
     "output_type": "execute_result"
    }
   ],
   "source": [
    "# Other incomplete solution\n",
    "result = re.findall(r'\\s(P\\w*)', txt, re.I)\n",
    "print(result == solution)\n",
    "result"
   ]
  },
  {
   "cell_type": "markdown",
   "id": "3f8b94b8",
   "metadata": {},
   "source": [
    "#### Explanations\n",
    "\n",
    "`r'\\s(P\\w*)'`\n",
    "\n",
    "This regular expression will not match the first `Python` because start of the line is not matched by `\\s` (whitespace)."
   ]
  },
  {
   "cell_type": "code",
   "execution_count": 10,
   "id": "92464861",
   "metadata": {},
   "outputs": [
    {
     "name": "stdout",
     "output_type": "stream",
     "text": [
      "False\n"
     ]
    },
    {
     "data": {
      "text/plain": [
       "['Python',\n",
       " 'programming',\n",
       " 'project',\n",
       " 'Python',\n",
       " 'Python',\n",
       " 'project',\n",
       " 'Python',\n",
       " 'project']"
      ]
     },
     "execution_count": 10,
     "metadata": {},
     "output_type": "execute_result"
    }
   ],
   "source": [
    "# Again an incomplete solution\n",
    "result = re.findall(r'(?:^|\\s)(P\\w*)', txt, re.I)\n",
    "print(result == solution)\n",
    "result"
   ]
  },
  {
   "cell_type": "markdown",
   "id": "253fca2e",
   "metadata": {},
   "source": [
    "#### Explanations\n",
    "\n",
    "`r'(?:^|\\s)(P\\w*)'`\n",
    "\n",
    "* `(?: ... )` non capturing group. I interested in the context but I don't want to have this part in the results of `findall`\n",
    "* `^` indicates the start of the string, `$` indicates the end of the string\n",
    "* `|` in parenthesis checks different patterns with `or`\n",
    "\n",
    "This regular expression will not match `permanent` because `\"` is before the word."
   ]
  },
  {
   "cell_type": "code",
   "execution_count": 11,
   "id": "bbcd2829",
   "metadata": {},
   "outputs": [
    {
     "name": "stdout",
     "output_type": "stream",
     "text": [
      "True\n",
      "['Python', 'programming', 'project', 'permanent', 'Python', 'Python', 'project', 'Python', 'project']\n"
     ]
    }
   ],
   "source": [
    "# Complete solution\n",
    "result = re.findall(r'(?:^|[\\W])(P\\w*)', txt, re.I)\n",
    "print(result == solution)\n",
    "result\n",
    "print(solution)"
   ]
  },
  {
   "cell_type": "markdown",
   "id": "0dc7408a",
   "metadata": {},
   "source": [
    "#### Explanations\n",
    "\n",
    "`r'(?:^|[\\W])(P\\w*)'`\n",
    "\n",
    "`\\W` will match everything that doesnt match `\\w`, it is here the good choice"
   ]
  },
  {
   "cell_type": "code",
   "execution_count": 12,
   "id": "a2109199",
   "metadata": {},
   "outputs": [
    {
     "name": "stdout",
     "output_type": "stream",
     "text": [
      "True\n"
     ]
    },
    {
     "data": {
      "text/plain": [
       "['Python',\n",
       " 'programming',\n",
       " 'project',\n",
       " 'permanent',\n",
       " 'Python',\n",
       " 'Python',\n",
       " 'project',\n",
       " 'Python',\n",
       " 'project']"
      ]
     },
     "execution_count": 12,
     "metadata": {},
     "output_type": "execute_result"
    }
   ],
   "source": [
    "# more simple solution\n",
    "result = re.findall(r'\\bP\\w*\\b', txt, re.I)\n",
    "print(result == solution)\n",
    "result\n",
    "re.findall(r'\\bP\\w*\\b', txt, re.I)"
   ]
  },
  {
   "cell_type": "markdown",
   "id": "b1ed00da",
   "metadata": {},
   "source": [
    "#### Explanations\n",
    "\n",
    "`r'\\bP\\w*\\b'`\n",
    "\n",
    "`\\b` indicates word boundaries"
   ]
  },
  {
   "cell_type": "markdown",
   "id": "86f53fc7",
   "metadata": {},
   "source": [
    "## Example 4: negative lookup"
   ]
  },
  {
   "cell_type": "code",
   "execution_count": 13,
   "id": "32bbf7e4",
   "metadata": {},
   "outputs": [],
   "source": [
    "recids = ['ABN1224343343343', 'RERO343423432432', 'ALEX44333343343343'] \n",
    "solution = ['1224343343343', '44333343343343'] # we want to avoid any RERO identifier"
   ]
  },
  {
   "cell_type": "code",
   "execution_count": 14,
   "id": "aa0cf8e3",
   "metadata": {},
   "outputs": [
    {
     "name": "stdout",
     "output_type": "stream",
     "text": [
      "['1224343343343', '44333343343343'] True\n",
      "['1224343343343', '44333343343343']\n"
     ]
    }
   ],
   "source": [
    "recids_found = []\n",
    "for recid in recids:\n",
    "    recid_match = re.search(r'^(?!RERO)[A-Z]+(\\d+)$', recid)\n",
    "    if recid_match is not None:\n",
    "        recids_found.append(recid_match.group(1))\n",
    "print(recids_found, recids_found==solution)\n",
    "print(solution)"
   ]
  },
  {
   "cell_type": "markdown",
   "id": "3b349a95",
   "metadata": {},
   "source": [
    "#### Explanations\n",
    "\n",
    "`r'^(?!RERO)[A-Z]+(\\d+)$'`\n",
    "\n",
    "* `^` indicates the start of the string, `$` indicates the end of the string\n",
    "* `(?! ... )`  the system will check if in the following chars this match, if yes then it will be no match ath the end\n",
    "* `[A-Z]+` match every char at least one time\n",
    "* To avoid match single char, use `[^abc]`. It will match anything but 'a', 'b', 'c'."
   ]
  },
  {
   "cell_type": "code",
   "execution_count": 15,
   "id": "28a977b5",
   "metadata": {},
   "outputs": [
    {
     "name": "stdout",
     "output_type": "stream",
     "text": [
      "['1224343343343', '44333343343343'] True\n",
      "['1224343343343', '44333343343343']\n"
     ]
    }
   ],
   "source": [
    "recids_found = []\n",
    "for recid in recids:\n",
    "    recid_match = re.search(r'^[A-Z]+(?<!RERO)(\\d+)$', recid)\n",
    "    if recid_match is not None:\n",
    "        recids_found.append(recid_match.group(1))\n",
    "print(recids_found, recids_found==solution)\n",
    "print(solution)"
   ]
  },
  {
   "cell_type": "markdown",
   "id": "d6775b95",
   "metadata": {},
   "source": [
    "#### Explanations\n",
    "\n",
    "`r'^[A-Z]+(?<!RERO)(\\d+)$'`\n",
    "\n",
    "`(?<! ... )`  same as `(?<! ... )` but look for behind context.\n"
   ]
  },
  {
   "cell_type": "code",
   "execution_count": null,
   "id": "8c03c886",
   "metadata": {},
   "outputs": [],
   "source": []
  }
 ],
 "metadata": {
  "kernelspec": {
   "display_name": "Python 3 (ipykernel)",
   "language": "python",
   "name": "python3"
  },
  "language_info": {
   "codemirror_mode": {
    "name": "ipython",
    "version": 3
   },
   "file_extension": ".py",
   "mimetype": "text/x-python",
   "name": "python",
   "nbconvert_exporter": "python",
   "pygments_lexer": "ipython3",
   "version": "3.9.7"
  }
 },
 "nbformat": 4,
 "nbformat_minor": 5
}
