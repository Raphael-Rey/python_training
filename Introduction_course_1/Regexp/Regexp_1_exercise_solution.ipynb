{
 "cells": [
  {
   "cell_type": "markdown",
   "id": "9901e045",
   "metadata": {},
   "source": [
    "# Regexp - exercise - solution"
   ]
  },
  {
   "cell_type": "code",
   "execution_count": 2,
   "id": "7ffff1a6",
   "metadata": {},
   "outputs": [],
   "source": [
    "import re\n",
    "phone = '(032)123 454 444'"
   ]
  },
  {
   "cell_type": "markdown",
   "id": "16a9d4d3",
   "metadata": {},
   "source": [
    "### Exercise 1"
   ]
  },
  {
   "cell_type": "code",
   "execution_count": 3,
   "id": "1f8fbf99",
   "metadata": {},
   "outputs": [
    {
     "name": "stdout",
     "output_type": "stream",
     "text": [
      "(032)123 454 444 does not contain only numbers\n"
     ]
    }
   ],
   "source": [
    "# a) Check if the phone number contains only numbers\n",
    "m = re.match(r'\\d+', phone)\n",
    "if m is not None:\n",
    "    print(f'\"{phone}\" contains only numbers')\n",
    "else:\n",
    "    print(f'\"{phone}\" does not contain only numbers')"
   ]
  },
  {
   "cell_type": "code",
   "execution_count": 6,
   "id": "7e3a4ff2",
   "metadata": {},
   "outputs": [
    {
     "name": "stdout",
     "output_type": "stream",
     "text": [
      "\"(032)123 454 444\" does not contain at least one letter\n"
     ]
    }
   ],
   "source": [
    "# b) Check if the phone number contains letters ([a-zA-Z])\n",
    "m = re.search(r'[a-zA-Z]', phone)\n",
    "if m is not None:\n",
    "    print(f'\"{phone}\" contains at least one letter')\n",
    "else:\n",
    "    print(f'\"{phone}\" does not contain at least one letter')"
   ]
  },
  {
   "cell_type": "code",
   "execution_count": 7,
   "id": "c02d34b2",
   "metadata": {},
   "outputs": [
    {
     "name": "stdout",
     "output_type": "stream",
     "text": [
      "\"(032)123 454 444\" contains at least one empty space\n"
     ]
    }
   ],
   "source": [
    "# c) Check if the phone number contains any empty space\n",
    "m = re.search(r'\\s', phone)\n",
    "if m is not None:\n",
    "    print(f'\"{phone}\" contains at least one empty space')\n",
    "else:\n",
    "    print(f'\"{phone}\" does not contain at least one empty space')"
   ]
  },
  {
   "cell_type": "markdown",
   "id": "65a6f334",
   "metadata": {},
   "source": [
    "### Exercise 2"
   ]
  },
  {
   "cell_type": "code",
   "execution_count": 8,
   "id": "caa90fbb",
   "metadata": {},
   "outputs": [
    {
     "name": "stdout",
     "output_type": "stream",
     "text": [
      "032\n"
     ]
    }
   ],
   "source": [
    "# a) Extract the content of the parenthesis => \"032\"\n",
    "m = re.search(r'\\((\\d+)\\)', phone)\n",
    "if m is not None:\n",
    "    print(m.group(1))"
   ]
  },
  {
   "cell_type": "code",
   "execution_count": 9,
   "id": "8e536dc6",
   "metadata": {},
   "outputs": [
    {
     "name": "stdout",
     "output_type": "stream",
     "text": [
      "123 454 444\n"
     ]
    }
   ],
   "source": [
    "# b) Extract the part outside of the parenthis\n",
    "m = re.search(r'\\(\\d+\\)([\\s\\d]+)', phone)\n",
    "if m is not None:\n",
    "    print(m.group(1))"
   ]
  },
  {
   "cell_type": "code",
   "execution_count": 10,
   "id": "1782d267",
   "metadata": {},
   "outputs": [
    {
     "data": {
      "text/plain": [
       "['032', '123', '454', '444']"
      ]
     },
     "execution_count": 10,
     "metadata": {},
     "output_type": "execute_result"
    }
   ],
   "source": [
    "# c) Extract all the groups of three numbers\n",
    "re.findall(r'\\d{3}', phone)"
   ]
  },
  {
   "cell_type": "markdown",
   "id": "51280ea2",
   "metadata": {},
   "source": [
    "### Exercise 3"
   ]
  },
  {
   "cell_type": "code",
   "execution_count": 11,
   "id": "e7299a9a",
   "metadata": {},
   "outputs": [
    {
     "data": {
      "text/plain": [
       "'032123454444'"
      ]
     },
     "execution_count": 11,
     "metadata": {},
     "output_type": "execute_result"
    }
   ],
   "source": [
    "# Remove blank and parentheses (032)123 454 444 => 032123454444\n",
    "re.sub(r'[\\(\\)\\s]', '', phone)"
   ]
  },
  {
   "cell_type": "code",
   "execution_count": null,
   "id": "4665caeb",
   "metadata": {},
   "outputs": [],
   "source": []
  }
 ],
 "metadata": {
  "kernelspec": {
   "display_name": "Python 3 (ipykernel)",
   "language": "python",
   "name": "python3"
  },
  "language_info": {
   "codemirror_mode": {
    "name": "ipython",
    "version": 3
   },
   "file_extension": ".py",
   "mimetype": "text/x-python",
   "name": "python",
   "nbconvert_exporter": "python",
   "pygments_lexer": "ipython3",
   "version": "3.9.7"
  },
  "toc": {
   "base_numbering": 1,
   "nav_menu": {},
   "number_sections": true,
   "sideBar": true,
   "skip_h1_title": false,
   "title_cell": "Table of Contents",
   "title_sidebar": "Contents",
   "toc_cell": false,
   "toc_position": {},
   "toc_section_display": true,
   "toc_window_display": false
  }
 },
 "nbformat": 4,
 "nbformat_minor": 5
}
