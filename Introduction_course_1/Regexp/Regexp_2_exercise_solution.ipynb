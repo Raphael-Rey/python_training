{
 "cells": [
  {
   "cell_type": "markdown",
   "id": "084d74da",
   "metadata": {},
   "source": [
    "## Regexp 2 exercise"
   ]
  },
  {
   "cell_type": "code",
   "execution_count": 7,
   "id": "9dc2cf66",
   "metadata": {},
   "outputs": [],
   "source": [
    "import re"
   ]
  },
  {
   "cell_type": "markdown",
   "id": "b461dfe2",
   "metadata": {},
   "source": [
    "## Exercise 1"
   ]
  },
  {
   "cell_type": "code",
   "execution_count": 6,
   "id": "98d5801e",
   "metadata": {},
   "outputs": [],
   "source": [
    "numbers = ['12aas345', '229', '138333']"
   ]
  },
  {
   "cell_type": "code",
   "execution_count": 24,
   "id": "6d484436",
   "metadata": {},
   "outputs": [
    {
     "data": {
      "text/plain": [
       "['229', '138333']"
      ]
     },
     "execution_count": 24,
     "metadata": {},
     "output_type": "execute_result"
    }
   ],
   "source": [
    "# a) Filter the list, keep only numbers => ['229', '138333']\n",
    "results = []\n",
    "for n in numbers:\n",
    "    if re.match(r'^\\d+$', n) is not None:\n",
    "        results.append(n)\n",
    "results"
   ]
  },
  {
   "cell_type": "code",
   "execution_count": 30,
   "id": "20cc6c5a",
   "metadata": {},
   "outputs": [
    {
     "data": {
      "text/plain": [
       "['138333']"
      ]
     },
     "execution_count": 30,
     "metadata": {},
     "output_type": "execute_result"
    }
   ],
   "source": [
    "# b) Same, but only when the number starts with \"1\"\n",
    "results = []\n",
    "for n in numbers:\n",
    "    if re.match(r'^1\\d*$', n) is not None:\n",
    "        results.append(n)\n",
    "results"
   ]
  },
  {
   "cell_type": "code",
   "execution_count": 29,
   "id": "db36a41e",
   "metadata": {},
   "outputs": [
    {
     "data": {
      "text/plain": [
       "['3', '9', '8']"
      ]
     },
     "execution_count": 29,
     "metadata": {},
     "output_type": "execute_result"
    }
   ],
   "source": [
    "# c) Get the third number in each char => ['3', '9', '8']\n",
    "results = []\n",
    "for n in numbers:\n",
    "    n_s = re.findall(r'\\d', n)\n",
    "    if len(n_s) > 2:\n",
    "        results.append(n_s[2])\n",
    "results"
   ]
  },
  {
   "cell_type": "code",
   "execution_count": 11,
   "id": "9c81ed28",
   "metadata": {},
   "outputs": [
    {
     "data": {
      "text/plain": [
       "['3', '9', '8']"
      ]
     },
     "execution_count": 11,
     "metadata": {},
     "output_type": "execute_result"
    }
   ],
   "source": [
    "# Solution with comprehension list\n",
    "[re.match(r'^\\D*\\d\\D*\\d\\D*(\\d)', n).group(1) for n in numbers]"
   ]
  },
  {
   "cell_type": "code",
   "execution_count": 32,
   "id": "3dda4dac",
   "metadata": {},
   "outputs": [
    {
     "data": {
      "text/plain": [
       "['3', '9', '8']"
      ]
     },
     "execution_count": 32,
     "metadata": {},
     "output_type": "execute_result"
    }
   ],
   "source": [
    "# Not capturing parentheses to explain we want the pattern twice,\n",
    "# but only capture the third digit\n",
    "[re.match(r'^(?:\\D*\\d\\D*){2}(\\d)', n).group(1) for n in numbers]"
   ]
  },
  {
   "cell_type": "code",
   "execution_count": 31,
   "id": "fb891cfb",
   "metadata": {},
   "outputs": [
    {
     "data": {
      "text/plain": [
       "['229']"
      ]
     },
     "execution_count": 31,
     "metadata": {},
     "output_type": "execute_result"
    }
   ],
   "source": [
    "# d) Get all numbers except those starting with \"1\" => ['229']\n",
    "result = []\n",
    "for n in numbers:\n",
    "    m = re.match(r'(?!1)\\d+$', n)\n",
    "    if m is not None:\n",
    "        result.append(n)\n",
    "result"
   ]
  },
  {
   "cell_type": "markdown",
   "id": "e7018e3c",
   "metadata": {},
   "source": [
    "## Exercise 2"
   ]
  },
  {
   "cell_type": "code",
   "execution_count": 20,
   "id": "a9604b50",
   "metadata": {},
   "outputs": [],
   "source": [
    "isbns = ' ISBN : 978-032158-544-8 (pbk.) 978032159098X (eISBN)'"
   ]
  },
  {
   "cell_type": "code",
   "execution_count": 21,
   "id": "8e77e3b5",
   "metadata": {},
   "outputs": [
    {
     "data": {
      "text/plain": [
       "['978-032158-544-8', '978032159098X']"
      ]
     },
     "execution_count": 21,
     "metadata": {},
     "output_type": "execute_result"
    }
   ],
   "source": [
    "# a) Fetch all isbns => ['978-032158-544-8', '978-0-32-15909-85']\n",
    "re.findall(r'(\\d[\\d\\-]+[\\dxX])', isbns) "
   ]
  },
  {
   "cell_type": "code",
   "execution_count": 22,
   "id": "44eae8e1",
   "metadata": {},
   "outputs": [
    {
     "data": {
      "text/plain": [
       "['9780321585448', '978032159098X']"
      ]
     },
     "execution_count": 22,
     "metadata": {},
     "output_type": "execute_result"
    }
   ],
   "source": [
    "# b) Same but results without \"-\"\n",
    "[isbn.replace('-', '') for isbn in re.findall(r'(\\d[\\d\\-]+[\\dxX])', isbns) ]"
   ]
  },
  {
   "cell_type": "markdown",
   "id": "01f3f41e",
   "metadata": {},
   "source": [
    "## Exercise 3"
   ]
  },
  {
   "cell_type": "code",
   "execution_count": 23,
   "id": "fd1caec6",
   "metadata": {},
   "outputs": [
    {
     "data": {
      "text/plain": [
       "['10020', '3010', '20010', '200', '12000']"
      ]
     },
     "execution_count": 23,
     "metadata": {},
     "output_type": "execute_result"
    }
   ],
   "source": [
    "prices = [\"10,020\", \"3,010\", \"cost: 20010\", \"200 $\", \"price 12'000\"]\n",
    "[re.sub(r'\\D', '', p) for p in prices]\n",
    "# Fetch all prices without thousands separator => [\"10020\", \"3010\", \"20010\", \"200\", \"12000\"] \n",
    "# Working in two steps is allowed, for example use re.sub only to remove separators"
   ]
  },
  {
   "cell_type": "code",
   "execution_count": null,
   "id": "85759bc5",
   "metadata": {},
   "outputs": [],
   "source": []
  }
 ],
 "metadata": {
  "kernelspec": {
   "display_name": "Python 3 (ipykernel)",
   "language": "python",
   "name": "python3"
  },
  "language_info": {
   "codemirror_mode": {
    "name": "ipython",
    "version": 3
   },
   "file_extension": ".py",
   "mimetype": "text/x-python",
   "name": "python",
   "nbconvert_exporter": "python",
   "pygments_lexer": "ipython3",
   "version": "3.9.7"
  }
 },
 "nbformat": 4,
 "nbformat_minor": 5
}
