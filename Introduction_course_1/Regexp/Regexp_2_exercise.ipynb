{
 "cells": [
  {
   "cell_type": "markdown",
   "id": "084d74da",
   "metadata": {},
   "source": [
    "## Regexp 2 exercise"
   ]
  },
  {
   "cell_type": "code",
   "execution_count": 1,
   "id": "9dc2cf66",
   "metadata": {},
   "outputs": [],
   "source": [
    "import re"
   ]
  },
  {
   "cell_type": "markdown",
   "id": "b461dfe2",
   "metadata": {},
   "source": [
    "## Exercise 1"
   ]
  },
  {
   "cell_type": "code",
   "execution_count": 2,
   "id": "98d5801e",
   "metadata": {},
   "outputs": [],
   "source": [
    "numbers = ['12aas345', '229', '138333']"
   ]
  },
  {
   "cell_type": "code",
   "execution_count": 3,
   "id": "6d484436",
   "metadata": {},
   "outputs": [],
   "source": [
    "# a) Filter the list, keep only numbers => ['229', '138333']"
   ]
  },
  {
   "cell_type": "code",
   "execution_count": 4,
   "id": "20cc6c5a",
   "metadata": {},
   "outputs": [],
   "source": [
    "# b) Same, but only when the number starts with \"1\""
   ]
  },
  {
   "cell_type": "code",
   "execution_count": 5,
   "id": "db36a41e",
   "metadata": {},
   "outputs": [],
   "source": [
    "# c) Get the third number in each char => ['3', '9', '8']"
   ]
  },
  {
   "cell_type": "code",
   "execution_count": 6,
   "id": "fb891cfb",
   "metadata": {},
   "outputs": [],
   "source": [
    "# d) Get all numbers except those starting with \"1\" => ['229']"
   ]
  },
  {
   "cell_type": "markdown",
   "id": "e7018e3c",
   "metadata": {},
   "source": [
    "## Exercise 2"
   ]
  },
  {
   "cell_type": "code",
   "execution_count": 7,
   "id": "a9604b50",
   "metadata": {},
   "outputs": [],
   "source": [
    "isbns = ' ISBN : 978-032158-544-8 (pbk.) 978032159098X (eISBN)'"
   ]
  },
  {
   "cell_type": "code",
   "execution_count": 8,
   "id": "8e77e3b5",
   "metadata": {},
   "outputs": [],
   "source": [
    "# a) Fetch all isbns => ['978-032158-544-8', '978-0-32-15909-85']"
   ]
  },
  {
   "cell_type": "code",
   "execution_count": 9,
   "id": "44eae8e1",
   "metadata": {},
   "outputs": [],
   "source": [
    "# b) Same but results without \"-\""
   ]
  },
  {
   "cell_type": "markdown",
   "id": "01f3f41e",
   "metadata": {},
   "source": [
    "## Exercise 3"
   ]
  },
  {
   "cell_type": "code",
   "execution_count": 10,
   "id": "fd1caec6",
   "metadata": {},
   "outputs": [],
   "source": [
    "prices = [\"10,020\", \"3,010\", \"cost: 20010\", \"200 $\", \"price 12'000\"]\n",
    "\n",
    "# Fetch all prices without thousands separator => [\"10020\", \"3010\", \"20010\", \"200\", \"12000\"] \n",
    "# Working in two steps is allowed, for example use re.sub only to remove separators"
   ]
  },
  {
   "cell_type": "code",
   "execution_count": null,
   "id": "85759bc5",
   "metadata": {},
   "outputs": [],
   "source": []
  }
 ],
 "metadata": {
  "kernelspec": {
   "display_name": "Python 3 (ipykernel)",
   "language": "python",
   "name": "python3"
  },
  "language_info": {
   "codemirror_mode": {
    "name": "ipython",
    "version": 3
   },
   "file_extension": ".py",
   "mimetype": "text/x-python",
   "name": "python",
   "nbconvert_exporter": "python",
   "pygments_lexer": "ipython3",
   "version": "3.9.7"
  }
 },
 "nbformat": 4,
 "nbformat_minor": 5
}
