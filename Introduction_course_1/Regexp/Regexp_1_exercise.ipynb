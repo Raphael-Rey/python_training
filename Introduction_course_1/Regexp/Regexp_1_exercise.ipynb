{
 "cells": [
  {
   "cell_type": "markdown",
   "id": "9901e045",
   "metadata": {},
   "source": [
    "# Regexp 1 exercise"
   ]
  },
  {
   "cell_type": "code",
   "execution_count": 15,
   "id": "7ffff1a6",
   "metadata": {},
   "outputs": [],
   "source": [
    "import re\n",
    "phone = '(032)123 454 444'\n",
    "phone2 = 'a032123454444'"
   ]
  },
  {
   "cell_type": "markdown",
   "id": "16a9d4d3",
   "metadata": {},
   "source": [
    "### Exercise 1"
   ]
  },
  {
   "cell_type": "code",
   "execution_count": 13,
   "id": "1f8fbf99",
   "metadata": {},
   "outputs": [],
   "source": [
    "# a) Check if the phone number contains only numbers\n",
    "re.match(r'\\d+', phone)"
   ]
  },
  {
   "cell_type": "code",
   "execution_count": 17,
   "id": "7e3a4ff2",
   "metadata": {},
   "outputs": [],
   "source": [
    "# b) Check if the phone number contains letters ([a-zA-Z])\n",
    "re.search(r'[a-zA-Z]+', phone)"
   ]
  },
  {
   "cell_type": "code",
   "execution_count": 20,
   "id": "c02d34b2",
   "metadata": {},
   "outputs": [
    {
     "data": {
      "text/plain": [
       "<re.Match object; span=(8, 9), match=' '>"
      ]
     },
     "execution_count": 20,
     "metadata": {},
     "output_type": "execute_result"
    }
   ],
   "source": [
    "# c) Check if the phone number contains any empty space \n",
    "re.search(r'\\s', phone)"
   ]
  },
  {
   "cell_type": "markdown",
   "id": "65a6f334",
   "metadata": {},
   "source": [
    "### Exercise 2"
   ]
  },
  {
   "cell_type": "code",
   "execution_count": 29,
   "id": "caa90fbb",
   "metadata": {},
   "outputs": [
    {
     "data": {
      "text/plain": [
       "'032'"
      ]
     },
     "execution_count": 29,
     "metadata": {},
     "output_type": "execute_result"
    }
   ],
   "source": [
    "# a) Extract the content of the parenthesis \"032\"\n",
    "m = re.search(r'\\((.*)\\)', phone)\n",
    "m.group(1)"
   ]
  },
  {
   "cell_type": "code",
   "execution_count": 37,
   "id": "8e536dc6",
   "metadata": {},
   "outputs": [
    {
     "data": {
      "text/plain": [
       "'123 454 444'"
      ]
     },
     "execution_count": 37,
     "metadata": {},
     "output_type": "execute_result"
    }
   ],
   "source": [
    "# b) Extract the part outside of the parenthis\n",
    "m = re.search(r'\\((.*)\\)(.+)' , phone)\n",
    "m\n",
    "m.group(2)"
   ]
  },
  {
   "cell_type": "code",
   "execution_count": 47,
   "id": "1782d267",
   "metadata": {},
   "outputs": [
    {
     "data": {
      "text/plain": [
       "['032', '123', '454', '444']"
      ]
     },
     "execution_count": 47,
     "metadata": {},
     "output_type": "execute_result"
    }
   ],
   "source": [
    "# c) Extract all the groups of three numbers\n",
    "m = re.findall(r'(\\d{3})' , phone)\n",
    "m"
   ]
  },
  {
   "cell_type": "markdown",
   "id": "51280ea2",
   "metadata": {},
   "source": [
    "### Exercise 3"
   ]
  },
  {
   "cell_type": "code",
   "execution_count": null,
   "id": "e7299a9a",
   "metadata": {},
   "outputs": [],
   "source": [
    "# Remove blank and parentheses (032)123 454 444 => 032123454444 "
   ]
  },
  {
   "cell_type": "code",
   "execution_count": 49,
   "id": "4665caeb",
   "metadata": {},
   "outputs": [
    {
     "data": {
      "text/plain": [
       "'032123454444'"
      ]
     },
     "execution_count": 49,
     "metadata": {},
     "output_type": "execute_result"
    }
   ],
   "source": [
    "re.sub(r'\\s|\\(|\\)', '' , phone)"
   ]
  },
  {
   "cell_type": "code",
   "execution_count": null,
   "id": "0290c9b1",
   "metadata": {},
   "outputs": [],
   "source": []
  }
 ],
 "metadata": {
  "kernelspec": {
   "display_name": "Python 3 (ipykernel)",
   "language": "python",
   "name": "python3"
  },
  "language_info": {
   "codemirror_mode": {
    "name": "ipython",
    "version": 3
   },
   "file_extension": ".py",
   "mimetype": "text/x-python",
   "name": "python",
   "nbconvert_exporter": "python",
   "pygments_lexer": "ipython3",
   "version": "3.9.7"
  },
  "toc": {
   "base_numbering": 1,
   "nav_menu": {},
   "number_sections": true,
   "sideBar": true,
   "skip_h1_title": false,
   "title_cell": "Table of Contents",
   "title_sidebar": "Contents",
   "toc_cell": false,
   "toc_position": {},
   "toc_section_display": true,
   "toc_window_display": false
  }
 },
 "nbformat": 4,
 "nbformat_minor": 5
}
