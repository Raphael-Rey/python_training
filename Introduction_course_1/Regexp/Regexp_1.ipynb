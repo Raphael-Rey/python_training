{
 "cells": [
  {
   "cell_type": "markdown",
   "id": "40493031",
   "metadata": {},
   "source": [
    "# Regular expression in python\n",
    "\n",
    "To test regular expression: https://regex101.com/\n",
    "\n",
    "\n",
    "### Special syntax in python: `r'regexp'`\n",
    "The `r` means that we want raw expression. It will for example\n",
    "as in a normal string undestand `\\n` as a new line in the string.\n",
    "It will keep `\\n` as part of the pattern.\n",
    "\n",
    "**Short story: always prefix regular expressions with `r`**\n",
    "\n",
    "\n",
    "### Use `match` to check a pattern from the beginning of a string\n",
    "```python\n",
    "# Check if a string match to a pattern\n",
    "m = re.match(r'\\d+@eduid.ch', '12345678910@eduid.ch')\n",
    "```\n",
    "\n",
    "### Use `search` to check a pattern on a part of the string\n",
    "```python\n",
    "# Check if a string contains a pattern\n",
    "m = re.search(r'@eduid.ch', '12345678910@eduid.ch')\n",
    "```\n",
    "\n",
    "### Use `findall` to get all matches\n",
    "```python\n",
    "# Check if a string contains a pattern\n",
    "m = re.findall(r'\\bA\\w*', 'Arbre, Bateau, Ami')\n",
    "```\n",
    "\n",
    "### Extract groups\n",
    "```python\n",
    "# Check if a string contains a pattern\n",
    "m = re.search(r'(\\d+)@(eduid.ch)', '12345678910@eduid.ch')\n",
    "```\n",
    "* `m.group(0)`: => '12345678910@eduid.ch' entire match\n",
    "* `m.group(1)`: => '12345678910' first parenthesis\n",
    "* `m.group(2)`: => 'eduid.ch' second parenthesis\n",
    "\n",
    "### Make substitutions\n",
    "```python\n",
    "# Transform numbers to *\n",
    "re.sub(r'\\d', '*' , '12345678910@eduid.ch')\n",
    "```"
   ]
  },
  {
   "cell_type": "code",
   "execution_count": 1,
   "id": "b2293729",
   "metadata": {},
   "outputs": [],
   "source": [
    "import re"
   ]
  },
  {
   "cell_type": "code",
   "execution_count": 3,
   "id": "b893bd87",
   "metadata": {},
   "outputs": [
    {
     "name": "stdout",
     "output_type": "stream",
     "text": [
      "@\n"
     ]
    }
   ],
   "source": [
    "m = re.search(r'(@)', '12345678910@eduid.ch')\n",
    "if m:\n",
    "    print(m.group(0))"
   ]
  },
  {
   "cell_type": "code",
   "execution_count": 4,
   "id": "768e75f6",
   "metadata": {},
   "outputs": [
    {
     "ename": "NameError",
     "evalue": "name 'record' is not defined",
     "output_type": "error",
     "traceback": [
      "\u001b[0;31m---------------------------------------------------------------------------\u001b[0m",
      "\u001b[0;31mNameError\u001b[0m                                 Traceback (most recent call last)",
      "Cell \u001b[0;32mIn[4], line 1\u001b[0m\n\u001b[0;32m----> 1\u001b[0m re\u001b[38;5;241m.\u001b[39mfindall(\u001b[38;5;124mr\u001b[39m\u001b[38;5;124m'\u001b[39m\u001b[38;5;124mtag=\u001b[39m\u001b[38;5;124m\"\u001b[39m\u001b[38;5;124m\\\u001b[39m\u001b[38;5;124md\u001b[39m\u001b[38;5;132;01m{3}\u001b[39;00m\u001b[38;5;124m\"\u001b[39m\u001b[38;5;124m'\u001b[39m, \u001b[43mrecord\u001b[49m)\n",
      "\u001b[0;31mNameError\u001b[0m: name 'record' is not defined"
     ]
    }
   ],
   "source": [
    "re.findall(r'tag=\"\\d{3}\"', record)"
   ]
  },
  {
   "cell_type": "code",
   "execution_count": 5,
   "id": "22baa091",
   "metadata": {},
   "outputs": [
    {
     "data": {
      "text/plain": [
       "'***********@eduid.ch'"
      ]
     },
     "execution_count": 5,
     "metadata": {},
     "output_type": "execute_result"
    }
   ],
   "source": [
    "re.sub(r'\\d', '*' , '12345678910@eduid.ch')"
   ]
  },
  {
   "cell_type": "code",
   "execution_count": 7,
   "id": "0d993101",
   "metadata": {},
   "outputs": [
    {
     "data": {
      "text/plain": [
       "<re.Match object; span=(0, 20), match='12345678910@eduid.ch'>"
      ]
     },
     "execution_count": 7,
     "metadata": {},
     "output_type": "execute_result"
    }
   ],
   "source": [
    "re.match('\\d+@[a-z]+\\.[a-z]{2,3}', '12345678910@eduid.ch')"
   ]
  },
  {
   "cell_type": "code",
   "execution_count": 65,
   "id": "dad73b9e",
   "metadata": {},
   "outputs": [
    {
     "data": {
      "text/plain": [
       "'12345678910@eth.ch'"
      ]
     },
     "execution_count": 65,
     "metadata": {},
     "output_type": "execute_result"
    }
   ],
   "source": [
    "re.sub(r'(\\d+@)[a-z]+(\\.[a-z]{2,3})', r'\\1eth\\2', '12345678910@eduid.ch')"
   ]
  },
  {
   "cell_type": "code",
   "execution_count": null,
   "id": "6f8e52c1",
   "metadata": {},
   "outputs": [],
   "source": []
  }
 ],
 "metadata": {
  "kernelspec": {
   "display_name": "Python 3 (ipykernel)",
   "language": "python",
   "name": "python3"
  },
  "language_info": {
   "codemirror_mode": {
    "name": "ipython",
    "version": 3
   },
   "file_extension": ".py",
   "mimetype": "text/x-python",
   "name": "python",
   "nbconvert_exporter": "python",
   "pygments_lexer": "ipython3",
   "version": "3.9.7"
  },
  "toc": {
   "base_numbering": 1,
   "nav_menu": {},
   "number_sections": true,
   "sideBar": true,
   "skip_h1_title": false,
   "title_cell": "Table of Contents",
   "title_sidebar": "Contents",
   "toc_cell": false,
   "toc_position": {},
   "toc_section_display": true,
   "toc_window_display": false
  }
 },
 "nbformat": 4,
 "nbformat_minor": 5
}
