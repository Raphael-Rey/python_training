{
 "cells": [
  {
   "cell_type": "markdown",
   "id": "9901e045",
   "metadata": {},
   "source": [
    "# Regexp exercise"
   ]
  },
  {
   "cell_type": "code",
   "execution_count": 7,
   "id": "7ffff1a6",
   "metadata": {},
   "outputs": [],
   "source": [
    "import re\n",
    "phone = '(032)123 454 444'"
   ]
  },
  {
   "cell_type": "markdown",
   "id": "16a9d4d3",
   "metadata": {},
   "source": [
    "### Exercise 1"
   ]
  },
  {
   "cell_type": "code",
   "execution_count": null,
   "id": "1f8fbf99",
   "metadata": {},
   "outputs": [],
   "source": [
    "# a) Check if the phone number contains only numbers"
   ]
  },
  {
   "cell_type": "code",
   "execution_count": null,
   "id": "7e3a4ff2",
   "metadata": {},
   "outputs": [],
   "source": [
    "# b) Check if the phone number contains letters ([a-zA-Z])"
   ]
  },
  {
   "cell_type": "code",
   "execution_count": null,
   "id": "c02d34b2",
   "metadata": {},
   "outputs": [],
   "source": [
    "# c) Check if the phone number contains any empty space "
   ]
  },
  {
   "cell_type": "markdown",
   "id": "65a6f334",
   "metadata": {},
   "source": [
    "### Exercise 2"
   ]
  },
  {
   "cell_type": "code",
   "execution_count": null,
   "id": "caa90fbb",
   "metadata": {},
   "outputs": [],
   "source": [
    "# a) Extract the content of the parenthesis \"032\""
   ]
  },
  {
   "cell_type": "code",
   "execution_count": null,
   "id": "8e536dc6",
   "metadata": {},
   "outputs": [],
   "source": [
    "# b) Extract the part outside of the parenthis"
   ]
  },
  {
   "cell_type": "code",
   "execution_count": null,
   "id": "1782d267",
   "metadata": {},
   "outputs": [],
   "source": [
    "# c) Extract all the groups of three numbers"
   ]
  },
  {
   "cell_type": "markdown",
   "id": "51280ea2",
   "metadata": {},
   "source": [
    "### Exercise 3"
   ]
  },
  {
   "cell_type": "code",
   "execution_count": null,
   "id": "e7299a9a",
   "metadata": {},
   "outputs": [],
   "source": [
    "# Remove blank and parentheses (032)123 454 444 => 032123454444 "
   ]
  },
  {
   "cell_type": "code",
   "execution_count": null,
   "id": "4665caeb",
   "metadata": {},
   "outputs": [],
   "source": []
  }
 ],
 "metadata": {
  "kernelspec": {
   "display_name": "Python 3 (ipykernel)",
   "language": "python",
   "name": "python3"
  },
  "language_info": {
   "codemirror_mode": {
    "name": "ipython",
    "version": 3
   },
   "file_extension": ".py",
   "mimetype": "text/x-python",
   "name": "python",
   "nbconvert_exporter": "python",
   "pygments_lexer": "ipython3",
   "version": "3.9.12"
  }
 },
 "nbformat": 4,
 "nbformat_minor": 5
}
