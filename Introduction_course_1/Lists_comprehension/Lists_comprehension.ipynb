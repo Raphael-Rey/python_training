{
 "cells": [
  {
   "cell_type": "markdown",
   "id": "96e467d7",
   "metadata": {},
   "source": [
    "# Lists Comprehension\n",
    "A very common and useful feature in python\n",
    "\n",
    "```python\n",
    "# pattern:\n",
    "newlist = [expression for item in iterable if condition == True]\n",
    "```\n",
    "\n",
    "You can use lists comprehension for:\n",
    "- Filter a list\n",
    "- modify elements of a list\n",
    "\n",
    "**Important rule:** Lists comprehension are beautiful! but it must be simple.\n",
    "\n",
    "Not really good, because too complicated:\n",
    "```python\n",
    "# List all chars of a word list\n",
    "list_of_chars_of_a_word_list = [char\n",
    "                                for word in words\n",
    "                                for char in word]\n",
    "```"
   ]
  },
  {
   "cell_type": "code",
   "execution_count": 33,
   "id": "a0b2826c",
   "metadata": {},
   "outputs": [],
   "source": [
    "fruits = ['apple', 'apricot', 'pear', 'chestnut']"
   ]
  },
  {
   "cell_type": "code",
   "execution_count": 36,
   "id": "5682b6ec",
   "metadata": {},
   "outputs": [
    {
     "data": {
      "text/plain": [
       "['apple', 'apricot']"
      ]
     },
     "execution_count": 36,
     "metadata": {},
     "output_type": "execute_result"
    }
   ],
   "source": [
    "# Only fruits starting with 'a'\n",
    "fruits_starting_with_a = [fruit for fruit in fruits if fruit.startswith('a')]\n",
    "fruits_starting_with_a"
   ]
  },
  {
   "cell_type": "code",
   "execution_count": 44,
   "id": "6bb907f1",
   "metadata": {},
   "outputs": [
    {
     "data": {
      "text/plain": [
       "['apples', 'apricots', 'pears', 'chestnuts']"
      ]
     },
     "execution_count": 44,
     "metadata": {},
     "output_type": "execute_result"
    }
   ],
   "source": [
    "# Add \"s\" to each fruit\n",
    "fruits_with_s = [fruit + 's' for fruit in fruits]\n",
    "fruits_with_s"
   ]
  },
  {
   "cell_type": "code",
   "execution_count": 45,
   "id": "6536b444",
   "metadata": {},
   "outputs": [
    {
     "data": {
      "text/plain": [
       "['apples', 'apricots']"
      ]
     },
     "execution_count": 45,
     "metadata": {},
     "output_type": "execute_result"
    }
   ],
   "source": [
    "# Only fruits starting with a AND Add \"s\" to each fruit\n",
    "[fruit + 's' for fruit in fruits if fruit.startswith('a')]"
   ]
  },
  {
   "cell_type": "code",
   "execution_count": 46,
   "id": "426d5e1e",
   "metadata": {},
   "outputs": [
    {
     "data": {
      "text/plain": [
       "['apples', 'apricots', 'pear', 'chestnut']"
      ]
     },
     "execution_count": 46,
     "metadata": {},
     "output_type": "execute_result"
    }
   ],
   "source": [
    "# Add \"s\" to each fruit only if fruit starts with 'a'\n",
    "[fruit + 's' if fruit.startswith('a') else fruit\n",
    " for fruit in fruits]"
   ]
  },
  {
   "cell_type": "code",
   "execution_count": 76,
   "id": "36379a7c",
   "metadata": {},
   "outputs": [
    {
     "name": "stdout",
     "output_type": "stream",
     "text": [
      "Start list:\n",
      "[0, 1, 2, 3, 4, 5, 6, 7, 8, 9]\n",
      "\n",
      "\n",
      "Each item multiplied by 2:\n",
      "[0, 2, 4, 6, 8, 10, 12, 14, 16, 18]\n",
      "\n",
      "\n",
      "Only even values:\n",
      "[0, 2, 4, 6, 8]\n",
      "\n",
      "\n",
      "Only even values AND multiplied by 2:\n",
      "[0, 4, 8, 12, 16]\n"
     ]
    }
   ],
   "source": [
    "# Example on numbers\n",
    "\n",
    "print('Start list:')\n",
    "print([n for n in range(10)])\n",
    "print('\\n')\n",
    "\n",
    "print('Each item multiplied by 2:')\n",
    "print([n * 2 for n in range(10)])\n",
    "print('\\n')\n",
    "\n",
    "print('Only even values:')\n",
    "print([n for n in range(10) if n % 2 == 0 ])\n",
    "print('\\n')\n",
    "\n",
    "print('Only even values AND multiplied by 2:')\n",
    "print([n * 2 for n in range(10) if n % 2 == 0 ])"
   ]
  },
  {
   "cell_type": "code",
   "execution_count": null,
   "id": "c3fc49bb",
   "metadata": {},
   "outputs": [],
   "source": []
  }
 ],
 "metadata": {
  "kernelspec": {
   "display_name": "Python 3 (ipykernel)",
   "language": "python",
   "name": "python3"
  },
  "language_info": {
   "codemirror_mode": {
    "name": "ipython",
    "version": 3
   },
   "file_extension": ".py",
   "mimetype": "text/x-python",
   "name": "python",
   "nbconvert_exporter": "python",
   "pygments_lexer": "ipython3",
   "version": "3.9.7"
  }
 },
 "nbformat": 4,
 "nbformat_minor": 5
}
