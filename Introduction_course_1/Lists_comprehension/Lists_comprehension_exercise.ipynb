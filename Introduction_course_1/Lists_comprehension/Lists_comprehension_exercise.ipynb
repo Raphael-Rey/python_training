{
 "cells": [
  {
   "cell_type": "markdown",
   "id": "0e0e5563",
   "metadata": {},
   "source": [
    "# Lists Comprehension - exercise"
   ]
  },
  {
   "cell_type": "code",
   "execution_count": null,
   "id": "b6d2c299",
   "metadata": {},
   "outputs": [],
   "source": [
    "numbers = [3, 4, 7, 10, 12]"
   ]
  },
  {
   "cell_type": "code",
   "execution_count": null,
   "id": "47e59013",
   "metadata": {},
   "outputs": [],
   "source": [
    "# 1. Add 3 to each number of the list"
   ]
  },
  {
   "cell_type": "code",
   "execution_count": 1,
   "id": "f3dab5f8",
   "metadata": {},
   "outputs": [],
   "source": [
    "# 2. Filter the list to keep only numbers below 10"
   ]
  },
  {
   "cell_type": "code",
   "execution_count": null,
   "id": "ac3890e3",
   "metadata": {},
   "outputs": [],
   "source": [
    "# 3. Add 3 to each number of the list AND Filter the list to keep only numbers below 10"
   ]
  },
  {
   "cell_type": "code",
   "execution_count": 3,
   "id": "dedcb96a",
   "metadata": {},
   "outputs": [],
   "source": [
    "# 4. List the file names of `files`directory"
   ]
  },
  {
   "cell_type": "code",
   "execution_count": 4,
   "id": "10a24097",
   "metadata": {},
   "outputs": [],
   "source": [
    "# 5. List the file names of `files` directory, but only if starting by 'a'"
   ]
  },
  {
   "cell_type": "code",
   "execution_count": 5,
   "id": "3bbf59a9",
   "metadata": {},
   "outputs": [],
   "source": [
    "# 6. Create a \"new_files\" directory"
   ]
  },
  {
   "cell_type": "code",
   "execution_count": 6,
   "id": "0e909744",
   "metadata": {},
   "outputs": [],
   "source": [
    "# 7. Copy the files starting by 'a' in the \"new_files\" directory"
   ]
  },
  {
   "cell_type": "code",
   "execution_count": null,
   "id": "142a2f1d",
   "metadata": {},
   "outputs": [],
   "source": []
  }
 ],
 "metadata": {
  "kernelspec": {
   "display_name": "Python 3 (ipykernel)",
   "language": "python",
   "name": "python3"
  },
  "language_info": {
   "codemirror_mode": {
    "name": "ipython",
    "version": 3
   },
   "file_extension": ".py",
   "mimetype": "text/x-python",
   "name": "python",
   "nbconvert_exporter": "python",
   "pygments_lexer": "ipython3",
   "version": "3.9.12"
  }
 },
 "nbformat": 4,
 "nbformat_minor": 5
}
