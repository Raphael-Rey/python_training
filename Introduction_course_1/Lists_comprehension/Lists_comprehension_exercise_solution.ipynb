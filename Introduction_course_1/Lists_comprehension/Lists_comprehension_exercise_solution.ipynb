{
 "cells": [
  {
   "cell_type": "markdown",
   "id": "0e0e5563",
   "metadata": {},
   "source": [
    "# Lists Comprehension - exercise - solution"
   ]
  },
  {
   "cell_type": "code",
   "execution_count": 4,
   "id": "b6d2c299",
   "metadata": {},
   "outputs": [],
   "source": [
    "numbers = [3, 4, 7, 10, 12]"
   ]
  },
  {
   "cell_type": "code",
   "execution_count": 5,
   "id": "47e59013",
   "metadata": {},
   "outputs": [],
   "source": [
    "# 1. Add 3 to each number of the list"
   ]
  },
  {
   "cell_type": "code",
   "execution_count": 6,
   "id": "25fb6223",
   "metadata": {},
   "outputs": [
    {
     "data": {
      "text/plain": [
       "[6, 7, 10, 13, 15]"
      ]
     },
     "execution_count": 6,
     "metadata": {},
     "output_type": "execute_result"
    }
   ],
   "source": [
    "[number + 3 for number in numbers]"
   ]
  },
  {
   "cell_type": "code",
   "execution_count": 1,
   "id": "f3dab5f8",
   "metadata": {},
   "outputs": [],
   "source": [
    "# 2. Filter the list to keep only numbers below 10"
   ]
  },
  {
   "cell_type": "code",
   "execution_count": 7,
   "id": "9b9efe00",
   "metadata": {},
   "outputs": [
    {
     "data": {
      "text/plain": [
       "[3, 4, 7]"
      ]
     },
     "execution_count": 7,
     "metadata": {},
     "output_type": "execute_result"
    }
   ],
   "source": [
    "[number for number in numbers if number < 10]"
   ]
  },
  {
   "cell_type": "code",
   "execution_count": 11,
   "id": "ac3890e3",
   "metadata": {},
   "outputs": [
    {
     "name": "stdout",
     "output_type": "stream",
     "text": [
      "Filter before + 3:  [6, 7, 10]\n",
      "Filter after + 3:  [6, 7]\n"
     ]
    }
   ],
   "source": [
    "# 3. Add 3 to each number of the list AND Filter the list to keep only numbers below 10\n",
    "print('Filter before + 3: ', [number + 3 for number in numbers if number < 10])\n",
    "print('Filter after + 3: ', [number + 3 for number in numbers if number < 7])"
   ]
  },
  {
   "cell_type": "code",
   "execution_count": 16,
   "id": "dedcb96a",
   "metadata": {},
   "outputs": [
    {
     "name": "stdout",
     "output_type": "stream",
     "text": [
      "['a.txt', 'a1.txt', 'a2.txt', 'b.txt', 'c.txt', 'd.txt']\n"
     ]
    }
   ],
   "source": [
    "# 4. List the file names of `files_examples` directory\n",
    "import os\n",
    "filenames = os.listdir('./files_examples')\n",
    "print(filenames)"
   ]
  },
  {
   "cell_type": "code",
   "execution_count": 17,
   "id": "10a24097",
   "metadata": {},
   "outputs": [
    {
     "data": {
      "text/plain": [
       "['a.txt', 'a1.txt', 'a2.txt']"
      ]
     },
     "execution_count": 17,
     "metadata": {},
     "output_type": "execute_result"
    }
   ],
   "source": [
    "# 5. List the file names of `files` directory, but only if starting by 'a'\n",
    "[f for f in filenames if 'a' in f]"
   ]
  },
  {
   "cell_type": "code",
   "execution_count": 18,
   "id": "3bbf59a9",
   "metadata": {},
   "outputs": [],
   "source": [
    "# 6. Create a \"new_files\" directory\n",
    "os.mkdir('new_files')"
   ]
  },
  {
   "cell_type": "code",
   "execution_count": 19,
   "id": "0e909744",
   "metadata": {},
   "outputs": [
    {
     "data": {
      "text/plain": [
       "['./new_files/a.txt', './new_files/a1.txt', './new_files/a2.txt']"
      ]
     },
     "execution_count": 19,
     "metadata": {},
     "output_type": "execute_result"
    }
   ],
   "source": [
    "# 7. Copy the files starting by 'a' in the \"new_files\" directory\n",
    "import shutil\n",
    "\n",
    "[shutil.copy(f'./files_examples/{f}', f'./new_files/{f}') for f in os.listdir('./files_examples') if 'a' in f]"
   ]
  },
  {
   "cell_type": "code",
   "execution_count": null,
   "id": "59da007a",
   "metadata": {},
   "outputs": [],
   "source": []
  }
 ],
 "metadata": {
  "kernelspec": {
   "display_name": "Python 3 (ipykernel)",
   "language": "python",
   "name": "python3"
  },
  "language_info": {
   "codemirror_mode": {
    "name": "ipython",
    "version": 3
   },
   "file_extension": ".py",
   "mimetype": "text/x-python",
   "name": "python",
   "nbconvert_exporter": "python",
   "pygments_lexer": "ipython3",
   "version": "3.9.12"
  }
 },
 "nbformat": 4,
 "nbformat_minor": 5
}
