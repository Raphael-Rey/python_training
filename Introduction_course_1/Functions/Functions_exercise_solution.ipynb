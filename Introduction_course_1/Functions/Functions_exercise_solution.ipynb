{
 "cells": [
  {
   "cell_type": "markdown",
   "id": "c5c64c0d",
   "metadata": {},
   "source": [
    "# Functions exercise - solution"
   ]
  },
  {
   "cell_type": "markdown",
   "id": "55b42452",
   "metadata": {},
   "source": [
    "### Create a simple function\n",
    "Create a function that add \" my cat\" to the end of a string\n",
    "```python\n",
    "complete_phrase = add_cat('I play with')\n",
    "print(complete_phrase) # Display 'I play with my cat'\n",
    "```"
   ]
  },
  {
   "cell_type": "code",
   "execution_count": 13,
   "id": "8d45fbdf",
   "metadata": {},
   "outputs": [
    {
     "name": "stdout",
     "output_type": "stream",
     "text": [
      "I play with my cat\n"
     ]
    }
   ],
   "source": [
    "# Write the function add_cat here, add a docstring to the function\n",
    "def add_cat(txt1, txt2=' my cat'):\n",
    "    \"\"\"This function concatenate the two strings provided. If only one string is provided\n",
    "    it adds \" my cat\" to this string.\"\"\"\n",
    "    return txt1 + txt2\n",
    "\n",
    "complete_phrase = add_cat('I play with')\n",
    "print(complete_phrase)"
   ]
  },
  {
   "cell_type": "markdown",
   "id": "cb9754c1",
   "metadata": {},
   "source": [
    "### Use named variables"
   ]
  },
  {
   "cell_type": "code",
   "execution_count": 14,
   "id": "2cd4f43e",
   "metadata": {},
   "outputs": [
    {
     "ename": "TypeError",
     "evalue": "unsupported operand type(s) for +: 'ellipsis' and 'int'",
     "output_type": "error",
     "traceback": [
      "\u001b[0;31m---------------------------------------------------------------------------\u001b[0m",
      "\u001b[0;31mTypeError\u001b[0m                                 Traceback (most recent call last)",
      "Input \u001b[0;32mIn [14]\u001b[0m, in \u001b[0;36m<cell line: 5>\u001b[0;34m()\u001b[0m\n\u001b[1;32m      2\u001b[0m     \u001b[38;5;28;01mreturn\u001b[39;00m a \u001b[38;5;241m+\u001b[39m b \u001b[38;5;241m+\u001b[39m c\n\u001b[1;32m      4\u001b[0m \u001b[38;5;66;03m# get a return value of 1011 using only 1 argument\u001b[39;00m\n\u001b[0;32m----> 5\u001b[0m result \u001b[38;5;241m=\u001b[39m \u001b[43madd_numbers\u001b[49m\u001b[43m(\u001b[49m\u001b[38;5;241;43m.\u001b[39;49m\u001b[38;5;241;43m.\u001b[39;49m\u001b[38;5;241;43m.\u001b[39;49m\u001b[43m)\u001b[49m\n\u001b[1;32m      6\u001b[0m \u001b[38;5;28mprint\u001b[39m(result)\n",
      "Input \u001b[0;32mIn [14]\u001b[0m, in \u001b[0;36madd_numbers\u001b[0;34m(a, b, c)\u001b[0m\n\u001b[1;32m      1\u001b[0m \u001b[38;5;28;01mdef\u001b[39;00m \u001b[38;5;21madd_numbers\u001b[39m(a\u001b[38;5;241m=\u001b[39m\u001b[38;5;241m1\u001b[39m, b\u001b[38;5;241m=\u001b[39m\u001b[38;5;241m10\u001b[39m, c\u001b[38;5;241m=\u001b[39m\u001b[38;5;241m100\u001b[39m):\n\u001b[0;32m----> 2\u001b[0m     \u001b[38;5;28;01mreturn\u001b[39;00m \u001b[43ma\u001b[49m\u001b[43m \u001b[49m\u001b[38;5;241;43m+\u001b[39;49m\u001b[43m \u001b[49m\u001b[43mb\u001b[49m \u001b[38;5;241m+\u001b[39m c\n",
      "\u001b[0;31mTypeError\u001b[0m: unsupported operand type(s) for +: 'ellipsis' and 'int'"
     ]
    }
   ],
   "source": [
    "def add_numbers(a=1, b=10, c=100):\n",
    "    return a + b + c\n",
    "\n",
    "# get a return value of 1011 using only 1 argument\n",
    "result = add_numbers(...)\n",
    "print(result)"
   ]
  },
  {
   "cell_type": "code",
   "execution_count": 15,
   "id": "47e42ab1",
   "metadata": {},
   "outputs": [
    {
     "name": "stdout",
     "output_type": "stream",
     "text": [
      "1011\n"
     ]
    }
   ],
   "source": [
    "# Solution\n",
    "def add_numbers(a=1, b=10, c=100):\n",
    "    return a + b + c\n",
    "\n",
    "result = add_numbers(c=1000)\n",
    "print(result)"
   ]
  },
  {
   "cell_type": "markdown",
   "id": "18b463ed",
   "metadata": {},
   "source": [
    "### Use variable outside of the function\n",
    "Check the `warning`value declared outside of the function. If the variable is True, then return None."
   ]
  },
  {
   "cell_type": "code",
   "execution_count": 16,
   "id": "4f3cf66e",
   "metadata": {},
   "outputs": [
    {
     "name": "stdout",
     "output_type": "stream",
     "text": [
      "6\n"
     ]
    }
   ],
   "source": [
    "def add_numbers(a=1, b=10, c=100):\n",
    "    # Add here a test to check if the variable warning is True, if yes return None\n",
    "    \n",
    "    return a + b + c\n",
    "\n",
    "warning = True\n",
    "print(add_numbers(1, 2, 3))"
   ]
  },
  {
   "cell_type": "code",
   "execution_count": 17,
   "id": "b73302de",
   "metadata": {},
   "outputs": [
    {
     "name": "stdout",
     "output_type": "stream",
     "text": [
      "None\n"
     ]
    }
   ],
   "source": [
    "# Solution\n",
    "\n",
    "def add_numbers(a=1, b=10, c=100):\n",
    "    if warning is True:\n",
    "        return\n",
    "    \n",
    "    return a + b + c\n",
    "\n",
    "warning = True\n",
    "print(add_numbers(1, 2, 3))"
   ]
  },
  {
   "cell_type": "code",
   "execution_count": null,
   "id": "31645fd1",
   "metadata": {},
   "outputs": [],
   "source": []
  }
 ],
 "metadata": {
  "kernelspec": {
   "display_name": "Python 3 (ipykernel)",
   "language": "python",
   "name": "python3"
  },
  "language_info": {
   "codemirror_mode": {
    "name": "ipython",
    "version": 3
   },
   "file_extension": ".py",
   "mimetype": "text/x-python",
   "name": "python",
   "nbconvert_exporter": "python",
   "pygments_lexer": "ipython3",
   "version": "3.9.12"
  }
 },
 "nbformat": 4,
 "nbformat_minor": 5
}
