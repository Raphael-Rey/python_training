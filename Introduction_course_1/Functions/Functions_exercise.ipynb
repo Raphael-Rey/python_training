{
 "cells": [
  {
   "cell_type": "markdown",
   "id": "c5c64c0d",
   "metadata": {},
   "source": [
    "# Functions exercise"
   ]
  },
  {
   "cell_type": "markdown",
   "id": "55b42452",
   "metadata": {},
   "source": [
    "### Create a simple function\n",
    "Create a function that add \" my cat\" to the end of a string\n",
    "```python\n",
    "complete_phrase = add_cat('I play with')\n",
    "print(complete_phrase) # Display 'I play with my cat'\n",
    "```"
   ]
  },
  {
   "cell_type": "code",
   "execution_count": 6,
   "id": "8d45fbdf",
   "metadata": {},
   "outputs": [
    {
     "name": "stdout",
     "output_type": "stream",
     "text": [
      "I play with cat\n"
     ]
    }
   ],
   "source": [
    "# Write the function add_cat here, add a docstring to the function\n",
    "\n",
    "complete_phrase = add_cat('I play with')\n",
    "print(complete_phrase)"
   ]
  },
  {
   "cell_type": "markdown",
   "id": "cb9754c1",
   "metadata": {},
   "source": [
    "### Use named variables"
   ]
  },
  {
   "cell_type": "code",
   "execution_count": null,
   "id": "2cd4f43e",
   "metadata": {},
   "outputs": [],
   "source": [
    "def add_numbers(a=1, b=10, c=100):\n",
    "    return a + b + c\n",
    "\n",
    "# get a return value of 1011 using only 1 argument\n",
    "result = add_numbers(...)\n",
    "print(result)\n"
   ]
  },
  {
   "cell_type": "markdown",
   "id": "18b463ed",
   "metadata": {},
   "source": [
    "### Use variable outside of the function\n",
    "Check the `warning`value declared outside of the function. If the variable is True, then return None."
   ]
  },
  {
   "cell_type": "code",
   "execution_count": null,
   "id": "4f3cf66e",
   "metadata": {},
   "outputs": [],
   "source": [
    "def add_numbers(a=1, b=10, c=100):\n",
    "    # Add here a test to check if the variable warning is True, if yes return None\n",
    "    \n",
    "    return a + b + c\n",
    "\n",
    "warning = True\n",
    "print(add_numbers(1, 2, 3))"
   ]
  }
 ],
 "metadata": {
  "kernelspec": {
   "display_name": "Python 3 (ipykernel)",
   "language": "python",
   "name": "python3"
  },
  "language_info": {
   "codemirror_mode": {
    "name": "ipython",
    "version": 3
   },
   "file_extension": ".py",
   "mimetype": "text/x-python",
   "name": "python",
   "nbconvert_exporter": "python",
   "pygments_lexer": "ipython3",
   "version": "3.9.12"
  }
 },
 "nbformat": 4,
 "nbformat_minor": 5
}
