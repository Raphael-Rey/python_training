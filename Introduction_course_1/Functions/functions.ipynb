{
 "cells": [
  {
   "cell_type": "markdown",
   "id": "19782046",
   "metadata": {},
   "source": [
    "# Functions in python"
   ]
  },
  {
   "cell_type": "markdown",
   "id": "b865bc43",
   "metadata": {},
   "source": [
    "Topics\n",
    "- Why\n",
    "    - Isolate some operations\n",
    "    - DRY: Do not repeat yourself\n",
    "    - Testing/debugging purpose\n",
    "- Docstrings (ok)\n",
    "- arguments:\n",
    "    - default values (ok)\n",
    "    - named arguments (ok)\n",
    "- Return values\n",
    "    - None return value (ok)\n",
    "- Scope of variables (ok)"
   ]
  },
  {
   "cell_type": "markdown",
   "id": "04e87ad5",
   "metadata": {},
   "source": [
    "## Simple example with docstring"
   ]
  },
  {
   "cell_type": "code",
   "execution_count": 28,
   "id": "1341ad08",
   "metadata": {},
   "outputs": [
    {
     "name": "stdout",
     "output_type": "stream",
     "text": [
      "7\n"
     ]
    }
   ],
   "source": [
    "def sub_numbers_v1(a, b):\n",
    "    \"\"\"Substract number a with number b\n",
    "    \"\"\"\n",
    "    return a - b # return the calculated value\n",
    "\n",
    "c = sub_numbers_v1(10, 3)\n",
    "print(c)"
   ]
  },
  {
   "cell_type": "markdown",
   "id": "eaa6618b",
   "metadata": {},
   "source": [
    "## Arguments"
   ]
  },
  {
   "cell_type": "code",
   "execution_count": 29,
   "id": "cc068ab8",
   "metadata": {},
   "outputs": [
    {
     "name": "stdout",
     "output_type": "stream",
     "text": [
      "Result without default value:  7\n",
      "Result using default value:  6\n"
     ]
    }
   ],
   "source": [
    "def sub_numbers_v2(a, b=4):\n",
    "    \"\"\"Substract number a with number b. Default b value is 4\n",
    "    \"\"\"\n",
    "    return a - b\n",
    "\n",
    "d = sub_numbers_v2(10, 3)\n",
    "e = sub_numbers_v2(10)\n",
    "print('Result without default value: ', d)\n",
    "print('Result using default value: ', e)"
   ]
  },
  {
   "cell_type": "code",
   "execution_count": 30,
   "id": "6f8c4461",
   "metadata": {},
   "outputs": [
    {
     "name": "stdout",
     "output_type": "stream",
     "text": [
      "Result using named parameters:  9\n",
      "Result without named parameters:  -9\n"
     ]
    }
   ],
   "source": [
    "f = sub_numbers_v1(b=1, a=10)\n",
    "h = sub_numbers_v1(1, 10)\n",
    "print('Result using named parameters: ', f)\n",
    "print('Result without named parameters: ', h)\n",
    "\n",
    "# Named argument are very useful when a function has a lot of possible argument. In pandas its very common.\n",
    "# Not named arguments must always be before named arguments"
   ]
  },
  {
   "cell_type": "markdown",
   "id": "1a6e38ea",
   "metadata": {},
   "source": [
    "## Return value\n",
    "The `return` word exit the function and return a value. If no `return` is available, the function will have a `None` value"
   ]
  },
  {
   "cell_type": "code",
   "execution_count": 31,
   "id": "87748af5",
   "metadata": {},
   "outputs": [
    {
     "name": "stdout",
     "output_type": "stream",
     "text": [
      "Result without \"return\" in the function:  None\n"
     ]
    }
   ],
   "source": [
    "def sub_numbers_v3(a, b):\n",
    "    \"\"\"Function without any return word\n",
    "    \"\"\"\n",
    "    result = a - b\n",
    "\n",
    "i = sub_numbers_v3(10, 2)\n",
    "print('Result without \"return\" in the function: ', i)"
   ]
  },
  {
   "cell_type": "code",
   "execution_count": 32,
   "id": "c3fcb6d6",
   "metadata": {},
   "outputs": [
    {
     "name": "stdout",
     "output_type": "stream",
     "text": [
      "With \"n\" as 1:  a\n",
      "With \"n\" as 3:  c\n",
      "With \"n\" as 0:  None\n",
      "With \"n\" as 6:  None\n"
     ]
    }
   ],
   "source": [
    "def get_the_n_letter(n):\n",
    "    \"\"\"Several return word in the same function\n",
    "    \"\"\"\n",
    "    letters = ['a', 'b', 'c', 'd', 'e']\n",
    "    if n > len(letters) or n < 1:\n",
    "        return\n",
    "    rank = n - 1 # list ranking starts at 0\n",
    "    return letters[rank]\n",
    "\n",
    "print('With \"n\" as 1: ', get_the_n_letter(1))\n",
    "print('With \"n\" as 3: ', get_the_n_letter(3))\n",
    "print('With \"n\" as 0: ', get_the_n_letter(0))\n",
    "print('With \"n\" as 6: ', get_the_n_letter(6))"
   ]
  },
  {
   "cell_type": "markdown",
   "id": "29771001",
   "metadata": {},
   "source": [
    "## Scope of the variables\n",
    "Main program or other functions cannot access variables created inside the function."
   ]
  },
  {
   "cell_type": "code",
   "execution_count": 33,
   "id": "556725f2",
   "metadata": {},
   "outputs": [
    {
     "ename": "NameError",
     "evalue": "name 'result' is not defined",
     "output_type": "error",
     "traceback": [
      "\u001b[0;31m---------------------------------------------------------------------------\u001b[0m",
      "\u001b[0;31mNameError\u001b[0m                                 Traceback (most recent call last)",
      "Input \u001b[0;32mIn [33]\u001b[0m, in \u001b[0;36m<cell line: 8>\u001b[0;34m()\u001b[0m\n\u001b[1;32m      4\u001b[0m     result \u001b[38;5;241m=\u001b[39m a \u001b[38;5;241m-\u001b[39m b\n\u001b[1;32m      6\u001b[0m sub_numbers_v3(\u001b[38;5;241m10\u001b[39m, \u001b[38;5;241m3\u001b[39m)\n\u001b[0;32m----> 8\u001b[0m \u001b[38;5;28mprint\u001b[39m(\u001b[43mresult\u001b[49m)\n",
      "\u001b[0;31mNameError\u001b[0m: name 'result' is not defined"
     ]
    }
   ],
   "source": [
    "def sub_numbers_v3(a, b):\n",
    "    \"\"\"Function without any return word\n",
    "    \"\"\"\n",
    "    result = a - b\n",
    "\n",
    "sub_numbers_v3(10, 3)\n",
    "\n",
    "print(result) # Generate an error => \"result\" doesn't exist outside the \"sub_numbers_v3\" function"
   ]
  },
  {
   "cell_type": "code",
   "execution_count": 34,
   "id": "22cc6b65",
   "metadata": {},
   "outputs": [
    {
     "name": "stdout",
     "output_type": "stream",
     "text": [
      "With \"c\" outside the scope of the function:  150\n"
     ]
    }
   ],
   "source": [
    "c = 15\n",
    "def sub_numbers_v4(a, b):\n",
    "    \"\"\"Function using variable outside the function\n",
    "    \"\"\"\n",
    "    return (a - b) * c\n",
    "print('With \"c\" outside the scope of the function: ', sub_numbers_v4(12, 2))"
   ]
  },
  {
   "cell_type": "code",
   "execution_count": 35,
   "id": "2b320996",
   "metadata": {},
   "outputs": [
    {
     "name": "stdout",
     "output_type": "stream",
     "text": [
      "['a', 'b', 'c', 'd', 'e', 'f']\n",
      "No return value:  None\n",
      "Each time you run the function, you will add \"f\" to the list ['a', 'b', 'c', 'd', 'e', 'f', 'f', 'f']\n"
     ]
    }
   ],
   "source": [
    "letters = ['a', 'b', 'c', 'd', 'e']\n",
    "\n",
    "def add_f_to_list(letters_list):\n",
    "    letters_list.append('f')\n",
    "\n",
    "add_f_to_list(letters) # 1 run\n",
    "print(letters)\n",
    "print('No return value: ', add_f_to_list(letters)) # 2 run\n",
    "add_f_to_list(letters) # 3 run\n",
    "print('Each time you run the function, you will add \"f\" to the list', letters)"
   ]
  },
  {
   "cell_type": "code",
   "execution_count": null,
   "id": "0dfa463d",
   "metadata": {},
   "outputs": [],
   "source": []
  }
 ],
 "metadata": {
  "kernelspec": {
   "display_name": "Python 3 (ipykernel)",
   "language": "python",
   "name": "python3"
  },
  "language_info": {
   "codemirror_mode": {
    "name": "ipython",
    "version": 3
   },
   "file_extension": ".py",
   "mimetype": "text/x-python",
   "name": "python",
   "nbconvert_exporter": "python",
   "pygments_lexer": "ipython3",
   "version": "3.9.12"
  }
 },
 "nbformat": 4,
 "nbformat_minor": 5
}
