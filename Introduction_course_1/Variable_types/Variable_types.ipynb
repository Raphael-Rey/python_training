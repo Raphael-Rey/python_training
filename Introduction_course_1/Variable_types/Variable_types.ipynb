{
 "cells": [
  {
   "cell_type": "markdown",
   "id": "c26f1c7b",
   "metadata": {},
   "source": [
    "# Variable types\n",
    "\n",
    "| Immutable | Mutable |\n",
    "|-----------|---------|\n",
    "| int       | list    |\n",
    "| float     | dict    |\n",
    "| str       | set     |\n",
    "| tuple     |         |\n",
    "| bool      |         |\n",
    "| bytes     |         |"
   ]
  },
  {
   "cell_type": "markdown",
   "id": "c10a9ea8",
   "metadata": {},
   "source": [
    "### Simple example\n",
    "#### Strings are not mutable in python"
   ]
  },
  {
   "cell_type": "code",
   "execution_count": 71,
   "id": "289c4272",
   "metadata": {},
   "outputs": [
    {
     "name": "stdout",
     "output_type": "stream",
     "text": [
      "12345\n"
     ]
    }
   ],
   "source": [
    "txt = '12345'\n",
    "print(txt)"
   ]
  },
  {
   "cell_type": "code",
   "execution_count": 72,
   "id": "e88febf3",
   "metadata": {},
   "outputs": [
    {
     "ename": "TypeError",
     "evalue": "'str' object does not support item assignment",
     "output_type": "error",
     "traceback": [
      "\u001b[0;31m---------------------------------------------------------------------------\u001b[0m",
      "\u001b[0;31mTypeError\u001b[0m                                 Traceback (most recent call last)",
      "Cell \u001b[0;32mIn[72], line 2\u001b[0m\n\u001b[1;32m      1\u001b[0m \u001b[38;5;66;03m# Not possible to change single char\u001b[39;00m\n\u001b[0;32m----> 2\u001b[0m \u001b[43mtxt\u001b[49m\u001b[43m[\u001b[49m\u001b[38;5;241;43m2\u001b[39;49m\u001b[43m]\u001b[49m \u001b[38;5;241m=\u001b[39m \u001b[38;5;124m'\u001b[39m\u001b[38;5;124mM\u001b[39m\u001b[38;5;124m'\u001b[39m\n",
      "\u001b[0;31mTypeError\u001b[0m: 'str' object does not support item assignment"
     ]
    }
   ],
   "source": [
    "# Not possible to change single char\n",
    "txt[2] = 'M'"
   ]
  },
  {
   "cell_type": "code",
   "execution_count": 73,
   "id": "aae8299d",
   "metadata": {},
   "outputs": [
    {
     "data": {
      "text/plain": [
       "'12M45'"
      ]
     },
     "execution_count": 73,
     "metadata": {},
     "output_type": "execute_result"
    }
   ],
   "source": [
    "# We need to create a new string\n",
    "txt[:2] + 'M' + txt[3:]"
   ]
  },
  {
   "cell_type": "markdown",
   "id": "6700b288",
   "metadata": {},
   "source": [
    "#### Lists vs tuples"
   ]
  },
  {
   "cell_type": "code",
   "execution_count": 76,
   "id": "68d5b8d9",
   "metadata": {},
   "outputs": [
    {
     "name": "stdout",
     "output_type": "stream",
     "text": [
      "[1, 2, 3, 4]\n"
     ]
    }
   ],
   "source": [
    "# Lists are mutable\n",
    "list_a = [1, 2, 3]\n",
    "list_a.append(4)\n",
    "print(list_a)"
   ]
  },
  {
   "cell_type": "code",
   "execution_count": 77,
   "id": "cc5a4349",
   "metadata": {},
   "outputs": [
    {
     "ename": "AttributeError",
     "evalue": "'tuple' object has no attribute 'append'",
     "output_type": "error",
     "traceback": [
      "\u001b[0;31m---------------------------------------------------------------------------\u001b[0m",
      "\u001b[0;31mAttributeError\u001b[0m                            Traceback (most recent call last)",
      "Cell \u001b[0;32mIn[77], line 3\u001b[0m\n\u001b[1;32m      1\u001b[0m \u001b[38;5;66;03m# Tuples are like lists, but not mutable\u001b[39;00m\n\u001b[1;32m      2\u001b[0m tuple_a \u001b[38;5;241m=\u001b[39m (\u001b[38;5;241m1\u001b[39m, \u001b[38;5;241m2\u001b[39m, \u001b[38;5;241m3\u001b[39m)\n\u001b[0;32m----> 3\u001b[0m \u001b[43mtuple_a\u001b[49m\u001b[38;5;241;43m.\u001b[39;49m\u001b[43mappend\u001b[49m(\u001b[38;5;241m4\u001b[39m)\n",
      "\u001b[0;31mAttributeError\u001b[0m: 'tuple' object has no attribute 'append'"
     ]
    }
   ],
   "source": [
    "# Tuples are like lists, but not mutable\n",
    "tuple_a = (1, 2, 3)\n",
    "tuple_a.append(4)"
   ]
  },
  {
   "cell_type": "markdown",
   "id": "c487d645",
   "metadata": {},
   "source": [
    "### Check variable type"
   ]
  },
  {
   "cell_type": "code",
   "execution_count": 39,
   "id": "c19f15cd",
   "metadata": {},
   "outputs": [
    {
     "data": {
      "text/plain": [
       "True"
      ]
     },
     "execution_count": 39,
     "metadata": {},
     "output_type": "execute_result"
    }
   ],
   "source": [
    "# We use `type`\n",
    "\n",
    "# Check type of a string\n",
    "v_str = 'dog'\n",
    "type(v_str) is str"
   ]
  },
  {
   "cell_type": "code",
   "execution_count": 81,
   "id": "9402d100",
   "metadata": {},
   "outputs": [
    {
     "data": {
      "text/plain": [
       "True"
      ]
     },
     "execution_count": 81,
     "metadata": {},
     "output_type": "execute_result"
    }
   ],
   "source": [
    "# Check type of a boolean\n",
    "type(True) is bool"
   ]
  },
  {
   "cell_type": "code",
   "execution_count": null,
   "id": "667f9b7d",
   "metadata": {},
   "outputs": [],
   "source": [
    "# Check type of a float\n",
    "type(8.3) is float"
   ]
  },
  {
   "cell_type": "code",
   "execution_count": 88,
   "id": "65782225",
   "metadata": {},
   "outputs": [
    {
     "name": "stdout",
     "output_type": "stream",
     "text": [
      "sqrt(4):  2.0\n",
      "sqrt(-4):  None\n"
     ]
    }
   ],
   "source": [
    "# Very often result of function can be None, we need to check it\n",
    "def sqrt(n):\n",
    "    if n >= 0:\n",
    "        return n**0.5\n",
    "    else:\n",
    "        return None\n",
    "\n",
    "print('sqrt(4): ', sqrt(4))\n",
    "print('sqrt(-4): ', sqrt(-4))"
   ]
  },
  {
   "cell_type": "code",
   "execution_count": 91,
   "id": "20d50bdd",
   "metadata": {},
   "outputs": [
    {
     "name": "stdout",
     "output_type": "stream",
     "text": [
      "no answer\n"
     ]
    }
   ],
   "source": [
    "# With -9 the result of function will be None\n",
    "a = sqrt(-9)\n",
    "if a is not None:\n",
    "    print(a)\n",
    "else:\n",
    "    print('no answer')"
   ]
  },
  {
   "cell_type": "code",
   "execution_count": 92,
   "id": "966bf9fa",
   "metadata": {},
   "outputs": [
    {
     "name": "stdout",
     "output_type": "stream",
     "text": [
      "3.0\n"
     ]
    }
   ],
   "source": [
    "# With 9 the result of function will be 3.0\n",
    "a = sqrt(9)\n",
    "if a is not None:\n",
    "    print(a)\n",
    "else:\n",
    "    print('no answer')\n",
    "    \n",
    "# Important: None is a kind of type !"
   ]
  },
  {
   "cell_type": "code",
   "execution_count": 48,
   "id": "cc5fd2da",
   "metadata": {},
   "outputs": [
    {
     "data": {
      "text/plain": [
       "True"
      ]
     },
     "execution_count": 48,
     "metadata": {},
     "output_type": "execute_result"
    }
   ],
   "source": [
    "type(8.3) is float"
   ]
  },
  {
   "cell_type": "markdown",
   "id": "74c990af",
   "metadata": {},
   "source": [
    "### Mutable vs immutable"
   ]
  },
  {
   "cell_type": "code",
   "execution_count": 49,
   "id": "a4485935",
   "metadata": {},
   "outputs": [
    {
     "name": "stdout",
     "output_type": "stream",
     "text": [
      "[1, 2, 3, 4, 5]\n"
     ]
    }
   ],
   "source": [
    "# In case of mutable variables, variable itself are only links to the object\n",
    "\n",
    "a = [1, 2, 3, 4]\n",
    "b = a\n",
    "# a and b are linked to the SAME object list\n",
    "\n",
    "a.append(5)\n",
    "print(b)"
   ]
  },
  {
   "cell_type": "code",
   "execution_count": 93,
   "id": "2984820e",
   "metadata": {},
   "outputs": [
    {
     "name": "stdout",
     "output_type": "stream",
     "text": [
      "a:  [1, 2, 3, 'new']\n",
      "b:  [1, 2, 3, 'new']\n"
     ]
    }
   ],
   "source": [
    "# This is dangerous in functions because if we change objects like lists, dictionnaries\n",
    "# in the function, the change will be everywhere\n",
    "\n",
    "def add_element(a):\n",
    "    # a is changed but also b as a is linked to the\n",
    "    # same object as b\n",
    "    a.append('new')\n",
    "    print('a: ', a)\n",
    "\n",
    "b = [1, 2, 3]\n",
    "add_element(b)\n",
    "print('b: ', b)"
   ]
  },
  {
   "cell_type": "code",
   "execution_count": 52,
   "id": "1a16a162",
   "metadata": {},
   "outputs": [
    {
     "name": "stdout",
     "output_type": "stream",
     "text": [
      "a 13\n",
      "b 10\n"
     ]
    }
   ],
   "source": [
    "# We don't have the same with immutable variables like integer\n",
    "# In this case, a and b are not linked\n",
    "def add_element(a):\n",
    "    # We create a new variable, that is not linked with b.\n",
    "    # Every time we change a, we in fact create a new variable\n",
    "    a += 3\n",
    "    print('a: ', a)\n",
    "\n",
    "b = 10\n",
    "add_element(b)\n",
    "print('b: ', b)"
   ]
  },
  {
   "cell_type": "markdown",
   "id": "e6ac2a8b",
   "metadata": {},
   "source": [
    "### Timeit: consequence of immutable"
   ]
  },
  {
   "cell_type": "code",
   "execution_count": 94,
   "id": "8342dcee",
   "metadata": {},
   "outputs": [],
   "source": [
    "import timeit"
   ]
  },
  {
   "cell_type": "code",
   "execution_count": 95,
   "id": "e84610f8",
   "metadata": {},
   "outputs": [
    {
     "data": {
      "text/plain": [
       "'dogdogdogdogdogdogdogdogdogdog'"
      ]
     },
     "execution_count": 95,
     "metadata": {},
     "output_type": "execute_result"
    }
   ],
   "source": [
    "def create_text_str(text_to_add):\n",
    "    \"\"\"concatenate 10 times the given string\"\"\"\n",
    "    text = ''\n",
    "    for i in range(10):\n",
    "        text += text_to_add\n",
    "    return text\n",
    "create_text_str('dog')"
   ]
  },
  {
   "cell_type": "code",
   "execution_count": 96,
   "id": "3ad40880",
   "metadata": {},
   "outputs": [],
   "source": [
    "# 3 solutions to do the same\n",
    "\n",
    "def create_text_str(text_to_add):\n",
    "    text = ''\n",
    "    for i in range(1000000):\n",
    "        text += text_to_add\n",
    "    return text\n",
    "\n",
    "def create_text_list(text_to_add):\n",
    "    text = []\n",
    "    for i in range(1000000):\n",
    "        text.append(text_to_add)\n",
    "    return ''.join(text)\n",
    "\n",
    "def create_text_mult(text_to_add):\n",
    "    return text_to_add * 1000000"
   ]
  },
  {
   "cell_type": "code",
   "execution_count": 97,
   "id": "1e8740d7",
   "metadata": {},
   "outputs": [
    {
     "name": "stdout",
     "output_type": "stream",
     "text": [
      "71.7 ms ± 1.51 ms per loop (mean ± std. dev. of 7 runs, 10 loops each)\n"
     ]
    }
   ],
   "source": [
    "%timeit create_text_str('dog')"
   ]
  },
  {
   "cell_type": "code",
   "execution_count": 98,
   "id": "eb61dba5",
   "metadata": {},
   "outputs": [
    {
     "name": "stdout",
     "output_type": "stream",
     "text": [
      "53.7 ms ± 1.98 ms per loop (mean ± std. dev. of 7 runs, 10 loops each)\n"
     ]
    }
   ],
   "source": [
    "%timeit create_text_list('dog')"
   ]
  },
  {
   "cell_type": "code",
   "execution_count": 99,
   "id": "db621078",
   "metadata": {},
   "outputs": [
    {
     "name": "stdout",
     "output_type": "stream",
     "text": [
      "177 µs ± 875 ns per loop (mean ± std. dev. of 7 runs, 10,000 loops each)\n"
     ]
    }
   ],
   "source": [
    "%timeit create_text_mult('dog')"
   ]
  },
  {
   "cell_type": "code",
   "execution_count": null,
   "id": "793de646",
   "metadata": {},
   "outputs": [],
   "source": []
  }
 ],
 "metadata": {
  "kernelspec": {
   "display_name": "Python 3 (ipykernel)",
   "language": "python",
   "name": "python3"
  },
  "language_info": {
   "codemirror_mode": {
    "name": "ipython",
    "version": 3
   },
   "file_extension": ".py",
   "mimetype": "text/x-python",
   "name": "python",
   "nbconvert_exporter": "python",
   "pygments_lexer": "ipython3",
   "version": "3.9.7"
  }
 },
 "nbformat": 4,
 "nbformat_minor": 5
}
