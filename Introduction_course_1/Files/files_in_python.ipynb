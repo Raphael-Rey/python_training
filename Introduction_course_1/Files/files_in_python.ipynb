{
 "cells": [
  {
   "cell_type": "markdown",
   "id": "f4c80e04",
   "metadata": {},
   "source": [
    "# Files in python"
   ]
  },
  {
   "cell_type": "markdown",
   "id": "23fab291",
   "metadata": {},
   "source": [
    "## Read data\n",
    "```python\n",
    "# Open a file and read data\n",
    "with open('file_name', 'r') as f:\n",
    "    data = f.read()\n",
    "\n",
    "# Open a file and read data as lines\n",
    "with open('file_name', 'r') as f:\n",
    "    data = f.readlines() # you get a list with each line of the file\n",
    "    data = [line.strip() for line in data] # it is most of the time useful to remove the endline symb\n",
    "```\n",
    "\n",
    "\n",
    "## Write data\n",
    "```python\n",
    "# Create a new file and write content\n",
    "# BE CAREFUL: it will override any file with the same name\n",
    "with open('file_name', 'w') as f:\n",
    "    f.write(data)\n",
    "    \n",
    "# Open an existing file (or create it) and append content at the end of the file\n",
    "with open('file_name', 'a') as f:\n",
    "    f.write(data)\n",
    "```\n",
    "\n",
    "## File management operations\n",
    "```python\n",
    "# List of the files of a directory\n",
    "import os\n",
    "os.listdir('./directory_name')\n",
    "\n",
    "# Copy a file\n",
    "import shutil\n",
    "shutil.copy('src', 'dst')\n",
    "\n",
    "# Delete a file\n",
    "os.remove('file_name')\n",
    "```\n",
    "\n",
    "## Directory management operations\n",
    "```python\n",
    "# Create a directory\n",
    "import os\n",
    "os.mkdir('./directory_name')\n",
    "\n",
    "# Delete a directory\n",
    "os.rmdir('./directory_name') # The directory must be empty\n",
    "```\n"
   ]
  },
  {
   "cell_type": "code",
   "execution_count": 1,
   "id": "3cba15d6",
   "metadata": {},
   "outputs": [],
   "source": [
    "f = open('data1/test1.txt', 'r')"
   ]
  },
  {
   "cell_type": "code",
   "execution_count": 2,
   "id": "be800e89",
   "metadata": {},
   "outputs": [],
   "source": [
    "data = f.read()"
   ]
  },
  {
   "cell_type": "code",
   "execution_count": 3,
   "id": "462c7736",
   "metadata": {},
   "outputs": [
    {
     "name": "stdout",
     "output_type": "stream",
     "text": [
      "test\n"
     ]
    }
   ],
   "source": [
    "print(data)"
   ]
  },
  {
   "cell_type": "code",
   "execution_count": 4,
   "id": "e7f0ab81",
   "metadata": {},
   "outputs": [
    {
     "name": "stdout",
     "output_type": "stream",
     "text": [
      "I\n",
      "like\n",
      "apples and pears\n",
      "They are really good\n",
      "\n"
     ]
    }
   ],
   "source": [
    "f = open('data1/test_with_lines.txt', 'r')\n",
    "data = f.read()\n",
    "print(data)"
   ]
  },
  {
   "cell_type": "code",
   "execution_count": 5,
   "id": "b3cc6beb",
   "metadata": {},
   "outputs": [
    {
     "name": "stdout",
     "output_type": "stream",
     "text": [
      "['I\\n', 'like\\n', 'apples and pears\\n', 'They are really good\\n']\n"
     ]
    }
   ],
   "source": [
    "f = open('data1/test_with_lines.txt', 'r')\n",
    "data = f.readlines()\n",
    "print(data)"
   ]
  },
  {
   "cell_type": "code",
   "execution_count": 6,
   "id": "0fa1c999",
   "metadata": {},
   "outputs": [
    {
     "data": {
      "text/plain": [
       "['I', 'like', 'apples and pears', 'They are really good']"
      ]
     },
     "execution_count": 6,
     "metadata": {},
     "output_type": "execute_result"
    }
   ],
   "source": [
    "for line in data:\n",
    "    data = [line.strip() for line in data]\n",
    "data"
   ]
  },
  {
   "cell_type": "code",
   "execution_count": 7,
   "id": "7519351a",
   "metadata": {},
   "outputs": [
    {
     "data": {
      "text/plain": [
       "'Some mistake'"
      ]
     },
     "execution_count": 7,
     "metadata": {},
     "output_type": "execute_result"
    }
   ],
   "source": [
    "f = open('data1/test3.txt', 'w')\n",
    "f.write('Test\\ntest')\n",
    "\"Some mistake\""
   ]
  },
  {
   "cell_type": "code",
   "execution_count": 8,
   "id": "e778d216",
   "metadata": {},
   "outputs": [],
   "source": [
    "f.close()"
   ]
  },
  {
   "cell_type": "code",
   "execution_count": 9,
   "id": "bcaca4ea",
   "metadata": {},
   "outputs": [
    {
     "name": "stdout",
     "output_type": "stream",
     "text": [
      "done\n"
     ]
    }
   ],
   "source": [
    "with open('data1/test4.txt', 'w') as f:\n",
    "    f.write('Test\\ntest')\n",
    "    \n",
    "print('done')"
   ]
  },
  {
   "cell_type": "code",
   "execution_count": 10,
   "id": "788cf971",
   "metadata": {},
   "outputs": [
    {
     "data": {
      "text/plain": [
       "['test1.txt', 'test2.txt', 'test3.txt', 'test4.txt', 'test_with_lines.txt']"
      ]
     },
     "execution_count": 10,
     "metadata": {},
     "output_type": "execute_result"
    }
   ],
   "source": [
    "import os\n",
    "os.listdir('data1')"
   ]
  },
  {
   "cell_type": "code",
   "execution_count": 11,
   "id": "ece691fc",
   "metadata": {},
   "outputs": [],
   "source": [
    "import shutil\n",
    "for f in os.listdir('data1'):\n",
    "    shutil.copy(f'data1/{f}', f'data2/{f}')"
   ]
  },
  {
   "cell_type": "code",
   "execution_count": 12,
   "id": "d3a8f24f",
   "metadata": {},
   "outputs": [],
   "source": [
    "with open('data1/test4.txt', 'a') as f:\n",
    "    f.write('newTest\\ntest')"
   ]
  },
  {
   "cell_type": "code",
   "execution_count": null,
   "id": "8044e157",
   "metadata": {},
   "outputs": [],
   "source": []
  }
 ],
 "metadata": {
  "kernelspec": {
   "display_name": "Python 3 (ipykernel)",
   "language": "python",
   "name": "python3"
  },
  "language_info": {
   "codemirror_mode": {
    "name": "ipython",
    "version": 3
   },
   "file_extension": ".py",
   "mimetype": "text/x-python",
   "name": "python",
   "nbconvert_exporter": "python",
   "pygments_lexer": "ipython3",
   "version": "3.9.7"
  }
 },
 "nbformat": 4,
 "nbformat_minor": 5
}
