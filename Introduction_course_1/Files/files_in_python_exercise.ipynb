{
 "cells": [
  {
   "cell_type": "markdown",
   "id": "85af248f",
   "metadata": {},
   "source": [
    "# Files in python - exercise"
   ]
  },
  {
   "cell_type": "code",
   "execution_count": 1,
   "id": "0597ccd0",
   "metadata": {},
   "outputs": [],
   "source": [
    "# 1. Read and display the content of the file \"./exercise_data/file1.txt\""
   ]
  },
  {
   "cell_type": "code",
   "execution_count": null,
   "id": "6123bbcf",
   "metadata": {},
   "outputs": [],
   "source": [
    "# 2. Create a new file \"data2.txt\" in the same folder with the content \"Hello SLSP\"\n",
    "# Optional: add the text twice on two different lines"
   ]
  },
  {
   "cell_type": "code",
   "execution_count": null,
   "id": "24ef31c9",
   "metadata": {},
   "outputs": [],
   "source": [
    "# 3. Create a new folder \"./exercise_data_copy\""
   ]
  },
  {
   "cell_type": "code",
   "execution_count": null,
   "id": "edb2418f",
   "metadata": {},
   "outputs": [],
   "source": [
    "# 4. Copy all the files of folder \"./exercise_data\" to folder \"./exercise_data_copy\""
   ]
  },
  {
   "cell_type": "code",
   "execution_count": null,
   "id": "951b128f",
   "metadata": {},
   "outputs": [],
   "source": [
    "# 5. Optional: delete the folder \"./exercise_data_copy\""
   ]
  },
  {
   "cell_type": "code",
   "execution_count": null,
   "id": "e2258048",
   "metadata": {},
   "outputs": [],
   "source": []
  }
 ],
 "metadata": {
  "kernelspec": {
   "display_name": "Python 3 (ipykernel)",
   "language": "python",
   "name": "python3"
  },
  "language_info": {
   "codemirror_mode": {
    "name": "ipython",
    "version": 3
   },
   "file_extension": ".py",
   "mimetype": "text/x-python",
   "name": "python",
   "nbconvert_exporter": "python",
   "pygments_lexer": "ipython3",
   "version": "3.9.12"
  }
 },
 "nbformat": 4,
 "nbformat_minor": 5
}
