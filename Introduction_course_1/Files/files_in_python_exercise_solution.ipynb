{
 "cells": [
  {
   "cell_type": "markdown",
   "id": "85af248f",
   "metadata": {},
   "source": [
    "# Files in python - exercise - solution"
   ]
  },
  {
   "cell_type": "code",
   "execution_count": 22,
   "id": "0597ccd0",
   "metadata": {},
   "outputs": [],
   "source": [
    "# 1. Read and display the content of the file \"./exercise_data/data1.txt\""
   ]
  },
  {
   "cell_type": "code",
   "execution_count": 23,
   "id": "a16330b3",
   "metadata": {},
   "outputs": [
    {
     "name": "stdout",
     "output_type": "stream",
     "text": [
      "Hello SLSP - version 1\n"
     ]
    }
   ],
   "source": [
    "with open('./exercise_data/file_1.txt', 'r') as f:\n",
    "    txt = f.read()\n",
    "print(txt)"
   ]
  },
  {
   "cell_type": "code",
   "execution_count": 24,
   "id": "6123bbcf",
   "metadata": {},
   "outputs": [],
   "source": [
    "# 2. Create a new file \"file_2.txt\" in the same folder with the content \"Hello SLSP - version 2\"\n",
    "# Optional: add the text twice on two different lines"
   ]
  },
  {
   "cell_type": "code",
   "execution_count": 25,
   "id": "3bd37d48",
   "metadata": {},
   "outputs": [],
   "source": [
    "# Create the file and write content in it\n",
    "with open('./exercise_data/file_2.txt', 'w') as f:\n",
    "    f.write('Hello SLSP - version 2')"
   ]
  },
  {
   "cell_type": "code",
   "execution_count": 26,
   "id": "849b1c09",
   "metadata": {},
   "outputs": [
    {
     "name": "stdout",
     "output_type": "stream",
     "text": [
      "Hello SLSP - version 2\n"
     ]
    }
   ],
   "source": [
    "# Check the file content\n",
    "with open('./exercise_data/file_2.txt', 'r') as f:\n",
    "    txt = f.read()\n",
    "print(txt)"
   ]
  },
  {
   "cell_type": "code",
   "execution_count": 27,
   "id": "ece1ec0e",
   "metadata": {},
   "outputs": [],
   "source": [
    "# With the text twice:\n",
    "with open('./exercise_data/file_2.txt', 'w') as f:\n",
    "    f.write('Hello SLSP - version 2\\nHello SLSP - version 2') # \\n indicate breakline"
   ]
  },
  {
   "cell_type": "code",
   "execution_count": 28,
   "id": "9d9c7148",
   "metadata": {},
   "outputs": [
    {
     "name": "stdout",
     "output_type": "stream",
     "text": [
      "Hello SLSP - version 2\n",
      "Hello SLSP - version 2\n"
     ]
    }
   ],
   "source": [
    "# Check the file content\n",
    "with open('./exercise_data/file_2.txt', 'r') as f:\n",
    "    txt = f.read()\n",
    "print(txt)"
   ]
  },
  {
   "cell_type": "code",
   "execution_count": 29,
   "id": "24ef31c9",
   "metadata": {},
   "outputs": [],
   "source": [
    "# 3. Create a new folder \"./exercise_data_copy\""
   ]
  },
  {
   "cell_type": "code",
   "execution_count": 30,
   "id": "c034a9ee",
   "metadata": {},
   "outputs": [],
   "source": [
    "import os\n",
    "os.mkdir('./exercise_data_copy')"
   ]
  },
  {
   "cell_type": "code",
   "execution_count": 31,
   "id": "edb2418f",
   "metadata": {},
   "outputs": [],
   "source": [
    "# 4. Copy all the files of folder \"./exercise_data\" to folder \"./exercise_data_copy\""
   ]
  },
  {
   "cell_type": "code",
   "execution_count": 32,
   "id": "f830fc84",
   "metadata": {},
   "outputs": [],
   "source": [
    "import shutil\n",
    "\n",
    "for f in os.listdir('./exercise_data'):\n",
    "    shutil.copy(f'./exercise_data/{f}', f'./exercise_data_copy/{f}')"
   ]
  },
  {
   "cell_type": "code",
   "execution_count": 33,
   "id": "79e7c930",
   "metadata": {},
   "outputs": [
    {
     "data": {
      "text/plain": [
       "['file_1.txt', 'file_2.txt', 'file_3.txt', 'file_4.txt', 'test1.txt']"
      ]
     },
     "execution_count": 33,
     "metadata": {},
     "output_type": "execute_result"
    }
   ],
   "source": [
    "# Check content of the new folder\n",
    "os.listdir('./exercise_data_copy')"
   ]
  },
  {
   "cell_type": "code",
   "execution_count": 34,
   "id": "951b128f",
   "metadata": {},
   "outputs": [],
   "source": [
    "# 5. Optional: delete the folder \"./exercise_data_copy\""
   ]
  },
  {
   "cell_type": "code",
   "execution_count": 35,
   "id": "aa677d30",
   "metadata": {},
   "outputs": [],
   "source": [
    "# Task 1: Remove all files\n",
    "for f in os.listdir('./exercise_data_copy'):\n",
    "    os.remove(f'./exercise_data_copy/{f}')\n",
    "\n",
    "# Task 2: Remove folder\n",
    "os.rmdir('./exercise_data_copy')"
   ]
  },
  {
   "cell_type": "code",
   "execution_count": null,
   "id": "75557dfe",
   "metadata": {},
   "outputs": [],
   "source": []
  }
 ],
 "metadata": {
  "kernelspec": {
   "display_name": "Python 3 (ipykernel)",
   "language": "python",
   "name": "python3"
  },
  "language_info": {
   "codemirror_mode": {
    "name": "ipython",
    "version": 3
   },
   "file_extension": ".py",
   "mimetype": "text/x-python",
   "name": "python",
   "nbconvert_exporter": "python",
   "pygments_lexer": "ipython3",
   "version": "3.9.12"
  }
 },
 "nbformat": 4,
 "nbformat_minor": 5
}
