{
 "cells": [
  {
   "cell_type": "markdown",
   "id": "caff69c8",
   "metadata": {},
   "source": [
    "# Loops\n",
    "Useful to iterate things\n",
    "## Loop `for`\n",
    "This loop is by far the most used in python"
   ]
  },
  {
   "cell_type": "code",
   "execution_count": 17,
   "id": "fd112642",
   "metadata": {},
   "outputs": [
    {
     "name": "stdout",
     "output_type": "stream",
     "text": [
      "1\n",
      "2\n",
      "3\n",
      "4\n",
      "5\n",
      "6\n",
      "7\n",
      "8\n"
     ]
    }
   ],
   "source": [
    "numbers = [1, 2, 3, 4, 5, 6, 7, 8]\n",
    "for number in numbers:\n",
    "    print(number)"
   ]
  },
  {
   "cell_type": "markdown",
   "id": "5a745f95",
   "metadata": {},
   "source": [
    "### Interrupt a loop with `break`"
   ]
  },
  {
   "cell_type": "code",
   "execution_count": 18,
   "id": "657d47c3",
   "metadata": {},
   "outputs": [
    {
     "name": "stdout",
     "output_type": "stream",
     "text": [
      "1\n",
      "2\n",
      "3\n",
      "4\n",
      "5\n"
     ]
    }
   ],
   "source": [
    "for number in numbers:\n",
    "    print(number)\n",
    "    if number > 4:\n",
    "        break"
   ]
  },
  {
   "cell_type": "markdown",
   "id": "06469bdc",
   "metadata": {},
   "source": [
    "### Skip elements with `continue`"
   ]
  },
  {
   "cell_type": "code",
   "execution_count": 19,
   "id": "e78791ab",
   "metadata": {},
   "outputs": [
    {
     "name": "stdout",
     "output_type": "stream",
     "text": [
      "4\n",
      "5\n",
      "6\n",
      "7\n",
      "8\n"
     ]
    }
   ],
   "source": [
    "for number in numbers:\n",
    "    if number < 4:\n",
    "        continue\n",
    "    print(number)"
   ]
  },
  {
   "cell_type": "markdown",
   "id": "9b9b1c1c",
   "metadata": {},
   "source": [
    "## Loop `while`"
   ]
  },
  {
   "cell_type": "code",
   "execution_count": 20,
   "id": "66635929",
   "metadata": {},
   "outputs": [
    {
     "name": "stdout",
     "output_type": "stream",
     "text": [
      "[10, 11, 3, 4, 8, 12, 2, 9, 7, 6, 1, 5]\n",
      "[9, 2, 11, 8, 3, 1, 12, 6, 7, 5, 10, 4]\n",
      "[6, 12, 10, 9, 7, 2, 1, 4, 8, 5, 11, 3]\n"
     ]
    }
   ],
   "source": [
    "import random\n",
    "numbers = [1, 2, 3, 4, 5, 6, 7, 8, 9, 10, 11, 12]\n",
    "while numbers[0] != 6:\n",
    "    random.shuffle(numbers)\n",
    "    print(numbers)"
   ]
  },
  {
   "cell_type": "markdown",
   "id": "274253b3",
   "metadata": {},
   "source": [
    "### Not an anti pattern: `while True`"
   ]
  },
  {
   "cell_type": "code",
   "execution_count": 21,
   "id": "bb9ef356",
   "metadata": {},
   "outputs": [
    {
     "name": "stdout",
     "output_type": "stream",
     "text": [
      "[11, 7, 9, 12, 1, 6, 2, 8, 3, 10, 5, 4]\n",
      "[1, 3, 11, 8, 9, 7, 2, 6, 10, 12, 4, 5]\n",
      "[7, 10, 1, 2, 5, 8, 3, 4, 11, 12, 6, 9]\n",
      "[11, 6, 5, 4, 12, 7, 1, 8, 2, 9, 10, 3]\n",
      "[8, 3, 11, 1, 6, 5, 7, 9, 12, 10, 4, 2]\n",
      "[11, 1, 5, 3, 2, 12, 9, 7, 8, 10, 6, 4]\n",
      "[7, 5, 10, 8, 12, 3, 11, 6, 4, 1, 2, 9]\n",
      "[12, 7, 1, 2, 10, 3, 8, 11, 5, 4, 6, 9]\n",
      "[4, 2, 5, 6, 12, 7, 3, 10, 11, 8, 9, 1]\n",
      "[11, 9, 6, 5, 4, 10, 7, 3, 1, 12, 2, 8]\n",
      "[11, 1, 7, 3, 4, 8, 9, 10, 5, 6, 12, 2]\n",
      "[7, 12, 2, 9, 6, 5, 3, 8, 4, 10, 1, 11]\n",
      "[10, 6, 4, 3, 12, 1, 2, 7, 11, 5, 9, 8]\n",
      "[3, 5, 10, 1, 12, 8, 4, 2, 11, 7, 9, 6]\n",
      "[2, 8, 7, 6, 12, 10, 1, 3, 11, 5, 9, 4]\n",
      "[8, 6, 9, 7, 2, 1, 4, 10, 11, 3, 12, 5]\n",
      "[6, 11, 1, 8, 4, 2, 5, 3, 12, 10, 9, 7]\n"
     ]
    }
   ],
   "source": [
    "numbers = [1, 2, 3, 4, 5, 6, 7, 8, 9, 10, 11, 12]\n",
    "while True:\n",
    "    random.shuffle(numbers)\n",
    "    print(numbers)\n",
    "    if numbers[0] == 6:\n",
    "        break"
   ]
  },
  {
   "cell_type": "code",
   "execution_count": null,
   "id": "40d7218e",
   "metadata": {},
   "outputs": [],
   "source": []
  }
 ],
 "metadata": {
  "kernelspec": {
   "display_name": "Python 3 (ipykernel)",
   "language": "python",
   "name": "python3"
  },
  "language_info": {
   "codemirror_mode": {
    "name": "ipython",
    "version": 3
   },
   "file_extension": ".py",
   "mimetype": "text/x-python",
   "name": "python",
   "nbconvert_exporter": "python",
   "pygments_lexer": "ipython3",
   "version": "3.9.7"
  }
 },
 "nbformat": 4,
 "nbformat_minor": 5
}
