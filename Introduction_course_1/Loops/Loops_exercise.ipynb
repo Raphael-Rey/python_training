{
 "cells": [
  {
   "cell_type": "code",
   "execution_count": 1,
   "id": "346a152d",
   "metadata": {},
   "outputs": [],
   "source": [
    "# List of animals\n",
    "animals = ['cat', 'dog', 'chicken', 'fish', 'parrot', 'donkey']"
   ]
  },
  {
   "cell_type": "code",
   "execution_count": null,
   "id": "53dc5ca1",
   "metadata": {},
   "outputs": [],
   "source": [
    "# 1. use `print` to print all animals"
   ]
  },
  {
   "cell_type": "code",
   "execution_count": null,
   "id": "1c051b02",
   "metadata": {},
   "outputs": [],
   "source": [
    "# 2. Find the first animal of the list that contains a 'o', print it and the previous animals\n",
    "# use `if 'o' in animal` for checking"
   ]
  },
  {
   "cell_type": "code",
   "execution_count": null,
   "id": "d59fd71c",
   "metadata": {},
   "outputs": [],
   "source": [
    "# 3. print only the animals with 'i'"
   ]
  },
  {
   "cell_type": "code",
   "execution_count": null,
   "id": "02d97d3a",
   "metadata": {},
   "outputs": [],
   "source": [
    "# 4. With incertitude on the number of interation, use `while`.\n",
    "# Shuffle the list until you get a list with 'cat' as last element\n",
    "# print the list\n",
    "import random\n",
    "random.shuffle(animals)\n"
   ]
  },
  {
   "cell_type": "code",
   "execution_count": null,
   "id": "8373446c",
   "metadata": {},
   "outputs": [],
   "source": []
  }
 ],
 "metadata": {
  "kernelspec": {
   "display_name": "Python 3 (ipykernel)",
   "language": "python",
   "name": "python3"
  },
  "language_info": {
   "codemirror_mode": {
    "name": "ipython",
    "version": 3
   },
   "file_extension": ".py",
   "mimetype": "text/x-python",
   "name": "python",
   "nbconvert_exporter": "python",
   "pygments_lexer": "ipython3",
   "version": "3.9.12"
  }
 },
 "nbformat": 4,
 "nbformat_minor": 5
}
