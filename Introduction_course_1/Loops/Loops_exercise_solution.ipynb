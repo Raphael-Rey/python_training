{
 "cells": [
  {
   "cell_type": "code",
   "execution_count": 9,
   "id": "346a152d",
   "metadata": {},
   "outputs": [],
   "source": [
    "# List of animals\n",
    "animals = ['cat', 'dog', 'chicken', 'fish', 'parrot', 'donkey']"
   ]
  },
  {
   "cell_type": "code",
   "execution_count": 3,
   "id": "53dc5ca1",
   "metadata": {},
   "outputs": [],
   "source": [
    "# 1. use `print` to print all animals"
   ]
  },
  {
   "cell_type": "code",
   "execution_count": 4,
   "id": "e206ab78",
   "metadata": {},
   "outputs": [
    {
     "name": "stdout",
     "output_type": "stream",
     "text": [
      "cat\n",
      "dog\n",
      "chicken\n",
      "fish\n",
      "parrot\n",
      "donkey\n"
     ]
    }
   ],
   "source": [
    "for animal in animals:\n",
    "    print(animal)"
   ]
  },
  {
   "cell_type": "code",
   "execution_count": null,
   "id": "1c051b02",
   "metadata": {},
   "outputs": [],
   "source": [
    "# 2. Find the first animal of the list that contains a 'o', print it and the previous animals\n",
    "# use `if 'o' in animal` for checking"
   ]
  },
  {
   "cell_type": "code",
   "execution_count": 5,
   "id": "f6598ad3",
   "metadata": {},
   "outputs": [
    {
     "name": "stdout",
     "output_type": "stream",
     "text": [
      "cat\n",
      "dog\n"
     ]
    }
   ],
   "source": [
    "for animal in animals:\n",
    "    print(animal)\n",
    "    if 'o' in animal:\n",
    "        break"
   ]
  },
  {
   "cell_type": "code",
   "execution_count": null,
   "id": "d59fd71c",
   "metadata": {},
   "outputs": [],
   "source": [
    "# 3. print only the animals with 'i'"
   ]
  },
  {
   "cell_type": "code",
   "execution_count": 7,
   "id": "6f01fc8e",
   "metadata": {},
   "outputs": [
    {
     "name": "stdout",
     "output_type": "stream",
     "text": [
      "chicken\n",
      "fish\n"
     ]
    }
   ],
   "source": [
    "for animal in animals:\n",
    "    if 'i' in animal:\n",
    "        print(animal)"
   ]
  },
  {
   "cell_type": "code",
   "execution_count": 10,
   "id": "02d97d3a",
   "metadata": {},
   "outputs": [
    {
     "name": "stdout",
     "output_type": "stream",
     "text": [
      "['donkey', 'fish', 'dog', 'chicken', 'parrot', 'cat']\n"
     ]
    }
   ],
   "source": [
    "# 4. With incertitude on the number of interation, use `while`.\n",
    "# Shuffle the list until you get a list with 'cat' as last element\n",
    "# print the list\n",
    "import random\n",
    "\n",
    "while animals[-1] != 'cat':\n",
    "    random.shuffle(animals)\n",
    "\n",
    "print(animals)\n"
   ]
  },
  {
   "cell_type": "code",
   "execution_count": 8,
   "id": "6bb1c801",
   "metadata": {},
   "outputs": [
    {
     "ename": "IndexError",
     "evalue": "list index out of range",
     "output_type": "error",
     "traceback": [
      "\u001b[0;31m---------------------------------------------------------------------------\u001b[0m",
      "\u001b[0;31mIndexError\u001b[0m                                Traceback (most recent call last)",
      "\u001b[0;32m/tmp/ipykernel_86/815230512.py\u001b[0m in \u001b[0;36m<module>\u001b[0;34m\u001b[0m\n\u001b[0;32m----> 1\u001b[0;31m \u001b[0manimals\u001b[0m\u001b[0;34m[\u001b[0m\u001b[0;36m6\u001b[0m\u001b[0;34m]\u001b[0m\u001b[0;34m\u001b[0m\u001b[0;34m\u001b[0m\u001b[0m\n\u001b[0m",
      "\u001b[0;31mIndexError\u001b[0m: list index out of range"
     ]
    }
   ],
   "source": [
    "animals[6]"
   ]
  },
  {
   "cell_type": "code",
   "execution_count": null,
   "id": "8373446c",
   "metadata": {},
   "outputs": [],
   "source": []
  }
 ],
 "metadata": {
  "kernelspec": {
   "display_name": "Python 3 (ipykernel)",
   "language": "python",
   "name": "python3"
  },
  "language_info": {
   "codemirror_mode": {
    "name": "ipython",
    "version": 3
   },
   "file_extension": ".py",
   "mimetype": "text/x-python",
   "name": "python",
   "nbconvert_exporter": "python",
   "pygments_lexer": "ipython3",
   "version": "3.9.12"
  }
 },
 "nbformat": 4,
 "nbformat_minor": 5
}
