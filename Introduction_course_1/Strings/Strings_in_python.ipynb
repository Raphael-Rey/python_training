{
 "cells": [
  {
   "cell_type": "markdown",
   "id": "751db49e",
   "metadata": {},
   "source": [
    "# Strings in python\n",
    "## Methods\n",
    "* upper\n",
    "* lower\n",
    "* strip\n",
    "* replace\n",
    "* split\n",
    "* join\n",
    "* find\n"
   ]
  },
  {
   "cell_type": "code",
   "execution_count": 72,
   "id": "8466b843",
   "metadata": {},
   "outputs": [],
   "source": [
    "txt = 'Apple and orange '"
   ]
  },
  {
   "cell_type": "code",
   "execution_count": 73,
   "id": "b528a28b",
   "metadata": {},
   "outputs": [
    {
     "data": {
      "text/plain": [
       "'APPLE AND ORANGE '"
      ]
     },
     "execution_count": 73,
     "metadata": {},
     "output_type": "execute_result"
    }
   ],
   "source": [
    "txt.upper()"
   ]
  },
  {
   "cell_type": "code",
   "execution_count": 74,
   "id": "bf81962e",
   "metadata": {},
   "outputs": [
    {
     "data": {
      "text/plain": [
       "'apple and orange '"
      ]
     },
     "execution_count": 74,
     "metadata": {},
     "output_type": "execute_result"
    }
   ],
   "source": [
    "txt.lower()"
   ]
  },
  {
   "cell_type": "code",
   "execution_count": 75,
   "id": "82e9cec2",
   "metadata": {},
   "outputs": [
    {
     "data": {
      "text/plain": [
       "'Apple and orange'"
      ]
     },
     "execution_count": 75,
     "metadata": {},
     "output_type": "execute_result"
    }
   ],
   "source": [
    "txt.strip()"
   ]
  },
  {
   "cell_type": "code",
   "execution_count": 76,
   "id": "46185ea9",
   "metadata": {},
   "outputs": [
    {
     "data": {
      "text/plain": [
       "'Apple or orange '"
      ]
     },
     "execution_count": 76,
     "metadata": {},
     "output_type": "execute_result"
    }
   ],
   "source": [
    "txt.replace('and', 'or')"
   ]
  },
  {
   "cell_type": "code",
   "execution_count": 77,
   "id": "e510cad3",
   "metadata": {},
   "outputs": [
    {
     "data": {
      "text/plain": [
       "['Apple', 'orange ']"
      ]
     },
     "execution_count": 77,
     "metadata": {},
     "output_type": "execute_result"
    }
   ],
   "source": [
    "txts = txt.split(' and ')\n",
    "txts"
   ]
  },
  {
   "cell_type": "code",
   "execution_count": 78,
   "id": "7dded2ab",
   "metadata": {},
   "outputs": [
    {
     "data": {
      "text/plain": [
       "'Apple, orange '"
      ]
     },
     "execution_count": 78,
     "metadata": {},
     "output_type": "execute_result"
    }
   ],
   "source": [
    "', '.join(txts)"
   ]
  },
  {
   "cell_type": "code",
   "execution_count": 79,
   "id": "6c84b4c0",
   "metadata": {},
   "outputs": [
    {
     "data": {
      "text/plain": [
       "4"
      ]
     },
     "execution_count": 79,
     "metadata": {},
     "output_type": "execute_result"
    }
   ],
   "source": [
    "txt.find('e')"
   ]
  },
  {
   "cell_type": "code",
   "execution_count": 80,
   "id": "ad0a7a41",
   "metadata": {},
   "outputs": [
    {
     "data": {
      "text/plain": [
       "'e'"
      ]
     },
     "execution_count": 80,
     "metadata": {},
     "output_type": "execute_result"
    }
   ],
   "source": [
    "txt[4]"
   ]
  },
  {
   "cell_type": "code",
   "execution_count": 81,
   "id": "dc69136d",
   "metadata": {},
   "outputs": [
    {
     "ename": "TypeError",
     "evalue": "'str' object does not support item assignment",
     "output_type": "error",
     "traceback": [
      "\u001b[0;31m---------------------------------------------------------------------------\u001b[0m",
      "\u001b[0;31mTypeError\u001b[0m                                 Traceback (most recent call last)",
      "\u001b[0;32m/tmp/ipykernel_127/4199596452.py\u001b[0m in \u001b[0;36m<module>\u001b[0;34m\u001b[0m\n\u001b[1;32m      1\u001b[0m \u001b[0;31m# strings are not mutable\u001b[0m\u001b[0;34m\u001b[0m\u001b[0;34m\u001b[0m\u001b[0m\n\u001b[0;32m----> 2\u001b[0;31m \u001b[0mtxt\u001b[0m\u001b[0;34m[\u001b[0m\u001b[0;36m4\u001b[0m\u001b[0;34m]\u001b[0m \u001b[0;34m=\u001b[0m \u001b[0;34m'E'\u001b[0m\u001b[0;34m\u001b[0m\u001b[0;34m\u001b[0m\u001b[0m\n\u001b[0m",
      "\u001b[0;31mTypeError\u001b[0m: 'str' object does not support item assignment"
     ]
    }
   ],
   "source": [
    "# strings are not mutable\n",
    "txt[4] = 'E'"
   ]
  },
  {
   "cell_type": "code",
   "execution_count": 82,
   "id": "c635f18d",
   "metadata": {},
   "outputs": [
    {
     "data": {
      "text/plain": [
       "'Apple and orange '"
      ]
     },
     "execution_count": 82,
     "metadata": {},
     "output_type": "execute_result"
    }
   ],
   "source": [
    "txt"
   ]
  },
  {
   "cell_type": "code",
   "execution_count": 83,
   "id": "d59b26d1",
   "metadata": {},
   "outputs": [
    {
     "data": {
      "text/plain": [
       "'Apples and orange '"
      ]
     },
     "execution_count": 83,
     "metadata": {},
     "output_type": "execute_result"
    }
   ],
   "source": [
    "# How to add a \"s\" to apple (one possibility among a lot)\n",
    "txt = txt[:5] + 's' + txt[5:]\n",
    "txt"
   ]
  },
  {
   "cell_type": "code",
   "execution_count": 84,
   "id": "1b9023c0",
   "metadata": {},
   "outputs": [
    {
     "data": {
      "text/plain": [
       "18"
      ]
     },
     "execution_count": 84,
     "metadata": {},
     "output_type": "execute_result"
    }
   ],
   "source": [
    "# Length of a string\n",
    "len(txt)"
   ]
  },
  {
   "cell_type": "code",
   "execution_count": null,
   "id": "e1eee391",
   "metadata": {},
   "outputs": [],
   "source": []
  }
 ],
 "metadata": {
  "kernelspec": {
   "display_name": "Python 3 (ipykernel)",
   "language": "python",
   "name": "python3"
  },
  "language_info": {
   "codemirror_mode": {
    "name": "ipython",
    "version": 3
   },
   "file_extension": ".py",
   "mimetype": "text/x-python",
   "name": "python",
   "nbconvert_exporter": "python",
   "pygments_lexer": "ipython3",
   "version": "3.9.7"
  }
 },
 "nbformat": 4,
 "nbformat_minor": 5
}
