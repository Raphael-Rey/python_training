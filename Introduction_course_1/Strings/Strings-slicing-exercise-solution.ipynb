{
 "cells": [
  {
   "cell_type": "markdown",
   "id": "bcb95501",
   "metadata": {},
   "source": [
    "# Slicing strings - exercise - solution"
   ]
  },
  {
   "cell_type": "code",
   "execution_count": 1,
   "id": "88c2dd6c",
   "metadata": {},
   "outputs": [],
   "source": [
    "txt = 'OnTwoThreeFour'"
   ]
  },
  {
   "cell_type": "code",
   "execution_count": 3,
   "id": "379c757d",
   "metadata": {},
   "outputs": [
    {
     "data": {
      "text/plain": [
       "'Two'"
      ]
     },
     "execution_count": 3,
     "metadata": {},
     "output_type": "execute_result"
    }
   ],
   "source": [
    "# With slicing extract \"Two\" from txt\n",
    "txt[2:5]"
   ]
  },
  {
   "cell_type": "code",
   "execution_count": 5,
   "id": "a621aba9",
   "metadata": {},
   "outputs": [
    {
     "data": {
      "text/plain": [
       "'u'"
      ]
     },
     "execution_count": 5,
     "metadata": {},
     "output_type": "execute_result"
    }
   ],
   "source": [
    "# With slicing extract the second last char of txt (\"u\")\n",
    "txt[-2]"
   ]
  },
  {
   "cell_type": "code",
   "execution_count": 6,
   "id": "22665214",
   "metadata": {},
   "outputs": [
    {
     "data": {
      "text/plain": [
       "'OnTwoThree'"
      ]
     },
     "execution_count": 6,
     "metadata": {},
     "output_type": "execute_result"
    }
   ],
   "source": [
    "# With slicing extract \"OnTwoThree\" from txt (two solutions is great)\n",
    "txt[:10]"
   ]
  },
  {
   "cell_type": "code",
   "execution_count": 7,
   "id": "e2254e2f",
   "metadata": {},
   "outputs": [
    {
     "data": {
      "text/plain": [
       "'OnTwoThree'"
      ]
     },
     "execution_count": 7,
     "metadata": {},
     "output_type": "execute_result"
    }
   ],
   "source": [
    "txt[:-4]"
   ]
  },
  {
   "cell_type": "code",
   "execution_count": 8,
   "id": "7848eef8",
   "metadata": {},
   "outputs": [
    {
     "data": {
      "text/plain": [
       "'ruoFeerhTowTnO'"
      ]
     },
     "execution_count": 8,
     "metadata": {},
     "output_type": "execute_result"
    }
   ],
   "source": [
    "# Invert order of txt letters\n",
    "txt[::-1]"
   ]
  },
  {
   "cell_type": "code",
   "execution_count": null,
   "id": "13a851e2",
   "metadata": {},
   "outputs": [],
   "source": []
  }
 ],
 "metadata": {
  "kernelspec": {
   "display_name": "Python 3 (ipykernel)",
   "language": "python",
   "name": "python3"
  },
  "language_info": {
   "codemirror_mode": {
    "name": "ipython",
    "version": 3
   },
   "file_extension": ".py",
   "mimetype": "text/x-python",
   "name": "python",
   "nbconvert_exporter": "python",
   "pygments_lexer": "ipython3",
   "version": "3.9.7"
  }
 },
 "nbformat": 4,
 "nbformat_minor": 5
}
