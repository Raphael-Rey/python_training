{
 "cells": [
  {
   "cell_type": "markdown",
   "id": "56af49a2",
   "metadata": {},
   "source": [
    "# Exercises about strings"
   ]
  },
  {
   "cell_type": "code",
   "execution_count": 1,
   "id": "fa685b44",
   "metadata": {},
   "outputs": [],
   "source": [
    "# Strings on several lines use \"\"\"string\"\"\" \n",
    "txt = \"\"\"<datafield ind1=\"0\" ind2=\" \" tag=\"511\">\n",
    "  <subfield code=\"a\">Max Von Sydow ; Eleonora Giorgi ; Mario Adorf ; Cochi Ponzoni ; Gina Rovere ; Rena Niehaus ; Vadim Glowna ; Aldolfo Lastretti ... et al.</subfield>\n",
    "</datafield>\"\"\""
   ]
  },
  {
   "cell_type": "code",
   "execution_count": null,
   "id": "4acfcd2d",
   "metadata": {},
   "outputs": [],
   "source": [
    "# 1. Change the tag \"511\" in  \"700\" (bad idea... but it's for the exercise)"
   ]
  },
  {
   "cell_type": "code",
   "execution_count": 2,
   "id": "7770eb5e",
   "metadata": {},
   "outputs": [],
   "source": [
    "# 2. Extract using string method the content of the subfield\n",
    "# A common way is to use find to calculate the index and then slicing"
   ]
  },
  {
   "cell_type": "code",
   "execution_count": null,
   "id": "fc93db78",
   "metadata": {},
   "outputs": [],
   "source": [
    "# 3. Create a list with all the authors"
   ]
  }
 ],
 "metadata": {
  "kernelspec": {
   "display_name": "Python 3 (ipykernel)",
   "language": "python",
   "name": "python3"
  },
  "language_info": {
   "codemirror_mode": {
    "name": "ipython",
    "version": 3
   },
   "file_extension": ".py",
   "mimetype": "text/x-python",
   "name": "python",
   "nbconvert_exporter": "python",
   "pygments_lexer": "ipython3",
   "version": "3.9.7"
  }
 },
 "nbformat": 4,
 "nbformat_minor": 5
}
