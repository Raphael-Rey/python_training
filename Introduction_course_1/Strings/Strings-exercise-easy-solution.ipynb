{
 "cells": [
  {
   "cell_type": "markdown",
   "id": "56af49a2",
   "metadata": {},
   "source": [
    "# Exercises about strings (easy) - Solution"
   ]
  },
  {
   "cell_type": "code",
   "execution_count": 2,
   "id": "fa685b44",
   "metadata": {},
   "outputs": [],
   "source": [
    "# Strings on several lines use \"\"\"string\"\"\" \n",
    "txt = ' The cat takes a bath in the sea. '"
   ]
  },
  {
   "cell_type": "code",
   "execution_count": 3,
   "id": "0d8ca1b6",
   "metadata": {},
   "outputs": [
    {
     "name": "stdout",
     "output_type": "stream",
     "text": [
      " THE CAT TAKES A BATH IN THE SEA. \n"
     ]
    }
   ],
   "source": [
    "# 1. Change this sentence to upper case\n",
    "txt_upper = txt.upper()\n",
    "print(txt_upper)"
   ]
  },
  {
   "cell_type": "code",
   "execution_count": 4,
   "id": "52a69c00",
   "metadata": {},
   "outputs": [
    {
     "name": "stdout",
     "output_type": "stream",
     "text": [
      "The cat takes a bath in the sea.\n"
     ]
    }
   ],
   "source": [
    "# 2. Suppress spaces at the beginning and at the end of the text\n",
    "txt_strip = txt.strip()\n",
    "print(txt_strip)"
   ]
  },
  {
   "cell_type": "code",
   "execution_count": 5,
   "id": "a069042b",
   "metadata": {},
   "outputs": [
    {
     "name": "stdout",
     "output_type": "stream",
     "text": [
      " The cat takes a bath in the pond. \n"
     ]
    }
   ],
   "source": [
    "# 3. Replace the sea with a pond\n",
    "txt_pond = txt.replace('sea', 'pond')\n",
    "print(txt_pond)"
   ]
  },
  {
   "cell_type": "code",
   "execution_count": 6,
   "id": "7b5d9197",
   "metadata": {},
   "outputs": [
    {
     "name": "stdout",
     "output_type": "stream",
     "text": [
      "['The', 'cat', 'takes', 'a', 'bath', 'in', 'the', 'sea.']\n"
     ]
    }
   ],
   "source": [
    "# 4. Get a list of separeted words\n",
    "txt_as_list = txt.split()\n",
    "print(txt_as_list)"
   ]
  },
  {
   "cell_type": "code",
   "execution_count": 7,
   "id": "0268a38e",
   "metadata": {},
   "outputs": [
    {
     "name": "stdout",
     "output_type": "stream",
     "text": [
      "The_cat_takes_a_bath_in_the_sea.\n"
     ]
    }
   ],
   "source": [
    "# 5. Replace the spaces with \"_\" => 'The_cat_takes_a_bath_in_the_sea.'\n",
    "# a) Solution with strip and replace\n",
    "\n",
    "# Chaining methods\n",
    "print(txt.strip().replace(' ', '_'))"
   ]
  },
  {
   "cell_type": "code",
   "execution_count": 8,
   "id": "4cbf0381",
   "metadata": {},
   "outputs": [
    {
     "name": "stdout",
     "output_type": "stream",
     "text": [
      "The_cat_takes_a_bath_in_the_sea.\n"
     ]
    }
   ],
   "source": [
    "# 2 steps method\n",
    "txt1 = txt.strip()\n",
    "txt2 = txt1.replace(' ', '_')\n",
    "print(txt2)"
   ]
  },
  {
   "cell_type": "code",
   "execution_count": 10,
   "id": "cf13b423",
   "metadata": {},
   "outputs": [
    {
     "name": "stdout",
     "output_type": "stream",
     "text": [
      "The_cat_takes_a_bath_in_the_sea.\n"
     ]
    }
   ],
   "source": [
    "# b) Solution with split and join\n",
    "txt_as_list = txt.split()\n",
    "new_txt = '_'.join(txt_as_list)\n",
    "print(new_txt)"
   ]
  },
  {
   "cell_type": "code",
   "execution_count": null,
   "id": "5900e3c4",
   "metadata": {},
   "outputs": [],
   "source": []
  }
 ],
 "metadata": {
  "kernelspec": {
   "display_name": "Python 3 (ipykernel)",
   "language": "python",
   "name": "python3"
  },
  "language_info": {
   "codemirror_mode": {
    "name": "ipython",
    "version": 3
   },
   "file_extension": ".py",
   "mimetype": "text/x-python",
   "name": "python",
   "nbconvert_exporter": "python",
   "pygments_lexer": "ipython3",
   "version": "3.9.7"
  }
 },
 "nbformat": 4,
 "nbformat_minor": 5
}
