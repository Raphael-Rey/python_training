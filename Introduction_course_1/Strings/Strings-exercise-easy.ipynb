{
 "cells": [
  {
   "cell_type": "markdown",
   "id": "56af49a2",
   "metadata": {},
   "source": [
    "# Exercises about strings (easy)"
   ]
  },
  {
   "cell_type": "code",
   "execution_count": 5,
   "id": "fa685b44",
   "metadata": {},
   "outputs": [],
   "source": [
    "# Strings on several lines use \"\"\"string\"\"\" \n",
    "txt = ' The cat takes a bath in the sea. '"
   ]
  },
  {
   "cell_type": "code",
   "execution_count": null,
   "id": "0d8ca1b6",
   "metadata": {},
   "outputs": [],
   "source": [
    "# 1. Change this sentence to upper case"
   ]
  },
  {
   "cell_type": "code",
   "execution_count": 1,
   "id": "52a69c00",
   "metadata": {},
   "outputs": [],
   "source": [
    "# 2. Suppress spaces at the beginning and at the end of the text"
   ]
  },
  {
   "cell_type": "code",
   "execution_count": 2,
   "id": "a069042b",
   "metadata": {},
   "outputs": [],
   "source": [
    "# 3. Replace the sea with a pond"
   ]
  },
  {
   "cell_type": "code",
   "execution_count": 3,
   "id": "7b5d9197",
   "metadata": {},
   "outputs": [],
   "source": [
    "# 4. Get a list of separeted words"
   ]
  },
  {
   "cell_type": "code",
   "execution_count": 6,
   "id": "0268a38e",
   "metadata": {},
   "outputs": [
    {
     "data": {
      "text/plain": [
       "'The_cat_takes_a_bath_in_the_sea.'"
      ]
     },
     "execution_count": 6,
     "metadata": {},
     "output_type": "execute_result"
    }
   ],
   "source": [
    "# 5. Replace the spaces with \"_\" => 'The_cat_takes_a_bath_in_the_sea.'\n",
    "# a) Solution with strip and replace"
   ]
  },
  {
   "cell_type": "code",
   "execution_count": null,
   "id": "cf13b423",
   "metadata": {},
   "outputs": [],
   "source": [
    "# b) Solution with split and join"
   ]
  }
 ],
 "metadata": {
  "kernelspec": {
   "display_name": "Python 3 (ipykernel)",
   "language": "python",
   "name": "python3"
  },
  "language_info": {
   "codemirror_mode": {
    "name": "ipython",
    "version": 3
   },
   "file_extension": ".py",
   "mimetype": "text/x-python",
   "name": "python",
   "nbconvert_exporter": "python",
   "pygments_lexer": "ipython3",
   "version": "3.9.7"
  }
 },
 "nbformat": 4,
 "nbformat_minor": 5
}
