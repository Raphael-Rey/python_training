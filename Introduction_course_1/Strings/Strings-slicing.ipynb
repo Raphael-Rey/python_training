{
 "cells": [
  {
   "cell_type": "markdown",
   "id": "c40acdcd",
   "metadata": {},
   "source": [
    "# String slicing in python\n",
    "Slicing is used to select only a part of a string."
   ]
  },
  {
   "cell_type": "code",
   "execution_count": 5,
   "id": "c161949a",
   "metadata": {},
   "outputs": [],
   "source": [
    "txt = 'abcdefgh'"
   ]
  },
  {
   "cell_type": "code",
   "execution_count": 6,
   "id": "9d284237",
   "metadata": {},
   "outputs": [
    {
     "name": "stdout",
     "output_type": "stream",
     "text": [
      "Third char:  c\n",
      "First char:  a\n",
      "Last char:  h\n"
     ]
    }
   ],
   "source": [
    "# Get the n char\n",
    "# Warning first char at rank 0\n",
    "print('Third char: ', txt[2])\n",
    "print('First char: ', txt[0])\n",
    "print('Last char: ', txt[-1])"
   ]
  },
  {
   "cell_type": "code",
   "execution_count": 7,
   "id": "d9dcac33",
   "metadata": {},
   "outputs": [
    {
     "name": "stdout",
     "output_type": "stream",
     "text": [
      "First three chars:  abc\n"
     ]
    }
   ],
   "source": [
    "# Get the first n chars\n",
    "# The last char is not included\n",
    "print('First three chars: ', txt[:3])"
   ]
  },
  {
   "cell_type": "code",
   "execution_count": 8,
   "id": "41e46905",
   "metadata": {},
   "outputs": [
    {
     "name": "stdout",
     "output_type": "stream",
     "text": [
      "Remaining chars since the fifth:  efgh\n"
     ]
    }
   ],
   "source": [
    "# Get all chars since the fifth one\n",
    "print('Remaining chars since the fifth: ', txt[4:])"
   ]
  },
  {
   "cell_type": "code",
   "execution_count": 10,
   "id": "48425fd3",
   "metadata": {},
   "outputs": [
    {
     "name": "stdout",
     "output_type": "stream",
     "text": [
      "\"bc\" string:  bc\n"
     ]
    }
   ],
   "source": [
    "# Get \"bc\" string\n",
    "print('\"bc\" string: ', txt[1:3])"
   ]
  },
  {
   "cell_type": "code",
   "execution_count": 11,
   "id": "b6461c30",
   "metadata": {},
   "outputs": [
    {
     "name": "stdout",
     "output_type": "stream",
     "text": [
      "abcdefg\n"
     ]
    }
   ],
   "source": [
    "# remove last char\n",
    "print(txt[:-1])"
   ]
  },
  {
   "cell_type": "code",
   "execution_count": 13,
   "id": "9b0f28e1",
   "metadata": {},
   "outputs": [
    {
     "name": "stdout",
     "output_type": "stream",
     "text": [
      "hgfedcba\n"
     ]
    }
   ],
   "source": [
    "# Invert a string\n",
    "print(txt[::-1])"
   ]
  },
  {
   "cell_type": "code",
   "execution_count": null,
   "id": "c532df78",
   "metadata": {},
   "outputs": [],
   "source": []
  }
 ],
 "metadata": {
  "kernelspec": {
   "display_name": "Python 3 (ipykernel)",
   "language": "python",
   "name": "python3"
  },
  "language_info": {
   "codemirror_mode": {
    "name": "ipython",
    "version": 3
   },
   "file_extension": ".py",
   "mimetype": "text/x-python",
   "name": "python",
   "nbconvert_exporter": "python",
   "pygments_lexer": "ipython3",
   "version": "3.9.7"
  }
 },
 "nbformat": 4,
 "nbformat_minor": 5
}
