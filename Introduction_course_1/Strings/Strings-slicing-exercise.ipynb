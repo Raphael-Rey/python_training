{
 "cells": [
  {
   "cell_type": "markdown",
   "id": "bcb95501",
   "metadata": {},
   "source": [
    "# Slicing strings - exercise"
   ]
  },
  {
   "cell_type": "code",
   "execution_count": 1,
   "id": "88c2dd6c",
   "metadata": {},
   "outputs": [],
   "source": [
    "txt = 'OnTwoThreeFour'"
   ]
  },
  {
   "cell_type": "code",
   "execution_count": 2,
   "id": "379c757d",
   "metadata": {},
   "outputs": [],
   "source": [
    "# With slicing extract \"Two\" from txt"
   ]
  },
  {
   "cell_type": "code",
   "execution_count": 3,
   "id": "a621aba9",
   "metadata": {},
   "outputs": [],
   "source": [
    "# With slicing extract the second last char of txt (\"u\")"
   ]
  },
  {
   "cell_type": "code",
   "execution_count": null,
   "id": "22665214",
   "metadata": {},
   "outputs": [],
   "source": [
    "# With slicing extract \"OnTwoThree\" from txt (two solutions is great)"
   ]
  },
  {
   "cell_type": "code",
   "execution_count": 4,
   "id": "7848eef8",
   "metadata": {},
   "outputs": [],
   "source": [
    "# Invert order of txt letters"
   ]
  },
  {
   "cell_type": "code",
   "execution_count": null,
   "id": "13a851e2",
   "metadata": {},
   "outputs": [],
   "source": []
  }
 ],
 "metadata": {
  "kernelspec": {
   "display_name": "Python 3 (ipykernel)",
   "language": "python",
   "name": "python3"
  },
  "language_info": {
   "codemirror_mode": {
    "name": "ipython",
    "version": 3
   },
   "file_extension": ".py",
   "mimetype": "text/x-python",
   "name": "python",
   "nbconvert_exporter": "python",
   "pygments_lexer": "ipython3",
   "version": "3.9.7"
  }
 },
 "nbformat": 4,
 "nbformat_minor": 5
}
