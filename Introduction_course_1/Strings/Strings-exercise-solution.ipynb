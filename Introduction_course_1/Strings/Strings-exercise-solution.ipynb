{
 "cells": [
  {
   "cell_type": "markdown",
   "id": "56af49a2",
   "metadata": {},
   "source": [
    "# Exercises about strings"
   ]
  },
  {
   "cell_type": "code",
   "execution_count": 18,
   "id": "fa685b44",
   "metadata": {},
   "outputs": [],
   "source": [
    "# Strings on several lines use \"\"\"string\"\"\" \n",
    "txt = \"\"\"<datafield ind1=\"0\" ind2=\" \" tag=\"511\">\n",
    "  <subfield code=\"a\">Max Von Sydow ; Eleonora Giorgi ; Mario Adorf ; Cochi Ponzoni ; Gina Rovere ; Rena Niehaus ; Vadim Glowna ; Aldolfo Lastretti ... et al.</subfield>\n",
    "</datafield>\"\"\""
   ]
  },
  {
   "cell_type": "code",
   "execution_count": 19,
   "id": "4acfcd2d",
   "metadata": {},
   "outputs": [
    {
     "name": "stdout",
     "output_type": "stream",
     "text": [
      "<datafield ind1=\"0\" ind2=\" \" tag=\"700\">\n",
      "  <subfield code=\"a\">Max Von Sydow ; Eleonora Giorgi ; Mario Adorf ; Cochi Ponzoni ; Gina Rovere ; Rena Niehaus ; Vadim Glowna ; Aldolfo Lastretti ... et al.</subfield>\n",
      "</datafield>\n"
     ]
    }
   ],
   "source": [
    "# 1. Change the tag \"511\" in  \"700\" (bad idea... but it's for the exercise)\n",
    "print(txt.replace('tag=\"511\"', 'tag=\"700\"'))"
   ]
  },
  {
   "cell_type": "code",
   "execution_count": 20,
   "id": "7770eb5e",
   "metadata": {},
   "outputs": [
    {
     "data": {
      "text/plain": [
       "43"
      ]
     },
     "execution_count": 20,
     "metadata": {},
     "output_type": "execute_result"
    }
   ],
   "source": [
    "# 2. Extract using string method the content of the subfield\n",
    "# A common way is to use find to calculate the index and then slicing\n",
    "start_subfield = txt.find('subfield')\n",
    "start_subfield"
   ]
  },
  {
   "cell_type": "code",
   "execution_count": 21,
   "id": "3991b66e",
   "metadata": {},
   "outputs": [
    {
     "data": {
      "text/plain": [
       "61"
      ]
     },
     "execution_count": 21,
     "metadata": {},
     "output_type": "execute_result"
    }
   ],
   "source": [
    "start_subfield_content = txt.find('>', start_subfield) + 1\n",
    "start_subfield_content"
   ]
  },
  {
   "cell_type": "code",
   "execution_count": 22,
   "id": "f1eb253a",
   "metadata": {},
   "outputs": [
    {
     "data": {
      "text/plain": [
       "197"
      ]
     },
     "execution_count": 22,
     "metadata": {},
     "output_type": "execute_result"
    }
   ],
   "source": [
    "end_subfield_content = txt.find('<', start_subfield_content)\n",
    "end_subfield_content"
   ]
  },
  {
   "cell_type": "code",
   "execution_count": 23,
   "id": "b242ecea",
   "metadata": {},
   "outputs": [
    {
     "data": {
      "text/plain": [
       "'Max Von Sydow ; Eleonora Giorgi ; Mario Adorf ; Cochi Ponzoni ; Gina Rovere ; Rena Niehaus ; Vadim Glowna ; Aldolfo Lastretti ... et al.'"
      ]
     },
     "execution_count": 23,
     "metadata": {},
     "output_type": "execute_result"
    }
   ],
   "source": [
    "txt[start_subfield_content:end_subfield_content]"
   ]
  },
  {
   "cell_type": "code",
   "execution_count": 24,
   "id": "fc93db78",
   "metadata": {},
   "outputs": [],
   "source": [
    "# 3. Create a list with all the authors"
   ]
  },
  {
   "cell_type": "code",
   "execution_count": 25,
   "id": "555d1772",
   "metadata": {},
   "outputs": [
    {
     "data": {
      "text/plain": [
       "'Max Von Sydow ; Eleonora Giorgi ; Mario Adorf ; Cochi Ponzoni ; Gina Rovere ; Rena Niehaus ; Vadim Glowna ; Aldolfo Lastretti '"
      ]
     },
     "execution_count": 25,
     "metadata": {},
     "output_type": "execute_result"
    }
   ],
   "source": [
    "authors_txt = txt[start_subfield_content:end_subfield_content]\n",
    "authors_txt = authors_txt[:authors_txt.find('...')] # Suppress the ending \"... et al.\"\n",
    "authors_txt"
   ]
  },
  {
   "cell_type": "code",
   "execution_count": 26,
   "id": "9a5edc53",
   "metadata": {},
   "outputs": [
    {
     "data": {
      "text/plain": [
       "['Max Von Sydow ',\n",
       " ' Eleonora Giorgi ',\n",
       " ' Mario Adorf ',\n",
       " ' Cochi Ponzoni ',\n",
       " ' Gina Rovere ',\n",
       " ' Rena Niehaus ',\n",
       " ' Vadim Glowna ',\n",
       " ' Aldolfo Lastretti ']"
      ]
     },
     "execution_count": 26,
     "metadata": {},
     "output_type": "execute_result"
    }
   ],
   "source": [
    "# Create a list, separator is ';'\n",
    "authors_list = authors_txt.split(';')\n",
    "authors_list"
   ]
  },
  {
   "cell_type": "code",
   "execution_count": 27,
   "id": "2a268b6b",
   "metadata": {},
   "outputs": [
    {
     "data": {
      "text/plain": [
       "['Max Von Sydow',\n",
       " 'Eleonora Giorgi',\n",
       " 'Mario Adorf',\n",
       " 'Cochi Ponzoni',\n",
       " 'Gina Rovere',\n",
       " 'Rena Niehaus',\n",
       " 'Vadim Glowna',\n",
       " 'Aldolfo Lastretti']"
      ]
     },
     "execution_count": 27,
     "metadata": {},
     "output_type": "execute_result"
    }
   ],
   "source": [
    "# Remove blank and the begining and at the end\n",
    "authors_list = [author.strip() for author in authors_list]\n",
    "authors_list"
   ]
  },
  {
   "cell_type": "code",
   "execution_count": null,
   "id": "8c3806dd",
   "metadata": {},
   "outputs": [],
   "source": []
  }
 ],
 "metadata": {
  "kernelspec": {
   "display_name": "Python 3 (ipykernel)",
   "language": "python",
   "name": "python3"
  },
  "language_info": {
   "codemirror_mode": {
    "name": "ipython",
    "version": 3
   },
   "file_extension": ".py",
   "mimetype": "text/x-python",
   "name": "python",
   "nbconvert_exporter": "python",
   "pygments_lexer": "ipython3",
   "version": "3.9.12"
  }
 },
 "nbformat": 4,
 "nbformat_minor": 5
}
