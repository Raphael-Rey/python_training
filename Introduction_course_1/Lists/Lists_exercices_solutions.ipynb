{
 "cells": [
  {
   "cell_type": "markdown",
   "id": "90740aa7",
   "metadata": {},
   "source": [
    "# Exercises about lists"
   ]
  },
  {
   "cell_type": "code",
   "execution_count": 5,
   "id": "f4ed6ab7",
   "metadata": {},
   "outputs": [],
   "source": [
    "# 1. Create a list with some fruits, store them in a \"fruits\" variable: apple, banana, pear\n",
    "fruits = ['apple', 'banana', 'pear']"
   ]
  },
  {
   "cell_type": "code",
   "execution_count": 6,
   "id": "26328582",
   "metadata": {},
   "outputs": [
    {
     "data": {
      "text/plain": [
       "['apple', 'banana', 'pear', 'orange', 'coconut']"
      ]
     },
     "execution_count": 6,
     "metadata": {},
     "output_type": "execute_result"
    }
   ],
   "source": [
    "# 2. Create a second list with orange and coconut and the concatenate the two list in \"fruits\" variable\n",
    "fruits = fruits + ['orange', 'coconut']\n",
    "fruits"
   ]
  },
  {
   "cell_type": "code",
   "execution_count": 15,
   "id": "6b078507",
   "metadata": {},
   "outputs": [
    {
     "data": {
      "text/plain": [
       "['orange', 'coconut']"
      ]
     },
     "execution_count": 15,
     "metadata": {},
     "output_type": "execute_result"
    }
   ],
   "source": [
    "# 3. Create a new list of fruits \"some_fruits\" with the two first fruits\n",
    "fruits[3:500]"
   ]
  },
  {
   "cell_type": "code",
   "execution_count": 16,
   "id": "fd62875e",
   "metadata": {},
   "outputs": [
    {
     "data": {
      "text/plain": [
       "['coconut', 'orange', 'pear', 'banana', 'apple']"
      ]
     },
     "execution_count": 16,
     "metadata": {},
     "output_type": "execute_result"
    }
   ],
   "source": [
    "# 4. Reverse the order of the fruits and store it in a \"fruits_reverse\" variable\n",
    "fruits[::-1]"
   ]
  },
  {
   "cell_type": "code",
   "execution_count": 17,
   "id": "ba6832cc",
   "metadata": {},
   "outputs": [
    {
     "data": {
      "text/plain": [
       "['apple', 'banana', 'pear', 'orange', 'lemon']"
      ]
     },
     "execution_count": 17,
     "metadata": {},
     "output_type": "execute_result"
    }
   ],
   "source": [
    "# 5. Change the last fruit of \"fruits\" variable for lemon\n",
    "fruits[-1] = 'lemon'\n",
    "fruits"
   ]
  },
  {
   "cell_type": "code",
   "execution_count": 24,
   "id": "5449f411",
   "metadata": {},
   "outputs": [
    {
     "data": {
      "text/plain": [
       "['apples', 'bananas', 'pears', 'oranges', 'lemons']"
      ]
     },
     "execution_count": 24,
     "metadata": {},
     "output_type": "execute_result"
    }
   ],
   "source": [
    "# 6. Add a \"s\" to all elements of \"fruits\" variable and store the result in the same variable\n",
    "fruits_2 = []\n",
    "for fruit in fruits:\n",
    "    fruit = fruit + 's'\n",
    "    fruits_2.append(fruit)\n",
    "fruits_2"
   ]
  },
  {
   "cell_type": "code",
   "execution_count": 27,
   "id": "0d70ab3f",
   "metadata": {},
   "outputs": [
    {
     "data": {
      "text/plain": [
       "['apple', 'banana', 'pear', 'orange', 'lemon']"
      ]
     },
     "execution_count": 27,
     "metadata": {},
     "output_type": "execute_result"
    }
   ],
   "source": [
    "fruits = [fruit[:-1] for fruit in fruits]\n",
    "fruits"
   ]
  },
  {
   "cell_type": "code",
   "execution_count": null,
   "id": "89099ba1",
   "metadata": {},
   "outputs": [],
   "source": []
  }
 ],
 "metadata": {
  "kernelspec": {
   "display_name": "Python 3 (ipykernel)",
   "language": "python",
   "name": "python3"
  },
  "language_info": {
   "codemirror_mode": {
    "name": "ipython",
    "version": 3
   },
   "file_extension": ".py",
   "mimetype": "text/x-python",
   "name": "python",
   "nbconvert_exporter": "python",
   "pygments_lexer": "ipython3",
   "version": "3.9.7"
  }
 },
 "nbformat": 4,
 "nbformat_minor": 5
}
