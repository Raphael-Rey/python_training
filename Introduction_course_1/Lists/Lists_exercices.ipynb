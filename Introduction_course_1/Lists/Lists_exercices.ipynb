{
 "cells": [
  {
   "cell_type": "markdown",
   "id": "90740aa7",
   "metadata": {},
   "source": [
    "# Exercises about lists"
   ]
  },
  {
   "cell_type": "code",
   "execution_count": 2,
   "id": "f4ed6ab7",
   "metadata": {},
   "outputs": [],
   "source": [
    "# 1. Create a list with some fruits, store them in a \"fruits\" variable: apple, banana, pear"
   ]
  },
  {
   "cell_type": "code",
   "execution_count": 3,
   "id": "26328582",
   "metadata": {},
   "outputs": [],
   "source": [
    "# 2. Create a second list with orange and coconut and the concatenate the two list in \"fruits\" variable"
   ]
  },
  {
   "cell_type": "code",
   "execution_count": null,
   "id": "6b078507",
   "metadata": {},
   "outputs": [],
   "source": [
    "# 3. Create a new list of fruits \"some_fruits\" with the two first fruits"
   ]
  },
  {
   "cell_type": "code",
   "execution_count": 4,
   "id": "fd62875e",
   "metadata": {},
   "outputs": [],
   "source": [
    "# 4. Reverse the order of the fruits and store it in a \"fruits_reverse\" variable"
   ]
  },
  {
   "cell_type": "code",
   "execution_count": 5,
   "id": "ba6832cc",
   "metadata": {},
   "outputs": [],
   "source": [
    "# 5. Change the last fruit of \"fruits\" variable for lemon"
   ]
  },
  {
   "cell_type": "code",
   "execution_count": 6,
   "id": "5449f411",
   "metadata": {},
   "outputs": [],
   "source": [
    "# 6. Add a \"s\" to all elements of \"fruits\" variable and store the result in the same variable"
   ]
  },
  {
   "cell_type": "code",
   "execution_count": null,
   "id": "79d673c0",
   "metadata": {},
   "outputs": [],
   "source": []
  }
 ],
 "metadata": {
  "kernelspec": {
   "display_name": "Python 3 (ipykernel)",
   "language": "python",
   "name": "python3"
  },
  "language_info": {
   "codemirror_mode": {
    "name": "ipython",
    "version": 3
   },
   "file_extension": ".py",
   "mimetype": "text/x-python",
   "name": "python",
   "nbconvert_exporter": "python",
   "pygments_lexer": "ipython3",
   "version": "3.9.7"
  }
 },
 "nbformat": 4,
 "nbformat_minor": 5
}
