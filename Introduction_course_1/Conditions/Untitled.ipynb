{
 "cells": [
  {
   "cell_type": "code",
   "execution_count": 2,
   "id": "61161f9c",
   "metadata": {},
   "outputs": [],
   "source": [
    "words = ['apple', 'orange', 'bread', 'tree', 'mouse']"
   ]
  },
  {
   "cell_type": "code",
   "execution_count": 3,
   "id": "873093ed",
   "metadata": {},
   "outputs": [
    {
     "name": "stdout",
     "output_type": "stream",
     "text": [
      "apple\n",
      "orange\n",
      "bread\n"
     ]
    }
   ],
   "source": [
    "for word in words:\n",
    "    if 'a' in word:\n",
    "        print(word)"
   ]
  },
  {
   "cell_type": "code",
   "execution_count": 5,
   "id": "f7d7ca07",
   "metadata": {},
   "outputs": [
    {
     "name": "stdout",
     "output_type": "stream",
     "text": [
      "orange\n"
     ]
    }
   ],
   "source": [
    "for word in words:\n",
    "    if word == 'orange':\n",
    "        print(word)"
   ]
  },
  {
   "cell_type": "code",
   "execution_count": 6,
   "id": "582a84db",
   "metadata": {},
   "outputs": [
    {
     "name": "stdout",
     "output_type": "stream",
     "text": [
      "apple\n",
      "bread\n",
      "tree\n",
      "mouse\n"
     ]
    }
   ],
   "source": [
    "for word in words:\n",
    "    if word != 'orange':\n",
    "        print(word)"
   ]
  },
  {
   "cell_type": "code",
   "execution_count": 7,
   "id": "59639c38",
   "metadata": {},
   "outputs": [
    {
     "name": "stdout",
     "output_type": "stream",
     "text": [
      "apple\n",
      "bread\n"
     ]
    }
   ],
   "source": [
    "for word in words:\n",
    "    if word != 'orange' and 'a' in word:\n",
    "        print(word)"
   ]
  },
  {
   "cell_type": "code",
   "execution_count": 17,
   "id": "452e4d39",
   "metadata": {},
   "outputs": [
    {
     "name": "stdout",
     "output_type": "stream",
     "text": [
      "I found an apple: apple\n",
      "I found an orange: orange\n",
      "it wasn't an apple nor an orange: bread\n",
      "it wasn't an apple nor an orange: tree\n",
      "it wasn't an apple nor an orange: mouse\n"
     ]
    }
   ],
   "source": [
    "for word in words:\n",
    "    if word == 'orange':\n",
    "        print(f'I found an orange: {word}')\n",
    "    elif word == 'apple':\n",
    "        print(f'I found an apple: {word}')\n",
    "    else:\n",
    "        print('it wasn\\'t an apple nor an orange:', word)"
   ]
  },
  {
   "cell_type": "code",
   "execution_count": null,
   "id": "40cd5962",
   "metadata": {},
   "outputs": [],
   "source": [
    "for word in words:\n",
    "    if word some condition:\n",
    "       continue \n",
    "    \n",
    "    \n",
    "    \n",
    "        \n",
    "        \n",
    "        \n",
    "        \n",
    "        \n",
    "        \n",
    "        \n",
    "        \n",
    "        \n",
    "        \n",
    "        \n",
    "        \n",
    "        \n",
    "        \n",
    "        \n",
    "        "
   ]
  }
 ],
 "metadata": {
  "kernelspec": {
   "display_name": "Python 3 (ipykernel)",
   "language": "python",
   "name": "python3"
  },
  "language_info": {
   "codemirror_mode": {
    "name": "ipython",
    "version": 3
   },
   "file_extension": ".py",
   "mimetype": "text/x-python",
   "name": "python",
   "nbconvert_exporter": "python",
   "pygments_lexer": "ipython3",
   "version": "3.9.7"
  }
 },
 "nbformat": 4,
 "nbformat_minor": 5
}
