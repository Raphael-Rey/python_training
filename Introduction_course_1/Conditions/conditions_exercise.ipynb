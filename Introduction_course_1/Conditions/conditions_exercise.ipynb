{
 "cells": [
  {
   "cell_type": "markdown",
   "id": "045619ea",
   "metadata": {},
   "source": [
    "# Conditions exercise"
   ]
  },
  {
   "cell_type": "code",
   "execution_count": null,
   "id": "3b866f09",
   "metadata": {},
   "outputs": [],
   "source": [
    "numbers = [1, 3, 5, 6, 12, 14, 15]\n"
   ]
  },
  {
   "cell_type": "code",
   "execution_count": 7,
   "id": "880b9063",
   "metadata": {},
   "outputs": [
    {
     "name": "stdout",
     "output_type": "stream",
     "text": [
      "12 % 3 = 0\n",
      "12 % 5 = 2\n"
     ]
    }
   ],
   "source": [
    "# To obtain the rest, use the \"%\" operator\n",
    "print(\"12 % 3 =\", 12 % 3)\n",
    "print(\"12 % 5 =\", 12 % 5)"
   ]
  },
  {
   "cell_type": "code",
   "execution_count": null,
   "id": "6ae0f686",
   "metadata": {},
   "outputs": [],
   "source": [
    "# 1. Print all even numbers of the list"
   ]
  },
  {
   "cell_type": "code",
   "execution_count": null,
   "id": "9b543905",
   "metadata": {},
   "outputs": [],
   "source": []
  },
  {
   "cell_type": "code",
   "execution_count": null,
   "id": "f09d9354",
   "metadata": {},
   "outputs": [],
   "source": [
    "# 2. Print all even numbers divisible by 3"
   ]
  },
  {
   "cell_type": "code",
   "execution_count": null,
   "id": "f1d31141",
   "metadata": {},
   "outputs": [],
   "source": []
  },
  {
   "cell_type": "code",
   "execution_count": null,
   "id": "a51368e0",
   "metadata": {},
   "outputs": [],
   "source": [
    "# 3. Make three lists\n",
    "# Even below 10\n",
    "# Uneven below 10\n",
    "# Greater or equal to ten"
   ]
  },
  {
   "cell_type": "code",
   "execution_count": null,
   "id": "4040b03c",
   "metadata": {},
   "outputs": [],
   "source": []
  },
  {
   "cell_type": "code",
   "execution_count": null,
   "id": "b59a2fc9",
   "metadata": {},
   "outputs": [],
   "source": [
    "# 4. Create a new list withe all words ending with \"e\"\n",
    "words = ['pomme', 'chat', 'cuisine', 'gâteau', 'chien', 'feuille', 'cheminée']"
   ]
  },
  {
   "cell_type": "code",
   "execution_count": null,
   "id": "1d4adad7",
   "metadata": {},
   "outputs": [],
   "source": []
  },
  {
   "cell_type": "code",
   "execution_count": null,
   "id": "f37f6b35",
   "metadata": {},
   "outputs": [],
   "source": [
    "# 5. Create a new list withe all words containing a \"i\"\n",
    "words = ['pomme', 'chat', 'cuisine', 'gâteau', 'chien', 'feuille', 'cheminée']"
   ]
  }
 ],
 "metadata": {
  "kernelspec": {
   "display_name": "Python 3 (ipykernel)",
   "language": "python",
   "name": "python3"
  },
  "language_info": {
   "codemirror_mode": {
    "name": "ipython",
    "version": 3
   },
   "file_extension": ".py",
   "mimetype": "text/x-python",
   "name": "python",
   "nbconvert_exporter": "python",
   "pygments_lexer": "ipython3",
   "version": "3.9.7"
  }
 },
 "nbformat": 4,
 "nbformat_minor": 5
}
