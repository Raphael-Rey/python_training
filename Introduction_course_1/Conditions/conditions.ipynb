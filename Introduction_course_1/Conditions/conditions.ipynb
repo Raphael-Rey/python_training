{
 "cells": [
  {
   "cell_type": "markdown",
   "id": "ba4e2d31",
   "metadata": {},
   "source": [
    "# Conditions\n",
    "Most common use case is with `if` but we have a lot of possible other contexts like `while`, pandas queries, etc.\n",
    "\n",
    "**Good practices:**\n",
    "* Avoid too much nested conditions\n",
    "* Avoid long conditional blocks\n",
    "* Make conditions easy to read"
   ]
  },
  {
   "cell_type": "code",
   "execution_count": 2,
   "id": "8048bd6c",
   "metadata": {},
   "outputs": [],
   "source": [
    "words = ['apple', 'orange', 'bread', 'tree', 'mouse']"
   ]
  },
  {
   "cell_type": "code",
   "execution_count": 3,
   "id": "e834c5da",
   "metadata": {},
   "outputs": [
    {
     "name": "stdout",
     "output_type": "stream",
     "text": [
      "I found an apple\n"
     ]
    }
   ],
   "source": [
    "# Simple condition\n",
    "for word in words:\n",
    "    if word == 'apple':\n",
    "        print('I found an apple')"
   ]
  },
  {
   "cell_type": "code",
   "execution_count": 4,
   "id": "10a7e139",
   "metadata": {},
   "outputs": [
    {
     "name": "stdout",
     "output_type": "stream",
     "text": [
      "I found an apple\n",
      "It wasn't an apple\n",
      "It wasn't an apple\n",
      "It wasn't an apple\n",
      "It wasn't an apple\n"
     ]
    }
   ],
   "source": [
    "# With \"else\"\n",
    "for word in words:\n",
    "    if word == 'apple':\n",
    "        print('I found an apple')\n",
    "    else:\n",
    "        print('It wasn\\'t an apple')"
   ]
  },
  {
   "cell_type": "code",
   "execution_count": 5,
   "id": "b5c61687",
   "metadata": {},
   "outputs": [
    {
     "name": "stdout",
     "output_type": "stream",
     "text": [
      "I found an apple\n",
      "it was neither a tree nor an apple\n",
      "it was neither a tree nor an apple\n",
      "I found a tree\n",
      "it was neither a tree nor an apple\n"
     ]
    }
   ],
   "source": [
    "# With \"elif\"\n",
    "for word in words:\n",
    "    if word == 'apple':\n",
    "        print('I found an apple')\n",
    "    elif word == 'tree':\n",
    "        print('I found a tree')\n",
    "    else:\n",
    "        print('It was neither a tree nor an apple')"
   ]
  },
  {
   "cell_type": "code",
   "execution_count": 6,
   "id": "86db07fe",
   "metadata": {},
   "outputs": [
    {
     "name": "stdout",
     "output_type": "stream",
     "text": [
      "I found an apple\n",
      "I found an orange\n",
      "It wasn't a tree or an apple or an orange\n",
      "I found a tree\n",
      "It wasn't a tree or an apple or an orange\n"
     ]
    }
   ],
   "source": [
    "# With more than one \"elif\"\n",
    "for word in words:\n",
    "    if word == 'apple':\n",
    "        print('I found an apple')\n",
    "    elif word == 'tree':\n",
    "        print('I found a tree')\n",
    "    elif word == 'orange':\n",
    "        print('I found an orange')\n",
    "    else:\n",
    "        print('It wasn\\'t a tree or an apple or an orange')"
   ]
  },
  {
   "cell_type": "code",
   "execution_count": 8,
   "id": "3ba2d57e",
   "metadata": {},
   "outputs": [
    {
     "name": "stdout",
     "output_type": "stream",
     "text": [
      "If found an apple or an orange: apple\n",
      "If found an apple or an orange: orange\n"
     ]
    }
   ],
   "source": [
    "# Booleans\n",
    "for word in words:\n",
    "    if word == 'apple' or word == 'orange':\n",
    "        print(f'If found an apple or an orange: {word}')"
   ]
  },
  {
   "cell_type": "code",
   "execution_count": 9,
   "id": "abb61fcd",
   "metadata": {},
   "outputs": [
    {
     "name": "stdout",
     "output_type": "stream",
     "text": [
      "It wasn't an apple: orange\n",
      "It wasn't an apple: bread\n",
      "It wasn't an apple: tree\n",
      "It wasn't an apple: mouse\n"
     ]
    }
   ],
   "source": [
    "# Booleans (not)\n",
    "for word in words:\n",
    "    if word != 'apple':\n",
    "        print(f'It wasn\\'t an apple: {word}')"
   ]
  },
  {
   "cell_type": "code",
   "execution_count": 10,
   "id": "27da698d",
   "metadata": {},
   "outputs": [
    {
     "name": "stdout",
     "output_type": "stream",
     "text": [
      "It wasn't an apple: orange\n",
      "It wasn't an apple: bread\n",
      "It wasn't an apple: tree\n",
      "It wasn't an apple: mouse\n"
     ]
    }
   ],
   "source": [
    "# Booleans (not)\n",
    "for word in words:\n",
    "    if not(word == 'apple'):\n",
    "        print(f'It wasn\\'t an apple: {word}')"
   ]
  },
  {
   "cell_type": "code",
   "execution_count": null,
   "id": "45f20872",
   "metadata": {},
   "outputs": [],
   "source": []
  }
 ],
 "metadata": {
  "kernelspec": {
   "display_name": "Python 3 (ipykernel)",
   "language": "python",
   "name": "python3"
  },
  "language_info": {
   "codemirror_mode": {
    "name": "ipython",
    "version": 3
   },
   "file_extension": ".py",
   "mimetype": "text/x-python",
   "name": "python",
   "nbconvert_exporter": "python",
   "pygments_lexer": "ipython3",
   "version": "3.9.7"
  }
 },
 "nbformat": 4,
 "nbformat_minor": 5
}
