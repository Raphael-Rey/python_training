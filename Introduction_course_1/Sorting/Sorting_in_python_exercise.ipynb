{
 "cells": [
  {
   "cell_type": "markdown",
   "id": "7e040e59",
   "metadata": {},
   "source": [
    "# Sorting in python - exercise"
   ]
  },
  {
   "cell_type": "code",
   "execution_count": 11,
   "id": "796b13d3",
   "metadata": {},
   "outputs": [],
   "source": [
    "# Import libraries\n",
    "from almapiwrapper.users import User, NewUser, fetch_users, fetch_user_in_all_iz, Fee, Loan\n",
    "from almapiwrapper.users import check_synchro, force_synchro\n",
    "from almapiwrapper.inventory import IzBib, NzBib, Holding, Item\n",
    "from almapiwrapper.record import JsonData, XmlData\n",
    "from almapiwrapper.config import ItemizedSet, LogicalSet, NewLogicalSet, NewItemizedSet, Job, Reminder, fetch_reminders\n",
    "from almapiwrapper.analytics import AnalyticsReport\n",
    "from almapiwrapper.configlog import config_log\n",
    "from almapiwrapper import ApiKeys\n",
    "\n",
    "# Config logs\n",
    "config_log()"
   ]
  },
  {
   "cell_type": "markdown",
   "id": "45394cfe",
   "metadata": {},
   "source": [
    "## Lists\n",
    "In python we have one method `sort` of lists and one function `sorted`."
   ]
  },
  {
   "cell_type": "code",
   "execution_count": 12,
   "id": "bf6cee00",
   "metadata": {},
   "outputs": [],
   "source": [
    "# 1. Sort the list\n",
    "sample_list = [10, 8, 9, 5, 0]"
   ]
  },
  {
   "cell_type": "code",
   "execution_count": 23,
   "id": "0adbb1b3",
   "metadata": {},
   "outputs": [],
   "source": [
    "# 2. Sort users by birth date (NZ SB)\n",
    "# To access to user data use `User('264560031989@test.eduid.ch', 'NZ', 'P')`\n",
    "# Data related to user is available in `data` attribute\n",
    "\n",
    "primary_ids = ['264560031989@test.eduid.ch', '0000928200592230@test.eduid.ch', '0000200306147807@test.eduid.ch', '0000517661535517@test.eduid.ch']"
   ]
  },
  {
   "cell_type": "markdown",
   "id": "802fa2e3",
   "metadata": {},
   "source": [
    "## Ordered dict"
   ]
  },
  {
   "cell_type": "code",
   "execution_count": 20,
   "id": "1353ff7d",
   "metadata": {},
   "outputs": [],
   "source": [
    "# 1. Create an ordered dict with the primary id as key and the birth date as value. Sort the ordered dict according to the birth date"
   ]
  },
  {
   "cell_type": "code",
   "execution_count": null,
   "id": "48a47e66",
   "metadata": {},
   "outputs": [],
   "source": []
  }
 ],
 "metadata": {
  "kernelspec": {
   "display_name": "Python 3 (ipykernel)",
   "language": "python",
   "name": "python3"
  },
  "language_info": {
   "codemirror_mode": {
    "name": "ipython",
    "version": 3
   },
   "file_extension": ".py",
   "mimetype": "text/x-python",
   "name": "python",
   "nbconvert_exporter": "python",
   "pygments_lexer": "ipython3",
   "version": "3.9.7"
  }
 },
 "nbformat": 4,
 "nbformat_minor": 5
}
