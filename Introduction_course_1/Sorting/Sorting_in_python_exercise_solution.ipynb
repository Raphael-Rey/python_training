{
 "cells": [
  {
   "cell_type": "markdown",
   "id": "7e040e59",
   "metadata": {},
   "source": [
    "# Sorting in python - exercise - solutions - DRAFT"
   ]
  },
  {
   "cell_type": "code",
   "execution_count": 10,
   "id": "796b13d3",
   "metadata": {},
   "outputs": [],
   "source": [
    "# Import libraries\n",
    "from almapiwrapper.users import User, NewUser, fetch_users, fetch_user_in_all_iz, Fee, Loan\n",
    "from almapiwrapper.users import check_synchro, force_synchro\n",
    "from almapiwrapper.inventory import IzBib, NzBib, Holding, Item\n",
    "from almapiwrapper.record import JsonData, XmlData\n",
    "from almapiwrapper.config import ItemizedSet, LogicalSet, NewLogicalSet, NewItemizedSet, Job, Reminder, fetch_reminders\n",
    "from almapiwrapper.analytics import AnalyticsReport\n",
    "from almapiwrapper.configlog import config_log\n",
    "from almapiwrapper import ApiKeys\n",
    "\n",
    "# Config logs\n",
    "config_log()"
   ]
  },
  {
   "cell_type": "markdown",
   "id": "45394cfe",
   "metadata": {},
   "source": [
    "## Lists\n",
    "In python we have one method `sort` of lists and one function `sorted`."
   ]
  },
  {
   "cell_type": "code",
   "execution_count": 9,
   "id": "bf6cee00",
   "metadata": {},
   "outputs": [
    {
     "name": "stdout",
     "output_type": "stream",
     "text": [
      "solution1:  [0, 5, 8, 9, 10]\n",
      "sample_list:  [10, 8, 9, 5, 0]\n",
      "solution2:  None\n",
      "sample_list:  [0, 5, 8, 9, 10]\n",
      "solution3 (reverse):  [10, 9, 8, 5, 0]\n"
     ]
    }
   ],
   "source": [
    "# 1. Sort the list\n",
    "sample_list = [10, 8, 9, 5, 0]\n",
    "\n",
    "solution1 = sorted(sample_list)\n",
    "print('solution1: ', solution1)\n",
    "print('sample_list: ', sample_list)\n",
    "\n",
    "solution2 = sample_list.sort()\n",
    "print('solution2: ', solution2)\n",
    "print('sample_list: ', sample_list)\n",
    "\n",
    "\n",
    "\n",
    "# 2. Try with `reverse`\n",
    "solution3 = sorted(sample_list, reverse=True)\n",
    "print('solution3 (reverse): ', solution3)"
   ]
  },
  {
   "cell_type": "code",
   "execution_count": 11,
   "id": "0adbb1b3",
   "metadata": {},
   "outputs": [],
   "source": [
    "# 2. Sort users by birth date (NZ SB)\n",
    "# To access to user data use `User('264560031989@test.eduid.ch', 'NZ', 'S')`\n",
    "# Data related to user is available in `data` attribute\n",
    "\n",
    "primary_ids = ['264560031989@test.eduid.ch', '0000928200592230@test.eduid.ch', '0000200306147807@test.eduid.ch', '0000517661535517@test.eduid.ch']\n",
    "\n",
    "users = []\n",
    "\n",
    "for primary_id in primary_ids:\n",
    "    users.append(User(primary_id, 'NZ', 'S'))\n",
    "    \n",
    "users = [User(primary_id, 'NZ', 'S') for primary_id in primary_ids]"
   ]
  },
  {
   "cell_type": "code",
   "execution_count": 18,
   "id": "9c8db647",
   "metadata": {},
   "outputs": [
    {
     "name": "stdout",
     "output_type": "stream",
     "text": [
      "264560031989@test.eduid.ch : 1969-03-05Z\n",
      "0000928200592230@test.eduid.ch : 1904-01-01Z\n",
      "0000200306147807@test.eduid.ch : 1988-04-01Z\n",
      "0000517661535517@test.eduid.ch : 1970-12-15Z\n"
     ]
    }
   ],
   "source": [
    "for user in users:\n",
    "    print(user.primary_id, ':', user.data['birth_date'])"
   ]
  },
  {
   "cell_type": "code",
   "execution_count": 21,
   "id": "b85f923a",
   "metadata": {},
   "outputs": [],
   "source": [
    "users_sorted = sorted(users, key=lambda u:u.data['birth_date'], reverse=True)"
   ]
  },
  {
   "cell_type": "code",
   "execution_count": 22,
   "id": "05110af1",
   "metadata": {},
   "outputs": [
    {
     "name": "stdout",
     "output_type": "stream",
     "text": [
      "0000200306147807@test.eduid.ch : 1988-04-01Z\n",
      "0000517661535517@test.eduid.ch : 1970-12-15Z\n",
      "264560031989@test.eduid.ch : 1969-03-05Z\n",
      "0000928200592230@test.eduid.ch : 1904-01-01Z\n"
     ]
    }
   ],
   "source": [
    "for user in users_sorted:\n",
    "    print(user.primary_id, ':', user.data['birth_date'])"
   ]
  },
  {
   "cell_type": "code",
   "execution_count": 16,
   "id": "4eb58738",
   "metadata": {},
   "outputs": [
    {
     "name": "stdout",
     "output_type": "stream",
     "text": [
      "1988-04-01Z\n"
     ]
    }
   ],
   "source": [
    "print(users[2].data['birth_date'])"
   ]
  },
  {
   "cell_type": "code",
   "execution_count": 5,
   "id": "a5813c28",
   "metadata": {},
   "outputs": [
    {
     "name": "stdout",
     "output_type": "stream",
     "text": [
      "2023-09-29 10:54:59,554 - INFO - User('264560031989@test.eduid.ch', 'NZ', 'S'): user data available\n"
     ]
    },
    {
     "data": {
      "text/plain": [
       "'1969-03-05Z'"
      ]
     },
     "execution_count": 5,
     "metadata": {},
     "output_type": "execute_result"
    }
   ],
   "source": [
    "User('264560031989@test.eduid.ch', 'NZ', 'S').data['birth_date']"
   ]
  },
  {
   "cell_type": "markdown",
   "id": "802fa2e3",
   "metadata": {},
   "source": [
    "## Ordered dict"
   ]
  },
  {
   "cell_type": "code",
   "execution_count": 20,
   "id": "1353ff7d",
   "metadata": {},
   "outputs": [],
   "source": [
    "# 1. Create an ordered dict with the primary id as key and the birth date as value. Sort the ordered dict according to the birth date"
   ]
  },
  {
   "cell_type": "code",
   "execution_count": 23,
   "id": "48a47e66",
   "metadata": {},
   "outputs": [],
   "source": [
    "from collections import OrderedDict"
   ]
  },
  {
   "cell_type": "code",
   "execution_count": 24,
   "id": "c29fc980",
   "metadata": {},
   "outputs": [
    {
     "name": "stdout",
     "output_type": "stream",
     "text": [
      "2023-10-06 09:22:19,514 - INFO - User('264560031989@test.eduid.ch', 'NZ', 'S'): user data available\n",
      "2023-10-06 09:22:19,738 - INFO - User('0000928200592230@test.eduid.ch', 'NZ', 'S'): user data available\n",
      "2023-10-06 09:22:19,956 - INFO - User('0000200306147807@test.eduid.ch', 'NZ', 'S'): user data available\n",
      "2023-10-06 09:22:20,189 - INFO - User('0000517661535517@test.eduid.ch', 'NZ', 'S'): user data available\n"
     ]
    }
   ],
   "source": [
    "primary_ids = ['264560031989@test.eduid.ch', '0000928200592230@test.eduid.ch', '0000200306147807@test.eduid.ch', '0000517661535517@test.eduid.ch']\n",
    "users_dict = OrderedDict()\n",
    "for primary_id in primary_ids:\n",
    "    user = User(primary_id, 'NZ', 'S')\n",
    "    users_dict[user.primary_id] = user.data['birth_date']\n",
    "\n",
    "\n",
    "    "
   ]
  },
  {
   "cell_type": "code",
   "execution_count": 29,
   "id": "4df8178a",
   "metadata": {},
   "outputs": [
    {
     "data": {
      "text/plain": [
       "OrderedDict([('264560031989@test.eduid.ch', '1969-03-05Z'),\n",
       "             ('0000928200592230@test.eduid.ch', '1904-01-01Z'),\n",
       "             ('0000200306147807@test.eduid.ch', '1988-04-01Z'),\n",
       "             ('0000517661535517@test.eduid.ch', '1970-12-15Z')])"
      ]
     },
     "execution_count": 29,
     "metadata": {},
     "output_type": "execute_result"
    }
   ],
   "source": [
    "users_dict"
   ]
  },
  {
   "cell_type": "code",
   "execution_count": 28,
   "id": "b800cb59",
   "metadata": {},
   "outputs": [
    {
     "data": {
      "text/plain": [
       "odict_keys(['264560031989@test.eduid.ch', '0000928200592230@test.eduid.ch', '0000200306147807@test.eduid.ch', '0000517661535517@test.eduid.ch'])"
      ]
     },
     "execution_count": 28,
     "metadata": {},
     "output_type": "execute_result"
    }
   ],
   "source": [
    "users_dict.keys()"
   ]
  },
  {
   "cell_type": "code",
   "execution_count": 30,
   "id": "e520f320",
   "metadata": {},
   "outputs": [
    {
     "data": {
      "text/plain": [
       "[User('0000200306147807@test.eduid.ch', 'NZ', 'S'),\n",
       " User('0000517661535517@test.eduid.ch', 'NZ', 'S'),\n",
       " User('264560031989@test.eduid.ch', 'NZ', 'S'),\n",
       " User('0000928200592230@test.eduid.ch', 'NZ', 'S')]"
      ]
     },
     "execution_count": 30,
     "metadata": {},
     "output_type": "execute_result"
    }
   ],
   "source": [
    "users_sorted"
   ]
  },
  {
   "cell_type": "code",
   "execution_count": 31,
   "id": "4cb99e48",
   "metadata": {},
   "outputs": [],
   "source": [
    "for u in users_sorted:\n",
    "    users_dict.move_to_end(u.primary_id)"
   ]
  },
  {
   "cell_type": "code",
   "execution_count": 32,
   "id": "06667ff5",
   "metadata": {},
   "outputs": [
    {
     "data": {
      "text/plain": [
       "OrderedDict([('0000200306147807@test.eduid.ch', '1988-04-01Z'),\n",
       "             ('0000517661535517@test.eduid.ch', '1970-12-15Z'),\n",
       "             ('264560031989@test.eduid.ch', '1969-03-05Z'),\n",
       "             ('0000928200592230@test.eduid.ch', '1904-01-01Z')])"
      ]
     },
     "execution_count": 32,
     "metadata": {},
     "output_type": "execute_result"
    }
   ],
   "source": [
    "users_dict"
   ]
  },
  {
   "cell_type": "code",
   "execution_count": null,
   "id": "e140d3e7",
   "metadata": {},
   "outputs": [],
   "source": []
  }
 ],
 "metadata": {
  "kernelspec": {
   "display_name": "Python 3 (ipykernel)",
   "language": "python",
   "name": "python3"
  },
  "language_info": {
   "codemirror_mode": {
    "name": "ipython",
    "version": 3
   },
   "file_extension": ".py",
   "mimetype": "text/x-python",
   "name": "python",
   "nbconvert_exporter": "python",
   "pygments_lexer": "ipython3",
   "version": "3.9.7"
  }
 },
 "nbformat": 4,
 "nbformat_minor": 5
}
