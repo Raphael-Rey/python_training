{
 "cells": [
  {
   "cell_type": "markdown",
   "id": "7e040e59",
   "metadata": {},
   "source": [
    "# Sorting in python\n",
    "\n",
    "Ordering tasks are very common, for example:\n",
    "* Lists\n",
    "* Pandas Dataframes\n",
    "* Ordered dictionnaries"
   ]
  },
  {
   "cell_type": "markdown",
   "id": "45394cfe",
   "metadata": {},
   "source": [
    "## Lists\n",
    "In python we have one method `sort` of lists and one function `sorted`."
   ]
  },
  {
   "cell_type": "code",
   "execution_count": 2,
   "id": "aef82623",
   "metadata": {},
   "outputs": [
    {
     "name": "stdout",
     "output_type": "stream",
     "text": [
      "test_list:  [2, 1, 5, 3, 3]\n",
      "sorted_list:  [1, 2, 3, 3, 5]\n"
     ]
    }
   ],
   "source": [
    "# Using sorted\n",
    "test_list = [2, 1, 5, 3, 3]\n",
    "sorted_list = sorted(test_list)\n",
    "print('test_list: ', test_list)\n",
    "print('sorted_list: ', sorted_list)"
   ]
  },
  {
   "cell_type": "code",
   "execution_count": 3,
   "id": "0adbb1b3",
   "metadata": {},
   "outputs": [
    {
     "name": "stdout",
     "output_type": "stream",
     "text": [
      "test_list:  [1, 2, 3, 3, 5]\n",
      "sorted_list:  None\n"
     ]
    }
   ],
   "source": [
    "# Using sort\n",
    "test_list = [2, 1, 5, 3, 3]\n",
    "sorted_list = test_list.sort()\n",
    "print('test_list: ', test_list)\n",
    "print('sorted_list: ', sorted_list)"
   ]
  },
  {
   "cell_type": "code",
   "execution_count": 4,
   "id": "512aebcc",
   "metadata": {},
   "outputs": [
    {
     "name": "stdout",
     "output_type": "stream",
     "text": [
      "test_list:  [2, 1, 5, 3, 3]\n",
      "sorted_list:  [5, 3, 3, 2, 1]\n"
     ]
    }
   ],
   "source": [
    "# Reverse sorting\n",
    "test_list = [2, 1, 5, 3, 3]\n",
    "sorted_list = sorted(test_list, reverse=True)\n",
    "print('test_list: ', test_list)\n",
    "print('sorted_list: ', sorted_list)"
   ]
  },
  {
   "cell_type": "code",
   "execution_count": 18,
   "id": "f6fc46ac",
   "metadata": {},
   "outputs": [
    {
     "name": "stdout",
     "output_type": "stream",
     "text": [
      "sorted_list:  ['hand', 'friend', 'tree', 'apple', 'dog', 'flag', 'bees']\n"
     ]
    }
   ],
   "source": [
    "# Using key\n",
    "\n",
    "# Sort according to the last letter\n",
    "test_list = ['tree', 'dog', 'flag', 'hand', 'friend', 'apple', 'bees']\n",
    "sorted_list = sorted(test_list, key=lambda x:x[-1])\n",
    "print('sorted_list: ', sorted_list)"
   ]
  },
  {
   "cell_type": "code",
   "execution_count": 19,
   "id": "ed809473",
   "metadata": {},
   "outputs": [
    {
     "name": "stdout",
     "output_type": "stream",
     "text": [
      "Reverse word:  drow\n",
      "sorted_list:  ['hand', 'friend', 'tree', 'apple', 'flag', 'dog', 'bees']\n"
     ]
    }
   ],
   "source": [
    "# Sort according to the last letters first\n",
    "test_list = ['tree', 'dog', 'flag', 'hand', 'friend', 'apple', 'bees']\n",
    "sorted_list = sorted(test_list, key=lambda x:x[::-1])\n",
    "print('Reverse word: ', 'word'[::-1])\n",
    "print('sorted_list: ', sorted_list)"
   ]
  },
  {
   "cell_type": "code",
   "execution_count": 20,
   "id": "74e97c5b",
   "metadata": {},
   "outputs": [
    {
     "name": "stdout",
     "output_type": "stream",
     "text": [
      "sorted_list:  [{'name': 'Dominik'}, {'name': 'Eke'}, {'name': 'Raphaël'}]\n"
     ]
    }
   ],
   "source": [
    "# Sort objects\n",
    "test_list = [{'name': 'Raphaël'},\n",
    "             {'name': 'Eke'},\n",
    "             {'name': 'Dominik'}]\n",
    "\n",
    "sorted_list = sorted(test_list, key=lambda x:x['name'])\n",
    "print('sorted_list: ', sorted_list)\n"
   ]
  },
  {
   "cell_type": "markdown",
   "id": "b1c9fceb",
   "metadata": {},
   "source": [
    "## Pandas Dataframes"
   ]
  },
  {
   "cell_type": "code",
   "execution_count": 25,
   "id": "8f19eba0",
   "metadata": {},
   "outputs": [],
   "source": [
    "import pandas as pd"
   ]
  },
  {
   "cell_type": "code",
   "execution_count": 26,
   "id": "8f115630",
   "metadata": {},
   "outputs": [
    {
     "data": {
      "text/html": [
       "<div>\n",
       "<style scoped>\n",
       "    .dataframe tbody tr th:only-of-type {\n",
       "        vertical-align: middle;\n",
       "    }\n",
       "\n",
       "    .dataframe tbody tr th {\n",
       "        vertical-align: top;\n",
       "    }\n",
       "\n",
       "    .dataframe thead th {\n",
       "        text-align: right;\n",
       "    }\n",
       "</style>\n",
       "<table border=\"1\" class=\"dataframe\">\n",
       "  <thead>\n",
       "    <tr style=\"text-align: right;\">\n",
       "      <th></th>\n",
       "      <th>IZ</th>\n",
       "      <th>Library Code Alma</th>\n",
       "      <th>Library Name Alma</th>\n",
       "      <th>circ_desk</th>\n",
       "    </tr>\n",
       "  </thead>\n",
       "  <tbody>\n",
       "    <tr>\n",
       "      <th>0</th>\n",
       "      <td>BCUFR</td>\n",
       "      <td>BCUF_BCU</td>\n",
       "      <td>FR BCU Beauregard</td>\n",
       "      <td>DEFAULT_CIRC_DESK</td>\n",
       "    </tr>\n",
       "    <tr>\n",
       "      <th>1</th>\n",
       "      <td>BCUFR</td>\n",
       "      <td>BCUF_COF</td>\n",
       "      <td>FR COF Conservatoire</td>\n",
       "      <td>COF_CIRC</td>\n",
       "    </tr>\n",
       "    <tr>\n",
       "      <th>2</th>\n",
       "      <td>BCUFR</td>\n",
       "      <td>BCUF_BFD</td>\n",
       "      <td>FR UNI BFD</td>\n",
       "      <td>BFD_CIRC</td>\n",
       "    </tr>\n",
       "    <tr>\n",
       "      <th>3</th>\n",
       "      <td>BCUFR</td>\n",
       "      <td>BCUF_BHAP</td>\n",
       "      <td>FR UNI BHAP</td>\n",
       "      <td>BHAP_CIRC</td>\n",
       "    </tr>\n",
       "    <tr>\n",
       "      <th>4</th>\n",
       "      <td>BCUFR</td>\n",
       "      <td>BCUF_BHT</td>\n",
       "      <td>FR UNI BHT</td>\n",
       "      <td>BHT_CIRC</td>\n",
       "    </tr>\n",
       "    <tr>\n",
       "      <th>...</th>\n",
       "      <td>...</td>\n",
       "      <td>...</td>\n",
       "      <td>...</td>\n",
       "      <td>...</td>\n",
       "    </tr>\n",
       "    <tr>\n",
       "      <th>164</th>\n",
       "      <td>ZHAW</td>\n",
       "      <td>E51</td>\n",
       "      <td>ZHAW HSB Winterthur</td>\n",
       "      <td>DEFAULT_CIRC_DESK</td>\n",
       "    </tr>\n",
       "    <tr>\n",
       "      <th>165</th>\n",
       "      <td>ZHAW</td>\n",
       "      <td>E97</td>\n",
       "      <td>ZHAW HSB Zürich</td>\n",
       "      <td>DEFAULT_CIRC_DESK</td>\n",
       "    </tr>\n",
       "    <tr>\n",
       "      <th>166</th>\n",
       "      <td>ZHDK</td>\n",
       "      <td>E65</td>\n",
       "      <td>ZHDK-MIZ (Zürich)</td>\n",
       "      <td>DEFAULT_CIRC_DESK</td>\n",
       "    </tr>\n",
       "    <tr>\n",
       "      <th>167</th>\n",
       "      <td>ZPH</td>\n",
       "      <td>UHFH</td>\n",
       "      <td>HFH (Zürich)</td>\n",
       "      <td>DEFAULT_CIRC_DESK</td>\n",
       "    </tr>\n",
       "    <tr>\n",
       "      <th>168</th>\n",
       "      <td>ABN</td>\n",
       "      <td>AKB</td>\n",
       "      <td>AKB</td>\n",
       "      <td>DEFAULT_CIRC_DESK</td>\n",
       "    </tr>\n",
       "  </tbody>\n",
       "</table>\n",
       "<p>169 rows × 4 columns</p>\n",
       "</div>"
      ],
      "text/plain": [
       "        IZ Library Code Alma     Library Name Alma          circ_desk\n",
       "0    BCUFR          BCUF_BCU     FR BCU Beauregard  DEFAULT_CIRC_DESK\n",
       "1    BCUFR          BCUF_COF  FR COF Conservatoire           COF_CIRC\n",
       "2    BCUFR          BCUF_BFD            FR UNI BFD           BFD_CIRC\n",
       "3    BCUFR         BCUF_BHAP           FR UNI BHAP          BHAP_CIRC\n",
       "4    BCUFR          BCUF_BHT            FR UNI BHT           BHT_CIRC\n",
       "..     ...               ...                   ...                ...\n",
       "164   ZHAW               E51   ZHAW HSB Winterthur  DEFAULT_CIRC_DESK\n",
       "165   ZHAW               E97       ZHAW HSB Zürich  DEFAULT_CIRC_DESK\n",
       "166   ZHDK               E65     ZHDK-MIZ (Zürich)  DEFAULT_CIRC_DESK\n",
       "167    ZPH              UHFH          HFH (Zürich)  DEFAULT_CIRC_DESK\n",
       "168    ABN               AKB                   AKB  DEFAULT_CIRC_DESK\n",
       "\n",
       "[169 rows x 4 columns]"
      ]
     },
     "execution_count": 26,
     "metadata": {},
     "output_type": "execute_result"
    }
   ],
   "source": [
    "df = pd.read_excel('sample_data.xlsx')\n",
    "df"
   ]
  },
  {
   "cell_type": "code",
   "execution_count": 27,
   "id": "a4c7b393",
   "metadata": {},
   "outputs": [
    {
     "data": {
      "text/html": [
       "<div>\n",
       "<style scoped>\n",
       "    .dataframe tbody tr th:only-of-type {\n",
       "        vertical-align: middle;\n",
       "    }\n",
       "\n",
       "    .dataframe tbody tr th {\n",
       "        vertical-align: top;\n",
       "    }\n",
       "\n",
       "    .dataframe thead th {\n",
       "        text-align: right;\n",
       "    }\n",
       "</style>\n",
       "<table border=\"1\" class=\"dataframe\">\n",
       "  <thead>\n",
       "    <tr style=\"text-align: right;\">\n",
       "      <th></th>\n",
       "      <th>IZ</th>\n",
       "      <th>Library Code Alma</th>\n",
       "      <th>Library Name Alma</th>\n",
       "      <th>circ_desk</th>\n",
       "    </tr>\n",
       "  </thead>\n",
       "  <tbody>\n",
       "    <tr>\n",
       "      <th>127</th>\n",
       "      <td>UBS</td>\n",
       "      <td>A100</td>\n",
       "      <td>Basel - UB Hauptbibliothek</td>\n",
       "      <td>DEFAULT_CIRC_DESK</td>\n",
       "    </tr>\n",
       "    <tr>\n",
       "      <th>131</th>\n",
       "      <td>UBS</td>\n",
       "      <td>A125</td>\n",
       "      <td>Basel - UB Wirtschaft - SWA</td>\n",
       "      <td>DEFAULT_CIRC_DESK</td>\n",
       "    </tr>\n",
       "    <tr>\n",
       "      <th>132</th>\n",
       "      <td>UBS</td>\n",
       "      <td>A130</td>\n",
       "      <td>Basel - Uni Altertumswissenschaften</td>\n",
       "      <td>DEFAULT_CIRC_DESK</td>\n",
       "    </tr>\n",
       "    <tr>\n",
       "      <th>128</th>\n",
       "      <td>UBS</td>\n",
       "      <td>A140</td>\n",
       "      <td>Basel - UB Medizin</td>\n",
       "      <td>DEFAULT_CIRC_DESK</td>\n",
       "    </tr>\n",
       "    <tr>\n",
       "      <th>129</th>\n",
       "      <td>UBS</td>\n",
       "      <td>A170</td>\n",
       "      <td>Basel - UB Religion</td>\n",
       "      <td>DEFAULT_CIRC_DESK</td>\n",
       "    </tr>\n",
       "    <tr>\n",
       "      <th>...</th>\n",
       "      <td>...</td>\n",
       "      <td>...</td>\n",
       "      <td>...</td>\n",
       "      <td>...</td>\n",
       "    </tr>\n",
       "    <tr>\n",
       "      <th>157</th>\n",
       "      <td>VGE</td>\n",
       "      <td>vge_bge</td>\n",
       "      <td>Bibliothèque de Genève</td>\n",
       "      <td>DEFAULT_CIRC_DESK</td>\n",
       "    </tr>\n",
       "    <tr>\n",
       "      <th>159</th>\n",
       "      <td>VGE</td>\n",
       "      <td>vge_bmu</td>\n",
       "      <td>La Musicale de la Bibliothèque de Genève</td>\n",
       "      <td>DEFAULT_CIRC_DESK</td>\n",
       "    </tr>\n",
       "    <tr>\n",
       "      <th>158</th>\n",
       "      <td>VGE</td>\n",
       "      <td>vge_cjb</td>\n",
       "      <td>Conservatoire et Jardin botaniques de la Ville...</td>\n",
       "      <td>DEFAULT_CIRC_DESK</td>\n",
       "    </tr>\n",
       "    <tr>\n",
       "      <th>160</th>\n",
       "      <td>VGE</td>\n",
       "      <td>vge_meg</td>\n",
       "      <td>Musée d'ethnographie</td>\n",
       "      <td>DEFAULT_CIRC_DESK</td>\n",
       "    </tr>\n",
       "    <tr>\n",
       "      <th>161</th>\n",
       "      <td>VGE</td>\n",
       "      <td>vge_mhn</td>\n",
       "      <td>Muséum d'histoire naturelle</td>\n",
       "      <td>DEFAULT_CIRC_DESK</td>\n",
       "    </tr>\n",
       "  </tbody>\n",
       "</table>\n",
       "<p>169 rows × 4 columns</p>\n",
       "</div>"
      ],
      "text/plain": [
       "      IZ Library Code Alma                                  Library Name Alma   \n",
       "127  UBS              A100                         Basel - UB Hauptbibliothek  \\\n",
       "131  UBS              A125                        Basel - UB Wirtschaft - SWA   \n",
       "132  UBS              A130                Basel - Uni Altertumswissenschaften   \n",
       "128  UBS              A140                                 Basel - UB Medizin   \n",
       "129  UBS              A170                                Basel - UB Religion   \n",
       "..   ...               ...                                                ...   \n",
       "157  VGE           vge_bge                             Bibliothèque de Genève   \n",
       "159  VGE           vge_bmu           La Musicale de la Bibliothèque de Genève   \n",
       "158  VGE           vge_cjb  Conservatoire et Jardin botaniques de la Ville...   \n",
       "160  VGE           vge_meg                               Musée d'ethnographie   \n",
       "161  VGE           vge_mhn                        Muséum d'histoire naturelle   \n",
       "\n",
       "             circ_desk  \n",
       "127  DEFAULT_CIRC_DESK  \n",
       "131  DEFAULT_CIRC_DESK  \n",
       "132  DEFAULT_CIRC_DESK  \n",
       "128  DEFAULT_CIRC_DESK  \n",
       "129  DEFAULT_CIRC_DESK  \n",
       "..                 ...  \n",
       "157  DEFAULT_CIRC_DESK  \n",
       "159  DEFAULT_CIRC_DESK  \n",
       "158  DEFAULT_CIRC_DESK  \n",
       "160  DEFAULT_CIRC_DESK  \n",
       "161  DEFAULT_CIRC_DESK  \n",
       "\n",
       "[169 rows x 4 columns]"
      ]
     },
     "execution_count": 27,
     "metadata": {},
     "output_type": "execute_result"
    }
   ],
   "source": [
    "df_sorted = df.sort_values(by='Library Code Alma')\n",
    "df_sorted"
   ]
  },
  {
   "cell_type": "code",
   "execution_count": 28,
   "id": "532296f2",
   "metadata": {},
   "outputs": [],
   "source": [
    "df_sorted.to_excel('sample_data.xlsx', index=False)"
   ]
  },
  {
   "cell_type": "markdown",
   "id": "b57ae8f2",
   "metadata": {},
   "source": [
    "## Ordered dict\n",
    "In normal dict the keys are not ordered. They are like a set. `OrderedDict` are very similar to dicts but with order of the keys. "
   ]
  },
  {
   "cell_type": "code",
   "execution_count": 50,
   "id": "bd241519",
   "metadata": {},
   "outputs": [
    {
     "data": {
      "text/plain": [
       "OrderedDict([('one', 1), ('two', 2), ('three', 3), ('four', 4)])"
      ]
     },
     "execution_count": 50,
     "metadata": {},
     "output_type": "execute_result"
    }
   ],
   "source": [
    "from collections import OrderedDict\n",
    "d = OrderedDict({\"one\": 1, \"two\": 2, \"three\": 3, 'four': 4})\n",
    "d"
   ]
  },
  {
   "cell_type": "code",
   "execution_count": 51,
   "id": "94adadb2",
   "metadata": {},
   "outputs": [
    {
     "data": {
      "text/plain": [
       "OrderedDict([('one', 1), ('two', 2), ('three', 3), ('four', 4), ('five', 5)])"
      ]
     },
     "execution_count": 51,
     "metadata": {},
     "output_type": "execute_result"
    }
   ],
   "source": [
    "d['five'] = 5\n",
    "d"
   ]
  },
  {
   "cell_type": "code",
   "execution_count": 52,
   "id": "5cd9ff46",
   "metadata": {},
   "outputs": [
    {
     "data": {
      "text/plain": [
       "['five', 'four', 'one', 'three', 'two']"
      ]
     },
     "execution_count": 52,
     "metadata": {},
     "output_type": "execute_result"
    }
   ],
   "source": [
    "sorted(d)"
   ]
  },
  {
   "cell_type": "code",
   "execution_count": 53,
   "id": "0d9b31d7",
   "metadata": {},
   "outputs": [
    {
     "data": {
      "text/plain": [
       "OrderedDict([('five', 5), ('four', 4), ('one', 1), ('three', 3), ('two', 2)])"
      ]
     },
     "execution_count": 53,
     "metadata": {},
     "output_type": "execute_result"
    }
   ],
   "source": [
    "for key in sorted(d):\n",
    "    d.move_to_end(key)\n",
    "    \n",
    "d"
   ]
  },
  {
   "cell_type": "code",
   "execution_count": null,
   "id": "e083ecf5",
   "metadata": {},
   "outputs": [],
   "source": []
  }
 ],
 "metadata": {
  "kernelspec": {
   "display_name": "Python 3 (ipykernel)",
   "language": "python",
   "name": "python3"
  },
  "language_info": {
   "codemirror_mode": {
    "name": "ipython",
    "version": 3
   },
   "file_extension": ".py",
   "mimetype": "text/x-python",
   "name": "python",
   "nbconvert_exporter": "python",
   "pygments_lexer": "ipython3",
   "version": "3.9.7"
  }
 },
 "nbformat": 4,
 "nbformat_minor": 5
}
