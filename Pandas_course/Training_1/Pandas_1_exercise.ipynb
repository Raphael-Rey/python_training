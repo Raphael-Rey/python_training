{
 "cells": [
  {
   "cell_type": "markdown",
   "id": "21487899",
   "metadata": {},
   "source": [
    "# Pandas 1 - exercises"
   ]
  },
  {
   "cell_type": "code",
   "execution_count": 1,
   "id": "efe8ae49",
   "metadata": {},
   "outputs": [],
   "source": [
    "# Exercise 1: import required libraries"
   ]
  },
  {
   "cell_type": "code",
   "execution_count": null,
   "id": "e8d3ef14",
   "metadata": {},
   "outputs": [],
   "source": [
    "# Exercise 2: select column Barcode, MMS ID and Title"
   ]
  },
  {
   "cell_type": "code",
   "execution_count": null,
   "id": "4312bcf8",
   "metadata": {},
   "outputs": [],
   "source": [
    "# Exercise 3: select only the first 100 rows"
   ]
  },
  {
   "cell_type": "code",
   "execution_count": null,
   "id": "0e6f589d",
   "metadata": {},
   "outputs": [],
   "source": [
    "# Exercise 4: create a new column to indicate if MMS ID is duplicated (option: first is kept)"
   ]
  },
  {
   "cell_type": "code",
   "execution_count": null,
   "id": "364617dd",
   "metadata": {},
   "outputs": [],
   "source": [
    "# Exercise 5: Suppress duplicates"
   ]
  },
  {
   "cell_type": "code",
   "execution_count": null,
   "id": "7c8c48a5",
   "metadata": {},
   "outputs": [],
   "source": [
    "# Exercise 6: Add quotes to the title '\"' The title => \"The title\""
   ]
  }
 ],
 "metadata": {
  "kernelspec": {
   "display_name": "Python 3 (ipykernel)",
   "language": "python",
   "name": "python3"
  },
  "language_info": {
   "codemirror_mode": {
    "name": "ipython",
    "version": 3
   },
   "file_extension": ".py",
   "mimetype": "text/x-python",
   "name": "python",
   "nbconvert_exporter": "python",
   "pygments_lexer": "ipython3",
   "version": "3.9.7"
  }
 },
 "nbformat": 4,
 "nbformat_minor": 5
}
