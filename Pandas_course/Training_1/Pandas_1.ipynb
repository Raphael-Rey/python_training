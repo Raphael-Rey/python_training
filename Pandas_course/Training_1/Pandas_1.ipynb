{
 "cells": [
  {
   "cell_type": "markdown",
   "id": "5b97f969",
   "metadata": {},
   "source": [
    "# Pandas lesson 1"
   ]
  },
  {
   "cell_type": "code",
   "execution_count": 1,
   "id": "d74274bf",
   "metadata": {},
   "outputs": [],
   "source": [
    "import pandas as pd\n",
    "import numpy as np"
   ]
  },
  {
   "cell_type": "code",
   "execution_count": 2,
   "id": "23af62dd",
   "metadata": {},
   "outputs": [],
   "source": [
    "# Read data"
   ]
  },
  {
   "cell_type": "code",
   "execution_count": 3,
   "id": "a5b353af",
   "metadata": {},
   "outputs": [],
   "source": [
    "# See list of columns"
   ]
  },
  {
   "cell_type": "code",
   "execution_count": 4,
   "id": "5b9095f6",
   "metadata": {},
   "outputs": [],
   "source": [
    "# Select only two column"
   ]
  },
  {
   "cell_type": "code",
   "execution_count": null,
   "id": "15672433",
   "metadata": {},
   "outputs": [],
   "source": [
    "# Select rows 20 - 30"
   ]
  },
  {
   "cell_type": "code",
   "execution_count": null,
   "id": "a6d37a2f",
   "metadata": {},
   "outputs": [],
   "source": [
    "# Check duplicated (entire df)"
   ]
  },
  {
   "cell_type": "code",
   "execution_count": null,
   "id": "78c5d3ec",
   "metadata": {},
   "outputs": [],
   "source": [
    "# Check duplicated (MMS ID column)"
   ]
  },
  {
   "cell_type": "code",
   "execution_count": null,
   "id": "5dd4a840",
   "metadata": {},
   "outputs": [],
   "source": [
    "# Drop duplicates (keep first)"
   ]
  },
  {
   "cell_type": "code",
   "execution_count": null,
   "id": "d12c2f45",
   "metadata": {},
   "outputs": [],
   "source": [
    "# Drop duplicates (drop all)"
   ]
  },
  {
   "cell_type": "code",
   "execution_count": null,
   "id": "6f5db823",
   "metadata": {},
   "outputs": [],
   "source": [
    "# Drop duplicates (MMS ID column)"
   ]
  },
  {
   "cell_type": "code",
   "execution_count": null,
   "id": "216bfc10",
   "metadata": {},
   "outputs": [],
   "source": [
    "# Add prefix to barcode"
   ]
  }
 ],
 "metadata": {
  "kernelspec": {
   "display_name": "Python 3 (ipykernel)",
   "language": "python",
   "name": "python3"
  },
  "language_info": {
   "codemirror_mode": {
    "name": "ipython",
    "version": 3
   },
   "file_extension": ".py",
   "mimetype": "text/x-python",
   "name": "python",
   "nbconvert_exporter": "python",
   "pygments_lexer": "ipython3",
   "version": "3.9.7"
  }
 },
 "nbformat": 4,
 "nbformat_minor": 5
}
