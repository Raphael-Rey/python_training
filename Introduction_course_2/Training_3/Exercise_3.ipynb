{
 "cells": [
  {
   "cell_type": "markdown",
   "id": "48571371",
   "metadata": {},
   "source": [
    "# Python training: some basics 3 - Exercise"
   ]
  },
  {
   "cell_type": "code",
   "execution_count": null,
   "id": "02d9a5d5",
   "metadata": {},
   "outputs": [],
   "source": [
    "# Import libraries\n",
    "from almapiwrapper.users import User, NewUser, fetch_users, fetch_user_in_all_iz, Fee, check_synchro\n",
    "from almapiwrapper.inventory import IzBib, NzBib, Holding, Item\n",
    "from almapiwrapper.record import JsonData, XmlData\n",
    "from almapiwrapper.config import RecSet, NewRecSet, Job, Reminder, fetch_reminders\n",
    "from almapiwrapper.configlog import config_log\n",
    "from almapiwrapper import ApiKeys\n",
    "\n",
    "# Config logs\n",
    "config_log()"
   ]
  },
  {
   "cell_type": "code",
   "execution_count": null,
   "id": "ab8b294c",
   "metadata": {},
   "outputs": [],
   "source": [
    "# 1.Get the number of barcodes in \"barcodes1.txt\" and \"barcodes2.txt\""
   ]
  },
  {
   "cell_type": "code",
   "execution_count": null,
   "id": "2dbc73c1",
   "metadata": {},
   "outputs": [],
   "source": [
    "# 2. In which file is \"DSVN1133713\" barcode, \"barcode1.txt\" or \"barcode2.txt\" ?"
   ]
  },
  {
   "cell_type": "code",
   "execution_count": null,
   "id": "8ba55b70",
   "metadata": {},
   "outputs": [],
   "source": [
    "# 3. From file \"barcode1.txt\" delete all barcodes starting by \"DSVN\" and save the new list in a \"barcode3.txt\""
   ]
  },
  {
   "cell_type": "code",
   "execution_count": null,
   "id": "8ec52641",
   "metadata": {},
   "outputs": [],
   "source": [
    "# 4. Add the prefix \"OLD-\" to all barcodes of the list of barcodes3.txt and save in \"barcode4.txt\""
   ]
  },
  {
   "cell_type": "code",
   "execution_count": null,
   "id": "7ca0b443",
   "metadata": {},
   "outputs": [],
   "source": [
    "# 5. Delete \"barcode3.txt\""
   ]
  },
  {
   "cell_type": "code",
   "execution_count": null,
   "id": "af169286",
   "metadata": {},
   "outputs": [],
   "source": [
    "# 6a. Get user data in Sandbox\n",
    "primary_id = \"raphael.rey@slsp.ch\"\n",
    "u = User(primary_id, 'UBS', 'S')\n",
    "print(u)"
   ]
  },
  {
   "cell_type": "code",
   "execution_count": null,
   "id": "e730f329",
   "metadata": {},
   "outputs": [],
   "source": [
    "# 6b. Get your user group"
   ]
  },
  {
   "cell_type": "code",
   "execution_count": null,
   "id": "ba148759",
   "metadata": {},
   "outputs": [],
   "source": [
    "# 6c. Get your first email\n"
   ]
  },
  {
   "cell_type": "code",
   "execution_count": null,
   "id": "1731014e",
   "metadata": {},
   "outputs": [],
   "source": [
    "# 6d. Change your cataloger level to \"20\" use then `u.update()` to update your account. Check the result in Alma.\n"
   ]
  },
  {
   "cell_type": "code",
   "execution_count": null,
   "id": "68b60664",
   "metadata": {},
   "outputs": [],
   "source": []
  }
 ],
 "metadata": {
  "kernelspec": {
   "display_name": "Python 3 (ipykernel)",
   "language": "python",
   "name": "python3"
  },
  "language_info": {
   "codemirror_mode": {
    "name": "ipython",
    "version": 3
   },
   "file_extension": ".py",
   "mimetype": "text/x-python",
   "name": "python",
   "nbconvert_exporter": "python",
   "pygments_lexer": "ipython3",
   "version": "3.9.7"
  }
 },
 "nbformat": 4,
 "nbformat_minor": 5
}
