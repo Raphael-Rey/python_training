{
 "cells": [
  {
   "cell_type": "markdown",
   "id": "2113c3c0",
   "metadata": {},
   "source": [
    "# Python training: some basics 1 - Exercise"
   ]
  },
  {
   "cell_type": "markdown",
   "id": "1ce94b06",
   "metadata": {},
   "source": [
    "## String"
   ]
  },
  {
   "cell_type": "code",
   "execution_count": null,
   "id": "69dfd9e3",
   "metadata": {},
   "outputs": [],
   "source": [
    "# Get the first two chars\n",
    "v1 = 'AABBCCDD'"
   ]
  },
  {
   "cell_type": "code",
   "execution_count": null,
   "id": "e186d010",
   "metadata": {},
   "outputs": [],
   "source": [
    "# Revert the string"
   ]
  },
  {
   "cell_type": "code",
   "execution_count": null,
   "id": "7ee363e1",
   "metadata": {},
   "outputs": [],
   "source": [
    "# Get the last three chars"
   ]
  },
  {
   "cell_type": "code",
   "execution_count": null,
   "id": "800c0e10",
   "metadata": {},
   "outputs": [],
   "source": [
    "# With `find` and slicing, extract the part between '(' and ')'\n",
    "v2 = '12345(6789)0'"
   ]
  },
  {
   "cell_type": "markdown",
   "id": "6b844553",
   "metadata": {},
   "source": [
    "## if sentence"
   ]
  },
  {
   "cell_type": "code",
   "execution_count": null,
   "id": "15e28697",
   "metadata": {},
   "outputs": [],
   "source": [
    "# Check if 'python' is in the sentence\n",
    "v3 = 'I love coding python'"
   ]
  },
  {
   "cell_type": "markdown",
   "id": "edfc2c09",
   "metadata": {},
   "source": [
    "## for sentence"
   ]
  },
  {
   "cell_type": "code",
   "execution_count": null,
   "id": "fbef41e1",
   "metadata": {},
   "outputs": [],
   "source": [
    "# Print only even numbers\n",
    "v4 = '123456789'"
   ]
  },
  {
   "cell_type": "code",
   "execution_count": null,
   "id": "c3236628",
   "metadata": {},
   "outputs": [],
   "source": [
    "# Print only odd numbers of v4"
   ]
  },
  {
   "cell_type": "code",
   "execution_count": null,
   "id": "dbd6c153",
   "metadata": {},
   "outputs": [],
   "source": [
    "# Print only odd numbers of any string with numbers"
   ]
  }
 ],
 "metadata": {
  "kernelspec": {
   "display_name": "Python 3 (ipykernel)",
   "language": "python",
   "name": "python3"
  },
  "language_info": {
   "codemirror_mode": {
    "name": "ipython",
    "version": 3
   },
   "file_extension": ".py",
   "mimetype": "text/x-python",
   "name": "python",
   "nbconvert_exporter": "python",
   "pygments_lexer": "ipython3",
   "version": "3.9.7"
  }
 },
 "nbformat": 4,
 "nbformat_minor": 5
}
