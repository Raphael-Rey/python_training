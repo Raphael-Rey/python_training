{
 "cells": [
  {
   "cell_type": "markdown",
   "id": "32413c5c",
   "metadata": {},
   "source": [
    "# Python training: some basics 1"
   ]
  },
  {
   "cell_type": "markdown",
   "id": "b9055f98",
   "metadata": {},
   "source": [
    "## Strings"
   ]
  },
  {
   "cell_type": "code",
   "execution_count": 4,
   "id": "2f22ac8f",
   "metadata": {},
   "outputs": [
    {
     "name": "stdout",
     "output_type": "stream",
     "text": [
      "12345\n"
     ]
    }
   ],
   "source": [
    "# Get 5 first chars\n",
    "v1 = '123456789'\n",
    "print(v1[:5])"
   ]
  },
  {
   "cell_type": "code",
   "execution_count": 5,
   "id": "ae8561aa",
   "metadata": {},
   "outputs": [
    {
     "name": "stdout",
     "output_type": "stream",
     "text": [
      "56789\n"
     ]
    }
   ],
   "source": [
    "# Get 5 last chars\n",
    "print(v1[-5:])"
   ]
  },
  {
   "cell_type": "code",
   "execution_count": 7,
   "id": "b931d98b",
   "metadata": {},
   "outputs": [
    {
     "name": "stdout",
     "output_type": "stream",
     "text": [
      "I love coding in python\n"
     ]
    }
   ],
   "source": [
    "# Reverse string\n",
    "v2 = 'nohtyp ni gnidoc evol I'\n",
    "print(v2[::-1])"
   ]
  },
  {
   "cell_type": "code",
   "execution_count": 8,
   "id": "604b3a2c",
   "metadata": {},
   "outputs": [
    {
     "name": "stdout",
     "output_type": "stream",
     "text": [
      "13579\n"
     ]
    }
   ],
   "source": [
    "# One out of two\n",
    "print(v1[::2])"
   ]
  },
  {
   "cell_type": "code",
   "execution_count": 9,
   "id": "86d27884",
   "metadata": {},
   "outputs": [],
   "source": [
    "# Find\n",
    "v3 = 'ABCDEFGHIJKLMNOPQRSTUVWXYZabcdefghijklmnopqrstuvwxyzABCDEFGHIJKLMNOPQRSTUVWXYZ'"
   ]
  },
  {
   "cell_type": "code",
   "execution_count": 13,
   "id": "51444df6",
   "metadata": {},
   "outputs": [
    {
     "data": {
      "text/plain": [
       "23"
      ]
     },
     "execution_count": 13,
     "metadata": {},
     "output_type": "execute_result"
    }
   ],
   "source": [
    "v3.find('XYZ')"
   ]
  },
  {
   "cell_type": "code",
   "execution_count": 16,
   "id": "c2dd98cd",
   "metadata": {},
   "outputs": [
    {
     "name": "stdout",
     "output_type": "stream",
     "text": [
      "ABCDEFGHIJKLMNOPQRSTUVWXYZ\n"
     ]
    }
   ],
   "source": [
    "# Get start of v3 until first \"Z\"\n",
    "print(v3[:v3.find('Z') + 1])"
   ]
  },
  {
   "cell_type": "code",
   "execution_count": 18,
   "id": "261135b9",
   "metadata": {},
   "outputs": [
    {
     "data": {
      "text/plain": [
       "'abcdefghijklmnopqrstuvwxyzABCDEFGHIJKLMNOPQRSTUVWXYZ'"
      ]
     },
     "execution_count": 18,
     "metadata": {},
     "output_type": "execute_result"
    }
   ],
   "source": [
    "# Get end of v3 since \"a\"\n",
    "v3[v3.find('a'):]"
   ]
  },
  {
   "cell_type": "code",
   "execution_count": 22,
   "id": "76d730ec",
   "metadata": {},
   "outputs": [
    {
     "name": "stdout",
     "output_type": "stream",
     "text": [
      "abcdefghijklmnopqrstuvwxyz\n"
     ]
    }
   ],
   "source": [
    "# Get only the middle part (\"a\"-\"z\")\n",
    "\n",
    "start = v3.find('a')\n",
    "\n",
    "end = v3.find('z') + 1\n",
    "\n",
    "print(v3[start:end])"
   ]
  },
  {
   "cell_type": "markdown",
   "id": "364b8f5b",
   "metadata": {},
   "source": [
    "## if sentence"
   ]
  },
  {
   "cell_type": "code",
   "execution_count": 24,
   "id": "b6c44c80",
   "metadata": {},
   "outputs": [],
   "source": [
    "# Check if variable is \"ABCD\"\n",
    "v4 = 'ABCD'\n",
    "v5 = 'BCD'\n",
    "\n",
    "if v5 == 'ABCD':\n",
    "    print('ok')"
   ]
  },
  {
   "cell_type": "code",
   "execution_count": 26,
   "id": "330f5a30",
   "metadata": {},
   "outputs": [],
   "source": [
    "# Check if \"A\" is in a variable\n",
    "if 'A' in v5:\n",
    "    print('ok')"
   ]
  },
  {
   "cell_type": "code",
   "execution_count": 28,
   "id": "5fe11fe0",
   "metadata": {},
   "outputs": [
    {
     "name": "stdout",
     "output_type": "stream",
     "text": [
      "ok\n"
     ]
    }
   ],
   "source": [
    "# Check if var startswith 'AB'\n",
    "if v4.startswith('AB'):\n",
    "    print('ok')"
   ]
  },
  {
   "cell_type": "markdown",
   "id": "ab777c98",
   "metadata": {},
   "source": [
    "## for sentence"
   ]
  },
  {
   "cell_type": "code",
   "execution_count": 30,
   "id": "7e8f1556",
   "metadata": {},
   "outputs": [
    {
     "name": "stdout",
     "output_type": "stream",
     "text": [
      "A\n",
      "B\n",
      "C\n",
      "D\n"
     ]
    }
   ],
   "source": [
    "# Iterate variable\n",
    "for c in v4:\n",
    "    print(c)"
   ]
  },
  {
   "cell_type": "code",
   "execution_count": 31,
   "id": "392f72ea",
   "metadata": {},
   "outputs": [
    {
     "data": {
      "text/plain": [
       "False"
      ]
     },
     "execution_count": 31,
     "metadata": {},
     "output_type": "execute_result"
    }
   ],
   "source": [
    "'abc' == str"
   ]
  },
  {
   "cell_type": "code",
   "execution_count": 32,
   "id": "416ca359",
   "metadata": {},
   "outputs": [
    {
     "name": "stderr",
     "output_type": "stream",
     "text": [
      "<>:1: SyntaxWarning: \"is\" with a literal. Did you mean \"==\"?\n",
      "<>:1: SyntaxWarning: \"is\" with a literal. Did you mean \"==\"?\n",
      "/tmp/ipykernel_1811786/2019980246.py:1: SyntaxWarning: \"is\" with a literal. Did you mean \"==\"?\n",
      "  'abc' is str\n"
     ]
    },
    {
     "data": {
      "text/plain": [
       "False"
      ]
     },
     "execution_count": 32,
     "metadata": {},
     "output_type": "execute_result"
    }
   ],
   "source": [
    " is True"
   ]
  },
  {
   "cell_type": "code",
   "execution_count": 33,
   "id": "79e7690f",
   "metadata": {},
   "outputs": [
    {
     "data": {
      "text/plain": [
       "True"
      ]
     },
     "execution_count": 33,
     "metadata": {},
     "output_type": "execute_result"
    }
   ],
   "source": [
    "type('aaa') is str"
   ]
  },
  {
   "cell_type": "code",
   "execution_count": null,
   "id": "aaf604a3",
   "metadata": {},
   "outputs": [],
   "source": []
  }
 ],
 "metadata": {
  "kernelspec": {
   "display_name": "Python 3 (ipykernel)",
   "language": "python",
   "name": "python3"
  },
  "language_info": {
   "codemirror_mode": {
    "name": "ipython",
    "version": 3
   },
   "file_extension": ".py",
   "mimetype": "text/x-python",
   "name": "python",
   "nbconvert_exporter": "python",
   "pygments_lexer": "ipython3",
   "version": "3.9.7"
  }
 },
 "nbformat": 4,
 "nbformat_minor": 5
}
