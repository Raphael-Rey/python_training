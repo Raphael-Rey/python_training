{
 "cells": [
  {
   "cell_type": "markdown",
   "id": "2113c3c0",
   "metadata": {},
   "source": [
    "# Python training: some basics 1 - Exercise"
   ]
  },
  {
   "cell_type": "markdown",
   "id": "1ce94b06",
   "metadata": {},
   "source": [
    "## String"
   ]
  },
  {
   "cell_type": "code",
   "execution_count": 5,
   "id": "69dfd9e3",
   "metadata": {},
   "outputs": [],
   "source": [
    "# Get the first two chars\n",
    "v1 = 'AABBCCDD'"
   ]
  },
  {
   "cell_type": "code",
   "execution_count": 6,
   "id": "e186d010",
   "metadata": {},
   "outputs": [
    {
     "name": "stdout",
     "output_type": "stream",
     "text": [
      "DDCCBBAA\n"
     ]
    }
   ],
   "source": [
    "# Revert the string\n",
    "print(v1[::-1])"
   ]
  },
  {
   "cell_type": "code",
   "execution_count": 7,
   "id": "7ee363e1",
   "metadata": {},
   "outputs": [
    {
     "name": "stdout",
     "output_type": "stream",
     "text": [
      "CDD\n"
     ]
    }
   ],
   "source": [
    "# Get the last three chars\n",
    "print(v1[-3:])"
   ]
  },
  {
   "cell_type": "code",
   "execution_count": 8,
   "id": "800c0e10",
   "metadata": {},
   "outputs": [],
   "source": [
    "# With `find` and slicing, extract the part between '(' and ')'\n",
    "v2 = '12345(6789)0'"
   ]
  },
  {
   "cell_type": "code",
   "execution_count": 9,
   "id": "7cd1a0e7",
   "metadata": {},
   "outputs": [
    {
     "name": "stdout",
     "output_type": "stream",
     "text": [
      "6789\n"
     ]
    }
   ],
   "source": [
    "start = v2.find('(') + 1\n",
    "end = v2.find(')')\n",
    "print(v2[start:end])"
   ]
  },
  {
   "cell_type": "markdown",
   "id": "6b844553",
   "metadata": {},
   "source": [
    "## if sentence"
   ]
  },
  {
   "cell_type": "code",
   "execution_count": 12,
   "id": "15e28697",
   "metadata": {},
   "outputs": [
    {
     "name": "stdout",
     "output_type": "stream",
     "text": [
      "v3 contains \"python\"\n"
     ]
    }
   ],
   "source": [
    "# Check if 'python' is in the sentence\n",
    "v3 = 'I love coding python'\n",
    "\n",
    "if v3 == 'python':\n",
    "    print('v3 is \"python\"')\n",
    "\n",
    "elif 'python'in v3:\n",
    "    print('v3 contains \"python\"')\n",
    "\n",
    "else:\n",
    "    print('no \"python\" in v3')"
   ]
  },
  {
   "cell_type": "markdown",
   "id": "edfc2c09",
   "metadata": {},
   "source": [
    "## for sentence"
   ]
  },
  {
   "cell_type": "code",
   "execution_count": 3,
   "id": "fbef41e1",
   "metadata": {},
   "outputs": [
    {
     "name": "stdout",
     "output_type": "stream",
     "text": [
      "2468\n"
     ]
    }
   ],
   "source": [
    "# Print only even numbers\n",
    "v4 = '123456789'\n",
    "print(v4[1::2])"
   ]
  },
  {
   "cell_type": "code",
   "execution_count": 4,
   "id": "c3236628",
   "metadata": {},
   "outputs": [
    {
     "name": "stdout",
     "output_type": "stream",
     "text": [
      "13579\n"
     ]
    }
   ],
   "source": [
    "# Print only odd numbers of v4\n",
    "print(v4[::2])"
   ]
  },
  {
   "cell_type": "code",
   "execution_count": 1,
   "id": "dbd6c153",
   "metadata": {},
   "outputs": [
    {
     "name": "stdout",
     "output_type": "stream",
     "text": [
      "3\n",
      "5\n",
      "3\n",
      "5\n",
      "5\n",
      "3\n"
     ]
    }
   ],
   "source": [
    "# Print only odd numbers of any string with numbers\n",
    "v5 = '32543265sdfsgd245sdg36'\n",
    "for c in v5:\n",
    "    if c in '13579':\n",
    "        print(c)"
   ]
  },
  {
   "cell_type": "code",
   "execution_count": null,
   "id": "ac92600d",
   "metadata": {},
   "outputs": [],
   "source": []
  }
 ],
 "metadata": {
  "kernelspec": {
   "display_name": "Python 3 (ipykernel)",
   "language": "python",
   "name": "python3"
  },
  "language_info": {
   "codemirror_mode": {
    "name": "ipython",
    "version": 3
   },
   "file_extension": ".py",
   "mimetype": "text/x-python",
   "name": "python",
   "nbconvert_exporter": "python",
   "pygments_lexer": "ipython3",
   "version": "3.9.7"
  }
 },
 "nbformat": 4,
 "nbformat_minor": 5
}
