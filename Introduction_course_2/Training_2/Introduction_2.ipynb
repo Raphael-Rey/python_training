{
 "cells": [
  {
   "cell_type": "markdown",
   "id": "87fc35dd",
   "metadata": {},
   "source": [
    "# Python training: some basics 2"
   ]
  },
  {
   "cell_type": "code",
   "execution_count": 17,
   "id": "d45affb7",
   "metadata": {},
   "outputs": [],
   "source": [
    "import random"
   ]
  },
  {
   "cell_type": "markdown",
   "id": "de74e03a",
   "metadata": {},
   "source": [
    "## Strings"
   ]
  },
  {
   "cell_type": "code",
   "execution_count": 4,
   "id": "39732b3a",
   "metadata": {},
   "outputs": [],
   "source": [
    "v1 = 'aAbBcC'"
   ]
  },
  {
   "cell_type": "code",
   "execution_count": 5,
   "id": "5e917ff0",
   "metadata": {},
   "outputs": [
    {
     "data": {
      "text/plain": [
       "'aabbcc'"
      ]
     },
     "execution_count": 5,
     "metadata": {},
     "output_type": "execute_result"
    }
   ],
   "source": [
    "# Print in lower case\n",
    "v1.lower()"
   ]
  },
  {
   "cell_type": "code",
   "execution_count": 6,
   "id": "898e96f4",
   "metadata": {},
   "outputs": [
    {
     "data": {
      "text/plain": [
       "'AABBCC'"
      ]
     },
     "execution_count": 6,
     "metadata": {},
     "output_type": "execute_result"
    }
   ],
   "source": [
    "# Print in upper case\n",
    "v1.upper()"
   ]
  },
  {
   "cell_type": "code",
   "execution_count": 7,
   "id": "e0b9840d",
   "metadata": {},
   "outputs": [
    {
     "data": {
      "text/plain": [
       "'0002332224'"
      ]
     },
     "execution_count": 7,
     "metadata": {},
     "output_type": "execute_result"
    }
   ],
   "source": [
    "# Add 0 at the beginning, the length must be 10\n",
    "v2 = '2332224'\n",
    "v2.zfill(10)"
   ]
  },
  {
   "cell_type": "code",
   "execution_count": 13,
   "id": "4b4def65",
   "metadata": {},
   "outputs": [
    {
     "data": {
      "text/plain": [
       "2332224"
      ]
     },
     "execution_count": 13,
     "metadata": {},
     "output_type": "execute_result"
    }
   ],
   "source": [
    "# Transform string to integer\n",
    "int(v2)"
   ]
  },
  {
   "cell_type": "code",
   "execution_count": 14,
   "id": "1536ddff",
   "metadata": {},
   "outputs": [
    {
     "data": {
      "text/plain": [
       "6"
      ]
     },
     "execution_count": 14,
     "metadata": {},
     "output_type": "execute_result"
    }
   ],
   "source": [
    "# Get the length of v1\n",
    "len(v1)"
   ]
  },
  {
   "cell_type": "markdown",
   "id": "8d42752a",
   "metadata": {},
   "source": [
    "## Loops"
   ]
  },
  {
   "cell_type": "code",
   "execution_count": 53,
   "id": "227b61bc",
   "metadata": {},
   "outputs": [
    {
     "name": "stdout",
     "output_type": "stream",
     "text": [
      "10\n",
      "3\n",
      "4\n",
      "9\n",
      "7\n",
      "7\n",
      "4\n",
      "3\n",
      "5\n"
     ]
    }
   ],
   "source": [
    "# while: make randint(1, 10) until you get 5\n",
    "\n",
    "nb = random.randint(1, 10)\n",
    "print(nb)\n",
    "\n",
    "while nb != 5:\n",
    "    nb = random.randint(1, 10)\n",
    "    print(nb)\n"
   ]
  },
  {
   "cell_type": "code",
   "execution_count": 32,
   "id": "3e76a8d0",
   "metadata": {},
   "outputs": [
    {
     "name": "stdout",
     "output_type": "stream",
     "text": [
      "7\n",
      "10\n",
      "4\n",
      "3\n",
      "10\n",
      "7\n",
      "9\n",
      "3\n",
      "5\n"
     ]
    }
   ],
   "source": [
    "# Infinite loop: make randint(1, 1000) until you get 500\n",
    "\n",
    "test = 0\n",
    "\n",
    "while True or test > 10:\n",
    "    test += 1\n",
    "    nb = random.randint(1, 10)\n",
    "    print(nb)\n",
    "    if nb == 5:\n",
    "        break"
   ]
  },
  {
   "cell_type": "code",
   "execution_count": 35,
   "id": "6dd859d1",
   "metadata": {},
   "outputs": [
    {
     "name": "stdout",
     "output_type": "stream",
     "text": [
      "a23bc9dk0\n"
     ]
    }
   ],
   "source": [
    "# Add 1 to each number of the string, 9 becomes 0, alphabetical chars remains\n",
    "v3 = 'a12bc8dk9'\n",
    "v = ''\n",
    "for c in v3:\n",
    "    new_char = c\n",
    "    if new_char in '1234567890':\n",
    "        new_char = str(int(new_char) + 1)[-1]\n",
    "    v += new_char\n",
    "\n",
    "print(v)\n",
    "        "
   ]
  },
  {
   "cell_type": "code",
   "execution_count": 34,
   "id": "37aaea1a",
   "metadata": {},
   "outputs": [
    {
     "data": {
      "text/plain": [
       "'9'"
      ]
     },
     "execution_count": 34,
     "metadata": {},
     "output_type": "execute_result"
    }
   ],
   "source": [
    "'9'[-1]"
   ]
  },
  {
   "cell_type": "markdown",
   "id": "e91f11ef",
   "metadata": {},
   "source": [
    "## Lists"
   ]
  },
  {
   "cell_type": "code",
   "execution_count": 42,
   "id": "cdf7f768",
   "metadata": {},
   "outputs": [
    {
     "data": {
      "text/plain": [
       "['11', '22', '54', '83']"
      ]
     },
     "execution_count": 42,
     "metadata": {},
     "output_type": "execute_result"
    }
   ],
   "source": [
    "# Get a list of numbers with \"split\"\n",
    "v4 = '11-22-54-83'\n",
    "v5 = v4.split('-')\n",
    "v5"
   ]
  },
  {
   "cell_type": "code",
   "execution_count": 43,
   "id": "f0683160",
   "metadata": {},
   "outputs": [
    {
     "data": {
      "text/plain": [
       "4"
      ]
     },
     "execution_count": 43,
     "metadata": {},
     "output_type": "execute_result"
    }
   ],
   "source": [
    "# Get the length of the list\n",
    "len(v5)"
   ]
  },
  {
   "cell_type": "code",
   "execution_count": 45,
   "id": "c222bd9e",
   "metadata": {},
   "outputs": [
    {
     "data": {
      "text/plain": [
       "'22'"
      ]
     },
     "execution_count": 45,
     "metadata": {},
     "output_type": "execute_result"
    }
   ],
   "source": [
    "# Get second element of the list\n",
    "v5[1]"
   ]
  },
  {
   "cell_type": "code",
   "execution_count": 46,
   "id": "6d1f1c19",
   "metadata": {},
   "outputs": [
    {
     "data": {
      "text/plain": [
       "['11', '22', '54', '83', '89']"
      ]
     },
     "execution_count": 46,
     "metadata": {},
     "output_type": "execute_result"
    }
   ],
   "source": [
    "# Add \"89\" to the list\n",
    "v5.append('89')\n",
    "v5"
   ]
  },
  {
   "cell_type": "code",
   "execution_count": 47,
   "id": "f01ddab1",
   "metadata": {},
   "outputs": [
    {
     "data": {
      "text/plain": [
       "'11_22_54_83_89'"
      ]
     },
     "execution_count": 47,
     "metadata": {},
     "output_type": "execute_result"
    }
   ],
   "source": [
    "# Join the list of numbers with \"_\"\n",
    "'_'.join(v5)"
   ]
  },
  {
   "cell_type": "code",
   "execution_count": null,
   "id": "3eb80fe2",
   "metadata": {},
   "outputs": [],
   "source": []
  }
 ],
 "metadata": {
  "kernelspec": {
   "display_name": "Python 3 (ipykernel)",
   "language": "python",
   "name": "python3"
  },
  "language_info": {
   "codemirror_mode": {
    "name": "ipython",
    "version": 3
   },
   "file_extension": ".py",
   "mimetype": "text/x-python",
   "name": "python",
   "nbconvert_exporter": "python",
   "pygments_lexer": "ipython3",
   "version": "3.9.7"
  }
 },
 "nbformat": 4,
 "nbformat_minor": 5
}
