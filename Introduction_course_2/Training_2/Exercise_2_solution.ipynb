{
 "cells": [
  {
   "cell_type": "markdown",
   "id": "3434c116",
   "metadata": {},
   "source": [
    "# Python training: some basics 2 - Exercise solution"
   ]
  },
  {
   "cell_type": "code",
   "execution_count": 1,
   "id": "df77d8d3",
   "metadata": {},
   "outputs": [],
   "source": [
    "# Split this string by \"_\" and the merge it with \"-\"\n",
    "v1 = '1_29_201_32'"
   ]
  },
  {
   "cell_type": "code",
   "execution_count": 2,
   "id": "17a1fcc1",
   "metadata": {},
   "outputs": [],
   "source": [
    "new_v1 = v1.split('_')"
   ]
  },
  {
   "cell_type": "code",
   "execution_count": 3,
   "id": "f935d509",
   "metadata": {},
   "outputs": [
    {
     "data": {
      "text/plain": [
       "'1-29-201-32'"
      ]
     },
     "execution_count": 3,
     "metadata": {},
     "output_type": "execute_result"
    }
   ],
   "source": [
    "'-'.join(new_v1)"
   ]
  },
  {
   "cell_type": "code",
   "execution_count": 4,
   "id": "1b469f7c",
   "metadata": {},
   "outputs": [
    {
     "data": {
      "text/plain": [
       "'1-29-201-32'"
      ]
     },
     "execution_count": 4,
     "metadata": {},
     "output_type": "execute_result"
    }
   ],
   "source": [
    "# Make the same operation with replace\n",
    "v1.replace('_', '-')"
   ]
  },
  {
   "cell_type": "code",
   "execution_count": 5,
   "id": "35e09f15",
   "metadata": {},
   "outputs": [
    {
     "data": {
      "text/plain": [
       "['1', '29', '201', '32']"
      ]
     },
     "execution_count": 5,
     "metadata": {},
     "output_type": "execute_result"
    }
   ],
   "source": [
    "# Add 1 to the third element of the list, print the result as str.\n",
    "list_v = v1.split('_')\n",
    "list_v"
   ]
  },
  {
   "cell_type": "code",
   "execution_count": 6,
   "id": "9be7ccdb",
   "metadata": {},
   "outputs": [
    {
     "data": {
      "text/plain": [
       "'201'"
      ]
     },
     "execution_count": 6,
     "metadata": {},
     "output_type": "execute_result"
    }
   ],
   "source": [
    "third_element = list_v[2]\n",
    "third_element"
   ]
  },
  {
   "cell_type": "code",
   "execution_count": 7,
   "id": "57b809fb",
   "metadata": {},
   "outputs": [
    {
     "data": {
      "text/plain": [
       "202"
      ]
     },
     "execution_count": 7,
     "metadata": {},
     "output_type": "execute_result"
    }
   ],
   "source": [
    "third_element_plus_1 = int(third_element) + 1\n",
    "third_element_plus_1"
   ]
  },
  {
   "cell_type": "code",
   "execution_count": 8,
   "id": "1222893a",
   "metadata": {},
   "outputs": [
    {
     "data": {
      "text/plain": [
       "['1', '29', '202', '32']"
      ]
     },
     "execution_count": 8,
     "metadata": {},
     "output_type": "execute_result"
    }
   ],
   "source": [
    "list_v[2] = str(third_element_plus_1)\n",
    "list_v"
   ]
  },
  {
   "cell_type": "code",
   "execution_count": 9,
   "id": "7dd8843b",
   "metadata": {},
   "outputs": [
    {
     "data": {
      "text/plain": [
       "'1_29_202_32'"
      ]
     },
     "execution_count": 9,
     "metadata": {},
     "output_type": "execute_result"
    }
   ],
   "source": [
    "'_'.join(list_v)"
   ]
  },
  {
   "cell_type": "code",
   "execution_count": 10,
   "id": "0f29f5cc",
   "metadata": {},
   "outputs": [
    {
     "name": "stdout",
     "output_type": "stream",
     "text": [
      "Old:  aFEwPesY  // New:  AfeWpESy\n"
     ]
    }
   ],
   "source": [
    "# Invert lower and upper case of a string \"abCdE\" => \"ABcDe\"\n",
    "v2 = 'aFEwPesY'\n",
    "\n",
    "new_v2 = ''\n",
    "\n",
    "for c in v2:\n",
    "    if c.isupper() is True:\n",
    "        new_v2 += c.lower()\n",
    "    else:\n",
    "        new_v2 += c.upper()\n",
    "print('Old: ', v2, ' // New: ', new_v2) "
   ]
  },
  {
   "cell_type": "code",
   "execution_count": 11,
   "id": "88bff7ca",
   "metadata": {},
   "outputs": [
    {
     "data": {
      "text/plain": [
       "'5535736952'"
      ]
     },
     "execution_count": 11,
     "metadata": {},
     "output_type": "execute_result"
    }
   ],
   "source": [
    "# Create a 10-digit number whose sum is 50\n",
    "import random\n",
    "\n",
    "while True:\n",
    "    nbs = []\n",
    "    \n",
    "    for i in range(10): # Create a list of 10 numbers\n",
    "        nbs.append(random.randint(0, 9))\n",
    "    \n",
    "    if sum(nbs) == 50:\n",
    "        break # Stop while loop when total is 50\n",
    "\n",
    "# Transform the list of integers to a list of strings\n",
    "str_nbs = [str(nb) for nb in nbs]\n",
    "\n",
    "# Concatenate elements of the list\n",
    "('').join(str_nbs)\n"
   ]
  },
  {
   "cell_type": "code",
   "execution_count": null,
   "id": "6b6150be",
   "metadata": {},
   "outputs": [],
   "source": []
  }
 ],
 "metadata": {
  "kernelspec": {
   "display_name": "Python 3 (ipykernel)",
   "language": "python",
   "name": "python3"
  },
  "language_info": {
   "codemirror_mode": {
    "name": "ipython",
    "version": 3
   },
   "file_extension": ".py",
   "mimetype": "text/x-python",
   "name": "python",
   "nbconvert_exporter": "python",
   "pygments_lexer": "ipython3",
   "version": "3.9.7"
  }
 },
 "nbformat": 4,
 "nbformat_minor": 5
}
