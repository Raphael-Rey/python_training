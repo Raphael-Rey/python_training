{
 "cells": [
  {
   "cell_type": "markdown",
   "id": "3434c116",
   "metadata": {},
   "source": [
    "# Python training: some basics 2 - Exercise"
   ]
  },
  {
   "cell_type": "code",
   "execution_count": null,
   "id": "df77d8d3",
   "metadata": {},
   "outputs": [],
   "source": [
    "# Split this string by \"_\" and the merge it with \"-\"\n",
    "v1 = '1_29_201_32'"
   ]
  },
  {
   "cell_type": "code",
   "execution_count": null,
   "id": "1b469f7c",
   "metadata": {},
   "outputs": [],
   "source": [
    "# Make the same operation with replace"
   ]
  },
  {
   "cell_type": "code",
   "execution_count": null,
   "id": "35e09f15",
   "metadata": {},
   "outputs": [],
   "source": [
    "# Add 1 to the third element of the list, print the result as str."
   ]
  },
  {
   "cell_type": "code",
   "execution_count": null,
   "id": "0f29f5cc",
   "metadata": {},
   "outputs": [],
   "source": [
    "# Invert lower and upper case of a string \"abCdE\" => \"ABcDe\"\n",
    "v2 = 'aFEwPesY'"
   ]
  },
  {
   "cell_type": "code",
   "execution_count": null,
   "id": "88bff7ca",
   "metadata": {},
   "outputs": [],
   "source": [
    "# Create a 10-digit number whose sum is 50"
   ]
  }
 ],
 "metadata": {
  "kernelspec": {
   "display_name": "Python 3 (ipykernel)",
   "language": "python",
   "name": "python3"
  },
  "language_info": {
   "codemirror_mode": {
    "name": "ipython",
    "version": 3
   },
   "file_extension": ".py",
   "mimetype": "text/x-python",
   "name": "python",
   "nbconvert_exporter": "python",
   "pygments_lexer": "ipython3",
   "version": "3.9.7"
  }
 },
 "nbformat": 4,
 "nbformat_minor": 5
}
